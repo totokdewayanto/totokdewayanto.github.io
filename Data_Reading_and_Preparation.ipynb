{
  "cells": [
    {
      "cell_type": "markdown",
      "metadata": {
        "id": "view-in-github",
        "colab_type": "text"
      },
      "source": [
        "<a href=\"https://colab.research.google.com/github/totokdewayanto/totokdewayanto.github.io/blob/main/Data_Reading_and_Preparation.ipynb\" target=\"_parent\"><img src=\"https://colab.research.google.com/assets/colab-badge.svg\" alt=\"Open In Colab\"/></a>"
      ]
    },
    {
      "cell_type": "code",
      "execution_count": null,
      "id": "6e39e2cb",
      "metadata": {
        "id": "6e39e2cb"
      },
      "outputs": [],
      "source": [
        "import pandas as pd"
      ]
    },
    {
      "cell_type": "code",
      "execution_count": null,
      "id": "88ea7d4a",
      "metadata": {
        "id": "88ea7d4a"
      },
      "outputs": [],
      "source": [
        "credit_card_data = pd.read_csv('creditcard.csv')"
      ]
    },
    {
      "cell_type": "code",
      "execution_count": null,
      "id": "22dca8ac",
      "metadata": {
        "id": "22dca8ac",
        "outputId": "3eb8be2f-06fd-46d7-a3f2-ffdf7cb4f366"
      },
      "outputs": [
        {
          "name": "stdout",
          "output_type": "stream",
          "text": [
            "Now the Dataset is ready to use\n"
          ]
        }
      ],
      "source": [
        "print('Now the Dataset is ready to use')"
      ]
    },
    {
      "cell_type": "code",
      "execution_count": null,
      "id": "d80dc63b",
      "metadata": {
        "scrolled": true,
        "id": "d80dc63b",
        "outputId": "acfd243c-0e81-4689-e686-7857b4d35cd0"
      },
      "outputs": [
        {
          "data": {
            "text/html": [
              "<div>\n",
              "<style scoped>\n",
              "    .dataframe tbody tr th:only-of-type {\n",
              "        vertical-align: middle;\n",
              "    }\n",
              "\n",
              "    .dataframe tbody tr th {\n",
              "        vertical-align: top;\n",
              "    }\n",
              "\n",
              "    .dataframe thead th {\n",
              "        text-align: right;\n",
              "    }\n",
              "</style>\n",
              "<table border=\"1\" class=\"dataframe\">\n",
              "  <thead>\n",
              "    <tr style=\"text-align: right;\">\n",
              "      <th></th>\n",
              "      <th>Time</th>\n",
              "      <th>V1</th>\n",
              "      <th>V2</th>\n",
              "      <th>V3</th>\n",
              "      <th>V4</th>\n",
              "      <th>V5</th>\n",
              "      <th>V6</th>\n",
              "      <th>V7</th>\n",
              "      <th>V8</th>\n",
              "      <th>V9</th>\n",
              "      <th>...</th>\n",
              "      <th>V21</th>\n",
              "      <th>V22</th>\n",
              "      <th>V23</th>\n",
              "      <th>V24</th>\n",
              "      <th>V25</th>\n",
              "      <th>V26</th>\n",
              "      <th>V27</th>\n",
              "      <th>V28</th>\n",
              "      <th>Amount</th>\n",
              "      <th>Class</th>\n",
              "    </tr>\n",
              "  </thead>\n",
              "  <tbody>\n",
              "    <tr>\n",
              "      <th>0</th>\n",
              "      <td>0.0</td>\n",
              "      <td>-1.359807</td>\n",
              "      <td>-0.072781</td>\n",
              "      <td>2.536347</td>\n",
              "      <td>1.378155</td>\n",
              "      <td>-0.338321</td>\n",
              "      <td>0.462388</td>\n",
              "      <td>0.239599</td>\n",
              "      <td>0.098698</td>\n",
              "      <td>0.363787</td>\n",
              "      <td>...</td>\n",
              "      <td>-0.018307</td>\n",
              "      <td>0.277838</td>\n",
              "      <td>-0.110474</td>\n",
              "      <td>0.066928</td>\n",
              "      <td>0.128539</td>\n",
              "      <td>-0.189115</td>\n",
              "      <td>0.133558</td>\n",
              "      <td>-0.021053</td>\n",
              "      <td>149.62</td>\n",
              "      <td>0</td>\n",
              "    </tr>\n",
              "    <tr>\n",
              "      <th>1</th>\n",
              "      <td>0.0</td>\n",
              "      <td>1.191857</td>\n",
              "      <td>0.266151</td>\n",
              "      <td>0.166480</td>\n",
              "      <td>0.448154</td>\n",
              "      <td>0.060018</td>\n",
              "      <td>-0.082361</td>\n",
              "      <td>-0.078803</td>\n",
              "      <td>0.085102</td>\n",
              "      <td>-0.255425</td>\n",
              "      <td>...</td>\n",
              "      <td>-0.225775</td>\n",
              "      <td>-0.638672</td>\n",
              "      <td>0.101288</td>\n",
              "      <td>-0.339846</td>\n",
              "      <td>0.167170</td>\n",
              "      <td>0.125895</td>\n",
              "      <td>-0.008983</td>\n",
              "      <td>0.014724</td>\n",
              "      <td>2.69</td>\n",
              "      <td>0</td>\n",
              "    </tr>\n",
              "    <tr>\n",
              "      <th>2</th>\n",
              "      <td>1.0</td>\n",
              "      <td>-1.358354</td>\n",
              "      <td>-1.340163</td>\n",
              "      <td>1.773209</td>\n",
              "      <td>0.379780</td>\n",
              "      <td>-0.503198</td>\n",
              "      <td>1.800499</td>\n",
              "      <td>0.791461</td>\n",
              "      <td>0.247676</td>\n",
              "      <td>-1.514654</td>\n",
              "      <td>...</td>\n",
              "      <td>0.247998</td>\n",
              "      <td>0.771679</td>\n",
              "      <td>0.909412</td>\n",
              "      <td>-0.689281</td>\n",
              "      <td>-0.327642</td>\n",
              "      <td>-0.139097</td>\n",
              "      <td>-0.055353</td>\n",
              "      <td>-0.059752</td>\n",
              "      <td>378.66</td>\n",
              "      <td>0</td>\n",
              "    </tr>\n",
              "    <tr>\n",
              "      <th>3</th>\n",
              "      <td>1.0</td>\n",
              "      <td>-0.966272</td>\n",
              "      <td>-0.185226</td>\n",
              "      <td>1.792993</td>\n",
              "      <td>-0.863291</td>\n",
              "      <td>-0.010309</td>\n",
              "      <td>1.247203</td>\n",
              "      <td>0.237609</td>\n",
              "      <td>0.377436</td>\n",
              "      <td>-1.387024</td>\n",
              "      <td>...</td>\n",
              "      <td>-0.108300</td>\n",
              "      <td>0.005274</td>\n",
              "      <td>-0.190321</td>\n",
              "      <td>-1.175575</td>\n",
              "      <td>0.647376</td>\n",
              "      <td>-0.221929</td>\n",
              "      <td>0.062723</td>\n",
              "      <td>0.061458</td>\n",
              "      <td>123.50</td>\n",
              "      <td>0</td>\n",
              "    </tr>\n",
              "    <tr>\n",
              "      <th>4</th>\n",
              "      <td>2.0</td>\n",
              "      <td>-1.158233</td>\n",
              "      <td>0.877737</td>\n",
              "      <td>1.548718</td>\n",
              "      <td>0.403034</td>\n",
              "      <td>-0.407193</td>\n",
              "      <td>0.095921</td>\n",
              "      <td>0.592941</td>\n",
              "      <td>-0.270533</td>\n",
              "      <td>0.817739</td>\n",
              "      <td>...</td>\n",
              "      <td>-0.009431</td>\n",
              "      <td>0.798278</td>\n",
              "      <td>-0.137458</td>\n",
              "      <td>0.141267</td>\n",
              "      <td>-0.206010</td>\n",
              "      <td>0.502292</td>\n",
              "      <td>0.219422</td>\n",
              "      <td>0.215153</td>\n",
              "      <td>69.99</td>\n",
              "      <td>0</td>\n",
              "    </tr>\n",
              "  </tbody>\n",
              "</table>\n",
              "<p>5 rows × 31 columns</p>\n",
              "</div>"
            ],
            "text/plain": [
              "   Time        V1        V2        V3        V4        V5        V6        V7  \\\n",
              "0   0.0 -1.359807 -0.072781  2.536347  1.378155 -0.338321  0.462388  0.239599   \n",
              "1   0.0  1.191857  0.266151  0.166480  0.448154  0.060018 -0.082361 -0.078803   \n",
              "2   1.0 -1.358354 -1.340163  1.773209  0.379780 -0.503198  1.800499  0.791461   \n",
              "3   1.0 -0.966272 -0.185226  1.792993 -0.863291 -0.010309  1.247203  0.237609   \n",
              "4   2.0 -1.158233  0.877737  1.548718  0.403034 -0.407193  0.095921  0.592941   \n",
              "\n",
              "         V8        V9  ...       V21       V22       V23       V24       V25  \\\n",
              "0  0.098698  0.363787  ... -0.018307  0.277838 -0.110474  0.066928  0.128539   \n",
              "1  0.085102 -0.255425  ... -0.225775 -0.638672  0.101288 -0.339846  0.167170   \n",
              "2  0.247676 -1.514654  ...  0.247998  0.771679  0.909412 -0.689281 -0.327642   \n",
              "3  0.377436 -1.387024  ... -0.108300  0.005274 -0.190321 -1.175575  0.647376   \n",
              "4 -0.270533  0.817739  ... -0.009431  0.798278 -0.137458  0.141267 -0.206010   \n",
              "\n",
              "        V26       V27       V28  Amount  Class  \n",
              "0 -0.189115  0.133558 -0.021053  149.62      0  \n",
              "1  0.125895 -0.008983  0.014724    2.69      0  \n",
              "2 -0.139097 -0.055353 -0.059752  378.66      0  \n",
              "3 -0.221929  0.062723  0.061458  123.50      0  \n",
              "4  0.502292  0.219422  0.215153   69.99      0  \n",
              "\n",
              "[5 rows x 31 columns]"
            ]
          },
          "execution_count": 4,
          "metadata": {},
          "output_type": "execute_result"
        }
      ],
      "source": [
        "credit_card_data.head()"
      ]
    },
    {
      "cell_type": "code",
      "execution_count": null,
      "id": "cb1984cb",
      "metadata": {
        "id": "cb1984cb"
      },
      "outputs": [],
      "source": [
        "fraud_activity_data = credit_card_data[credit_card_data['Class'] == 1]"
      ]
    },
    {
      "cell_type": "code",
      "execution_count": null,
      "id": "c5608323",
      "metadata": {
        "id": "c5608323",
        "outputId": "20d77b85-1933-402f-909a-f922127f6914"
      },
      "outputs": [
        {
          "data": {
            "text/html": [
              "<div>\n",
              "<style scoped>\n",
              "    .dataframe tbody tr th:only-of-type {\n",
              "        vertical-align: middle;\n",
              "    }\n",
              "\n",
              "    .dataframe tbody tr th {\n",
              "        vertical-align: top;\n",
              "    }\n",
              "\n",
              "    .dataframe thead th {\n",
              "        text-align: right;\n",
              "    }\n",
              "</style>\n",
              "<table border=\"1\" class=\"dataframe\">\n",
              "  <thead>\n",
              "    <tr style=\"text-align: right;\">\n",
              "      <th></th>\n",
              "      <th>Time</th>\n",
              "      <th>V1</th>\n",
              "      <th>V2</th>\n",
              "      <th>V3</th>\n",
              "      <th>V4</th>\n",
              "      <th>V5</th>\n",
              "      <th>V6</th>\n",
              "      <th>V7</th>\n",
              "      <th>V8</th>\n",
              "      <th>V9</th>\n",
              "      <th>...</th>\n",
              "      <th>V21</th>\n",
              "      <th>V22</th>\n",
              "      <th>V23</th>\n",
              "      <th>V24</th>\n",
              "      <th>V25</th>\n",
              "      <th>V26</th>\n",
              "      <th>V27</th>\n",
              "      <th>V28</th>\n",
              "      <th>Amount</th>\n",
              "      <th>Class</th>\n",
              "    </tr>\n",
              "  </thead>\n",
              "  <tbody>\n",
              "    <tr>\n",
              "      <th>541</th>\n",
              "      <td>406.0</td>\n",
              "      <td>-2.312227</td>\n",
              "      <td>1.951992</td>\n",
              "      <td>-1.609851</td>\n",
              "      <td>3.997906</td>\n",
              "      <td>-0.522188</td>\n",
              "      <td>-1.426545</td>\n",
              "      <td>-2.537387</td>\n",
              "      <td>1.391657</td>\n",
              "      <td>-2.770089</td>\n",
              "      <td>...</td>\n",
              "      <td>0.517232</td>\n",
              "      <td>-0.035049</td>\n",
              "      <td>-0.465211</td>\n",
              "      <td>0.320198</td>\n",
              "      <td>0.044519</td>\n",
              "      <td>0.177840</td>\n",
              "      <td>0.261145</td>\n",
              "      <td>-0.143276</td>\n",
              "      <td>0.00</td>\n",
              "      <td>1</td>\n",
              "    </tr>\n",
              "    <tr>\n",
              "      <th>623</th>\n",
              "      <td>472.0</td>\n",
              "      <td>-3.043541</td>\n",
              "      <td>-3.157307</td>\n",
              "      <td>1.088463</td>\n",
              "      <td>2.288644</td>\n",
              "      <td>1.359805</td>\n",
              "      <td>-1.064823</td>\n",
              "      <td>0.325574</td>\n",
              "      <td>-0.067794</td>\n",
              "      <td>-0.270953</td>\n",
              "      <td>...</td>\n",
              "      <td>0.661696</td>\n",
              "      <td>0.435477</td>\n",
              "      <td>1.375966</td>\n",
              "      <td>-0.293803</td>\n",
              "      <td>0.279798</td>\n",
              "      <td>-0.145362</td>\n",
              "      <td>-0.252773</td>\n",
              "      <td>0.035764</td>\n",
              "      <td>529.00</td>\n",
              "      <td>1</td>\n",
              "    </tr>\n",
              "    <tr>\n",
              "      <th>4920</th>\n",
              "      <td>4462.0</td>\n",
              "      <td>-2.303350</td>\n",
              "      <td>1.759247</td>\n",
              "      <td>-0.359745</td>\n",
              "      <td>2.330243</td>\n",
              "      <td>-0.821628</td>\n",
              "      <td>-0.075788</td>\n",
              "      <td>0.562320</td>\n",
              "      <td>-0.399147</td>\n",
              "      <td>-0.238253</td>\n",
              "      <td>...</td>\n",
              "      <td>-0.294166</td>\n",
              "      <td>-0.932391</td>\n",
              "      <td>0.172726</td>\n",
              "      <td>-0.087330</td>\n",
              "      <td>-0.156114</td>\n",
              "      <td>-0.542628</td>\n",
              "      <td>0.039566</td>\n",
              "      <td>-0.153029</td>\n",
              "      <td>239.93</td>\n",
              "      <td>1</td>\n",
              "    </tr>\n",
              "    <tr>\n",
              "      <th>6108</th>\n",
              "      <td>6986.0</td>\n",
              "      <td>-4.397974</td>\n",
              "      <td>1.358367</td>\n",
              "      <td>-2.592844</td>\n",
              "      <td>2.679787</td>\n",
              "      <td>-1.128131</td>\n",
              "      <td>-1.706536</td>\n",
              "      <td>-3.496197</td>\n",
              "      <td>-0.248778</td>\n",
              "      <td>-0.247768</td>\n",
              "      <td>...</td>\n",
              "      <td>0.573574</td>\n",
              "      <td>0.176968</td>\n",
              "      <td>-0.436207</td>\n",
              "      <td>-0.053502</td>\n",
              "      <td>0.252405</td>\n",
              "      <td>-0.657488</td>\n",
              "      <td>-0.827136</td>\n",
              "      <td>0.849573</td>\n",
              "      <td>59.00</td>\n",
              "      <td>1</td>\n",
              "    </tr>\n",
              "    <tr>\n",
              "      <th>6329</th>\n",
              "      <td>7519.0</td>\n",
              "      <td>1.234235</td>\n",
              "      <td>3.019740</td>\n",
              "      <td>-4.304597</td>\n",
              "      <td>4.732795</td>\n",
              "      <td>3.624201</td>\n",
              "      <td>-1.357746</td>\n",
              "      <td>1.713445</td>\n",
              "      <td>-0.496358</td>\n",
              "      <td>-1.282858</td>\n",
              "      <td>...</td>\n",
              "      <td>-0.379068</td>\n",
              "      <td>-0.704181</td>\n",
              "      <td>-0.656805</td>\n",
              "      <td>-1.632653</td>\n",
              "      <td>1.488901</td>\n",
              "      <td>0.566797</td>\n",
              "      <td>-0.010016</td>\n",
              "      <td>0.146793</td>\n",
              "      <td>1.00</td>\n",
              "      <td>1</td>\n",
              "    </tr>\n",
              "  </tbody>\n",
              "</table>\n",
              "<p>5 rows × 31 columns</p>\n",
              "</div>"
            ],
            "text/plain": [
              "        Time        V1        V2        V3        V4        V5        V6  \\\n",
              "541    406.0 -2.312227  1.951992 -1.609851  3.997906 -0.522188 -1.426545   \n",
              "623    472.0 -3.043541 -3.157307  1.088463  2.288644  1.359805 -1.064823   \n",
              "4920  4462.0 -2.303350  1.759247 -0.359745  2.330243 -0.821628 -0.075788   \n",
              "6108  6986.0 -4.397974  1.358367 -2.592844  2.679787 -1.128131 -1.706536   \n",
              "6329  7519.0  1.234235  3.019740 -4.304597  4.732795  3.624201 -1.357746   \n",
              "\n",
              "            V7        V8        V9  ...       V21       V22       V23  \\\n",
              "541  -2.537387  1.391657 -2.770089  ...  0.517232 -0.035049 -0.465211   \n",
              "623   0.325574 -0.067794 -0.270953  ...  0.661696  0.435477  1.375966   \n",
              "4920  0.562320 -0.399147 -0.238253  ... -0.294166 -0.932391  0.172726   \n",
              "6108 -3.496197 -0.248778 -0.247768  ...  0.573574  0.176968 -0.436207   \n",
              "6329  1.713445 -0.496358 -1.282858  ... -0.379068 -0.704181 -0.656805   \n",
              "\n",
              "           V24       V25       V26       V27       V28  Amount  Class  \n",
              "541   0.320198  0.044519  0.177840  0.261145 -0.143276    0.00      1  \n",
              "623  -0.293803  0.279798 -0.145362 -0.252773  0.035764  529.00      1  \n",
              "4920 -0.087330 -0.156114 -0.542628  0.039566 -0.153029  239.93      1  \n",
              "6108 -0.053502  0.252405 -0.657488 -0.827136  0.849573   59.00      1  \n",
              "6329 -1.632653  1.488901  0.566797 -0.010016  0.146793    1.00      1  \n",
              "\n",
              "[5 rows x 31 columns]"
            ]
          },
          "execution_count": 6,
          "metadata": {},
          "output_type": "execute_result"
        }
      ],
      "source": [
        "fraud_activity_data.head()"
      ]
    },
    {
      "cell_type": "code",
      "execution_count": null,
      "id": "2acfeaa7",
      "metadata": {
        "id": "2acfeaa7"
      },
      "outputs": [],
      "source": [
        "not_fraud_data = credit_card_data[credit_card_data['Class'] != 1]"
      ]
    },
    {
      "cell_type": "code",
      "execution_count": null,
      "id": "0c49a028",
      "metadata": {
        "id": "0c49a028",
        "outputId": "fbd8c029-d1e1-4a48-8448-7c66656a67dc"
      },
      "outputs": [
        {
          "data": {
            "text/html": [
              "<div>\n",
              "<style scoped>\n",
              "    .dataframe tbody tr th:only-of-type {\n",
              "        vertical-align: middle;\n",
              "    }\n",
              "\n",
              "    .dataframe tbody tr th {\n",
              "        vertical-align: top;\n",
              "    }\n",
              "\n",
              "    .dataframe thead th {\n",
              "        text-align: right;\n",
              "    }\n",
              "</style>\n",
              "<table border=\"1\" class=\"dataframe\">\n",
              "  <thead>\n",
              "    <tr style=\"text-align: right;\">\n",
              "      <th></th>\n",
              "      <th>Time</th>\n",
              "      <th>V1</th>\n",
              "      <th>V2</th>\n",
              "      <th>V3</th>\n",
              "      <th>V4</th>\n",
              "      <th>V5</th>\n",
              "      <th>V6</th>\n",
              "      <th>V7</th>\n",
              "      <th>V8</th>\n",
              "      <th>V9</th>\n",
              "      <th>...</th>\n",
              "      <th>V21</th>\n",
              "      <th>V22</th>\n",
              "      <th>V23</th>\n",
              "      <th>V24</th>\n",
              "      <th>V25</th>\n",
              "      <th>V26</th>\n",
              "      <th>V27</th>\n",
              "      <th>V28</th>\n",
              "      <th>Amount</th>\n",
              "      <th>Class</th>\n",
              "    </tr>\n",
              "  </thead>\n",
              "  <tbody>\n",
              "    <tr>\n",
              "      <th>0</th>\n",
              "      <td>0.0</td>\n",
              "      <td>-1.359807</td>\n",
              "      <td>-0.072781</td>\n",
              "      <td>2.536347</td>\n",
              "      <td>1.378155</td>\n",
              "      <td>-0.338321</td>\n",
              "      <td>0.462388</td>\n",
              "      <td>0.239599</td>\n",
              "      <td>0.098698</td>\n",
              "      <td>0.363787</td>\n",
              "      <td>...</td>\n",
              "      <td>-0.018307</td>\n",
              "      <td>0.277838</td>\n",
              "      <td>-0.110474</td>\n",
              "      <td>0.066928</td>\n",
              "      <td>0.128539</td>\n",
              "      <td>-0.189115</td>\n",
              "      <td>0.133558</td>\n",
              "      <td>-0.021053</td>\n",
              "      <td>149.62</td>\n",
              "      <td>0</td>\n",
              "    </tr>\n",
              "    <tr>\n",
              "      <th>1</th>\n",
              "      <td>0.0</td>\n",
              "      <td>1.191857</td>\n",
              "      <td>0.266151</td>\n",
              "      <td>0.166480</td>\n",
              "      <td>0.448154</td>\n",
              "      <td>0.060018</td>\n",
              "      <td>-0.082361</td>\n",
              "      <td>-0.078803</td>\n",
              "      <td>0.085102</td>\n",
              "      <td>-0.255425</td>\n",
              "      <td>...</td>\n",
              "      <td>-0.225775</td>\n",
              "      <td>-0.638672</td>\n",
              "      <td>0.101288</td>\n",
              "      <td>-0.339846</td>\n",
              "      <td>0.167170</td>\n",
              "      <td>0.125895</td>\n",
              "      <td>-0.008983</td>\n",
              "      <td>0.014724</td>\n",
              "      <td>2.69</td>\n",
              "      <td>0</td>\n",
              "    </tr>\n",
              "    <tr>\n",
              "      <th>2</th>\n",
              "      <td>1.0</td>\n",
              "      <td>-1.358354</td>\n",
              "      <td>-1.340163</td>\n",
              "      <td>1.773209</td>\n",
              "      <td>0.379780</td>\n",
              "      <td>-0.503198</td>\n",
              "      <td>1.800499</td>\n",
              "      <td>0.791461</td>\n",
              "      <td>0.247676</td>\n",
              "      <td>-1.514654</td>\n",
              "      <td>...</td>\n",
              "      <td>0.247998</td>\n",
              "      <td>0.771679</td>\n",
              "      <td>0.909412</td>\n",
              "      <td>-0.689281</td>\n",
              "      <td>-0.327642</td>\n",
              "      <td>-0.139097</td>\n",
              "      <td>-0.055353</td>\n",
              "      <td>-0.059752</td>\n",
              "      <td>378.66</td>\n",
              "      <td>0</td>\n",
              "    </tr>\n",
              "    <tr>\n",
              "      <th>3</th>\n",
              "      <td>1.0</td>\n",
              "      <td>-0.966272</td>\n",
              "      <td>-0.185226</td>\n",
              "      <td>1.792993</td>\n",
              "      <td>-0.863291</td>\n",
              "      <td>-0.010309</td>\n",
              "      <td>1.247203</td>\n",
              "      <td>0.237609</td>\n",
              "      <td>0.377436</td>\n",
              "      <td>-1.387024</td>\n",
              "      <td>...</td>\n",
              "      <td>-0.108300</td>\n",
              "      <td>0.005274</td>\n",
              "      <td>-0.190321</td>\n",
              "      <td>-1.175575</td>\n",
              "      <td>0.647376</td>\n",
              "      <td>-0.221929</td>\n",
              "      <td>0.062723</td>\n",
              "      <td>0.061458</td>\n",
              "      <td>123.50</td>\n",
              "      <td>0</td>\n",
              "    </tr>\n",
              "    <tr>\n",
              "      <th>4</th>\n",
              "      <td>2.0</td>\n",
              "      <td>-1.158233</td>\n",
              "      <td>0.877737</td>\n",
              "      <td>1.548718</td>\n",
              "      <td>0.403034</td>\n",
              "      <td>-0.407193</td>\n",
              "      <td>0.095921</td>\n",
              "      <td>0.592941</td>\n",
              "      <td>-0.270533</td>\n",
              "      <td>0.817739</td>\n",
              "      <td>...</td>\n",
              "      <td>-0.009431</td>\n",
              "      <td>0.798278</td>\n",
              "      <td>-0.137458</td>\n",
              "      <td>0.141267</td>\n",
              "      <td>-0.206010</td>\n",
              "      <td>0.502292</td>\n",
              "      <td>0.219422</td>\n",
              "      <td>0.215153</td>\n",
              "      <td>69.99</td>\n",
              "      <td>0</td>\n",
              "    </tr>\n",
              "  </tbody>\n",
              "</table>\n",
              "<p>5 rows × 31 columns</p>\n",
              "</div>"
            ],
            "text/plain": [
              "   Time        V1        V2        V3        V4        V5        V6        V7  \\\n",
              "0   0.0 -1.359807 -0.072781  2.536347  1.378155 -0.338321  0.462388  0.239599   \n",
              "1   0.0  1.191857  0.266151  0.166480  0.448154  0.060018 -0.082361 -0.078803   \n",
              "2   1.0 -1.358354 -1.340163  1.773209  0.379780 -0.503198  1.800499  0.791461   \n",
              "3   1.0 -0.966272 -0.185226  1.792993 -0.863291 -0.010309  1.247203  0.237609   \n",
              "4   2.0 -1.158233  0.877737  1.548718  0.403034 -0.407193  0.095921  0.592941   \n",
              "\n",
              "         V8        V9  ...       V21       V22       V23       V24       V25  \\\n",
              "0  0.098698  0.363787  ... -0.018307  0.277838 -0.110474  0.066928  0.128539   \n",
              "1  0.085102 -0.255425  ... -0.225775 -0.638672  0.101288 -0.339846  0.167170   \n",
              "2  0.247676 -1.514654  ...  0.247998  0.771679  0.909412 -0.689281 -0.327642   \n",
              "3  0.377436 -1.387024  ... -0.108300  0.005274 -0.190321 -1.175575  0.647376   \n",
              "4 -0.270533  0.817739  ... -0.009431  0.798278 -0.137458  0.141267 -0.206010   \n",
              "\n",
              "        V26       V27       V28  Amount  Class  \n",
              "0 -0.189115  0.133558 -0.021053  149.62      0  \n",
              "1  0.125895 -0.008983  0.014724    2.69      0  \n",
              "2 -0.139097 -0.055353 -0.059752  378.66      0  \n",
              "3 -0.221929  0.062723  0.061458  123.50      0  \n",
              "4  0.502292  0.219422  0.215153   69.99      0  \n",
              "\n",
              "[5 rows x 31 columns]"
            ]
          },
          "execution_count": 8,
          "metadata": {},
          "output_type": "execute_result"
        }
      ],
      "source": [
        "not_fraud_data.head()"
      ]
    },
    {
      "cell_type": "code",
      "execution_count": null,
      "id": "df4db2f3",
      "metadata": {
        "id": "df4db2f3"
      },
      "outputs": [],
      "source": [
        "not_fraud_data = not_fraud_data.sample(frac=1) # frac = 1 means return all data after shuffeling"
      ]
    },
    {
      "cell_type": "code",
      "execution_count": null,
      "id": "71e3ee69",
      "metadata": {
        "id": "71e3ee69",
        "outputId": "912a5553-014a-499d-ce72-164972a6cb5f"
      },
      "outputs": [
        {
          "data": {
            "text/html": [
              "<div>\n",
              "<style scoped>\n",
              "    .dataframe tbody tr th:only-of-type {\n",
              "        vertical-align: middle;\n",
              "    }\n",
              "\n",
              "    .dataframe tbody tr th {\n",
              "        vertical-align: top;\n",
              "    }\n",
              "\n",
              "    .dataframe thead th {\n",
              "        text-align: right;\n",
              "    }\n",
              "</style>\n",
              "<table border=\"1\" class=\"dataframe\">\n",
              "  <thead>\n",
              "    <tr style=\"text-align: right;\">\n",
              "      <th></th>\n",
              "      <th>Time</th>\n",
              "      <th>V1</th>\n",
              "      <th>V2</th>\n",
              "      <th>V3</th>\n",
              "      <th>V4</th>\n",
              "      <th>V5</th>\n",
              "      <th>V6</th>\n",
              "      <th>V7</th>\n",
              "      <th>V8</th>\n",
              "      <th>V9</th>\n",
              "      <th>...</th>\n",
              "      <th>V21</th>\n",
              "      <th>V22</th>\n",
              "      <th>V23</th>\n",
              "      <th>V24</th>\n",
              "      <th>V25</th>\n",
              "      <th>V26</th>\n",
              "      <th>V27</th>\n",
              "      <th>V28</th>\n",
              "      <th>Amount</th>\n",
              "      <th>Class</th>\n",
              "    </tr>\n",
              "  </thead>\n",
              "  <tbody>\n",
              "    <tr>\n",
              "      <th>60896</th>\n",
              "      <td>49552.0</td>\n",
              "      <td>-0.865373</td>\n",
              "      <td>0.441461</td>\n",
              "      <td>0.673341</td>\n",
              "      <td>-0.132549</td>\n",
              "      <td>0.304138</td>\n",
              "      <td>1.785767</td>\n",
              "      <td>-0.466555</td>\n",
              "      <td>0.980213</td>\n",
              "      <td>-1.998480</td>\n",
              "      <td>...</td>\n",
              "      <td>0.112409</td>\n",
              "      <td>0.782729</td>\n",
              "      <td>-0.043061</td>\n",
              "      <td>-1.353950</td>\n",
              "      <td>-0.592301</td>\n",
              "      <td>-0.103126</td>\n",
              "      <td>0.027998</td>\n",
              "      <td>0.048356</td>\n",
              "      <td>23.74</td>\n",
              "      <td>0</td>\n",
              "    </tr>\n",
              "    <tr>\n",
              "      <th>222617</th>\n",
              "      <td>143053.0</td>\n",
              "      <td>2.109405</td>\n",
              "      <td>-0.111076</td>\n",
              "      <td>-2.013290</td>\n",
              "      <td>-0.295249</td>\n",
              "      <td>0.250028</td>\n",
              "      <td>-1.723671</td>\n",
              "      <td>0.645764</td>\n",
              "      <td>-0.558517</td>\n",
              "      <td>0.160882</td>\n",
              "      <td>...</td>\n",
              "      <td>0.058647</td>\n",
              "      <td>0.213102</td>\n",
              "      <td>0.054710</td>\n",
              "      <td>0.010785</td>\n",
              "      <td>0.052381</td>\n",
              "      <td>1.355462</td>\n",
              "      <td>-0.174779</td>\n",
              "      <td>-0.090293</td>\n",
              "      <td>24.99</td>\n",
              "      <td>0</td>\n",
              "    </tr>\n",
              "    <tr>\n",
              "      <th>145949</th>\n",
              "      <td>87300.0</td>\n",
              "      <td>-2.142050</td>\n",
              "      <td>1.215850</td>\n",
              "      <td>-1.772915</td>\n",
              "      <td>-2.789034</td>\n",
              "      <td>0.859624</td>\n",
              "      <td>-1.380750</td>\n",
              "      <td>1.018035</td>\n",
              "      <td>-0.723167</td>\n",
              "      <td>1.246763</td>\n",
              "      <td>...</td>\n",
              "      <td>0.689527</td>\n",
              "      <td>0.464608</td>\n",
              "      <td>0.271523</td>\n",
              "      <td>0.766325</td>\n",
              "      <td>-0.113342</td>\n",
              "      <td>0.448825</td>\n",
              "      <td>0.080630</td>\n",
              "      <td>-0.205221</td>\n",
              "      <td>8.00</td>\n",
              "      <td>0</td>\n",
              "    </tr>\n",
              "    <tr>\n",
              "      <th>104384</th>\n",
              "      <td>69043.0</td>\n",
              "      <td>-1.310371</td>\n",
              "      <td>0.788845</td>\n",
              "      <td>1.736048</td>\n",
              "      <td>0.188448</td>\n",
              "      <td>0.555024</td>\n",
              "      <td>0.035010</td>\n",
              "      <td>0.954708</td>\n",
              "      <td>-0.177498</td>\n",
              "      <td>-0.086274</td>\n",
              "      <td>...</td>\n",
              "      <td>0.024439</td>\n",
              "      <td>0.265736</td>\n",
              "      <td>-0.202051</td>\n",
              "      <td>0.214887</td>\n",
              "      <td>0.183617</td>\n",
              "      <td>-0.569571</td>\n",
              "      <td>-0.618334</td>\n",
              "      <td>-0.027568</td>\n",
              "      <td>20.88</td>\n",
              "      <td>0</td>\n",
              "    </tr>\n",
              "    <tr>\n",
              "      <th>124357</th>\n",
              "      <td>77265.0</td>\n",
              "      <td>-1.492643</td>\n",
              "      <td>-0.038862</td>\n",
              "      <td>0.926037</td>\n",
              "      <td>0.348363</td>\n",
              "      <td>0.113204</td>\n",
              "      <td>1.114753</td>\n",
              "      <td>0.110178</td>\n",
              "      <td>1.004165</td>\n",
              "      <td>-0.139676</td>\n",
              "      <td>...</td>\n",
              "      <td>0.099756</td>\n",
              "      <td>0.123929</td>\n",
              "      <td>0.434743</td>\n",
              "      <td>-0.637630</td>\n",
              "      <td>-0.232896</td>\n",
              "      <td>0.345474</td>\n",
              "      <td>0.152255</td>\n",
              "      <td>-0.068014</td>\n",
              "      <td>144.70</td>\n",
              "      <td>0</td>\n",
              "    </tr>\n",
              "  </tbody>\n",
              "</table>\n",
              "<p>5 rows × 31 columns</p>\n",
              "</div>"
            ],
            "text/plain": [
              "            Time        V1        V2        V3        V4        V5        V6  \\\n",
              "60896    49552.0 -0.865373  0.441461  0.673341 -0.132549  0.304138  1.785767   \n",
              "222617  143053.0  2.109405 -0.111076 -2.013290 -0.295249  0.250028 -1.723671   \n",
              "145949   87300.0 -2.142050  1.215850 -1.772915 -2.789034  0.859624 -1.380750   \n",
              "104384   69043.0 -1.310371  0.788845  1.736048  0.188448  0.555024  0.035010   \n",
              "124357   77265.0 -1.492643 -0.038862  0.926037  0.348363  0.113204  1.114753   \n",
              "\n",
              "              V7        V8        V9  ...       V21       V22       V23  \\\n",
              "60896  -0.466555  0.980213 -1.998480  ...  0.112409  0.782729 -0.043061   \n",
              "222617  0.645764 -0.558517  0.160882  ...  0.058647  0.213102  0.054710   \n",
              "145949  1.018035 -0.723167  1.246763  ...  0.689527  0.464608  0.271523   \n",
              "104384  0.954708 -0.177498 -0.086274  ...  0.024439  0.265736 -0.202051   \n",
              "124357  0.110178  1.004165 -0.139676  ...  0.099756  0.123929  0.434743   \n",
              "\n",
              "             V24       V25       V26       V27       V28  Amount  Class  \n",
              "60896  -1.353950 -0.592301 -0.103126  0.027998  0.048356   23.74      0  \n",
              "222617  0.010785  0.052381  1.355462 -0.174779 -0.090293   24.99      0  \n",
              "145949  0.766325 -0.113342  0.448825  0.080630 -0.205221    8.00      0  \n",
              "104384  0.214887  0.183617 -0.569571 -0.618334 -0.027568   20.88      0  \n",
              "124357 -0.637630 -0.232896  0.345474  0.152255 -0.068014  144.70      0  \n",
              "\n",
              "[5 rows x 31 columns]"
            ]
          },
          "execution_count": 10,
          "metadata": {},
          "output_type": "execute_result"
        }
      ],
      "source": [
        "not_fraud_data.head()"
      ]
    },
    {
      "cell_type": "code",
      "execution_count": null,
      "id": "0f35d017",
      "metadata": {
        "id": "0f35d017"
      },
      "outputs": [],
      "source": [
        "not_fraud_data.reset_index(inplace = True)"
      ]
    },
    {
      "cell_type": "code",
      "execution_count": null,
      "id": "13df1ba7",
      "metadata": {
        "id": "13df1ba7",
        "outputId": "d895752b-fee5-465a-db1c-8eef76e95636"
      },
      "outputs": [
        {
          "data": {
            "text/html": [
              "<div>\n",
              "<style scoped>\n",
              "    .dataframe tbody tr th:only-of-type {\n",
              "        vertical-align: middle;\n",
              "    }\n",
              "\n",
              "    .dataframe tbody tr th {\n",
              "        vertical-align: top;\n",
              "    }\n",
              "\n",
              "    .dataframe thead th {\n",
              "        text-align: right;\n",
              "    }\n",
              "</style>\n",
              "<table border=\"1\" class=\"dataframe\">\n",
              "  <thead>\n",
              "    <tr style=\"text-align: right;\">\n",
              "      <th></th>\n",
              "      <th>index</th>\n",
              "      <th>Time</th>\n",
              "      <th>V1</th>\n",
              "      <th>V2</th>\n",
              "      <th>V3</th>\n",
              "      <th>V4</th>\n",
              "      <th>V5</th>\n",
              "      <th>V6</th>\n",
              "      <th>V7</th>\n",
              "      <th>V8</th>\n",
              "      <th>...</th>\n",
              "      <th>V21</th>\n",
              "      <th>V22</th>\n",
              "      <th>V23</th>\n",
              "      <th>V24</th>\n",
              "      <th>V25</th>\n",
              "      <th>V26</th>\n",
              "      <th>V27</th>\n",
              "      <th>V28</th>\n",
              "      <th>Amount</th>\n",
              "      <th>Class</th>\n",
              "    </tr>\n",
              "  </thead>\n",
              "  <tbody>\n",
              "    <tr>\n",
              "      <th>0</th>\n",
              "      <td>60896</td>\n",
              "      <td>49552.0</td>\n",
              "      <td>-0.865373</td>\n",
              "      <td>0.441461</td>\n",
              "      <td>0.673341</td>\n",
              "      <td>-0.132549</td>\n",
              "      <td>0.304138</td>\n",
              "      <td>1.785767</td>\n",
              "      <td>-0.466555</td>\n",
              "      <td>0.980213</td>\n",
              "      <td>...</td>\n",
              "      <td>0.112409</td>\n",
              "      <td>0.782729</td>\n",
              "      <td>-0.043061</td>\n",
              "      <td>-1.353950</td>\n",
              "      <td>-0.592301</td>\n",
              "      <td>-0.103126</td>\n",
              "      <td>0.027998</td>\n",
              "      <td>0.048356</td>\n",
              "      <td>23.74</td>\n",
              "      <td>0</td>\n",
              "    </tr>\n",
              "    <tr>\n",
              "      <th>1</th>\n",
              "      <td>222617</td>\n",
              "      <td>143053.0</td>\n",
              "      <td>2.109405</td>\n",
              "      <td>-0.111076</td>\n",
              "      <td>-2.013290</td>\n",
              "      <td>-0.295249</td>\n",
              "      <td>0.250028</td>\n",
              "      <td>-1.723671</td>\n",
              "      <td>0.645764</td>\n",
              "      <td>-0.558517</td>\n",
              "      <td>...</td>\n",
              "      <td>0.058647</td>\n",
              "      <td>0.213102</td>\n",
              "      <td>0.054710</td>\n",
              "      <td>0.010785</td>\n",
              "      <td>0.052381</td>\n",
              "      <td>1.355462</td>\n",
              "      <td>-0.174779</td>\n",
              "      <td>-0.090293</td>\n",
              "      <td>24.99</td>\n",
              "      <td>0</td>\n",
              "    </tr>\n",
              "    <tr>\n",
              "      <th>2</th>\n",
              "      <td>145949</td>\n",
              "      <td>87300.0</td>\n",
              "      <td>-2.142050</td>\n",
              "      <td>1.215850</td>\n",
              "      <td>-1.772915</td>\n",
              "      <td>-2.789034</td>\n",
              "      <td>0.859624</td>\n",
              "      <td>-1.380750</td>\n",
              "      <td>1.018035</td>\n",
              "      <td>-0.723167</td>\n",
              "      <td>...</td>\n",
              "      <td>0.689527</td>\n",
              "      <td>0.464608</td>\n",
              "      <td>0.271523</td>\n",
              "      <td>0.766325</td>\n",
              "      <td>-0.113342</td>\n",
              "      <td>0.448825</td>\n",
              "      <td>0.080630</td>\n",
              "      <td>-0.205221</td>\n",
              "      <td>8.00</td>\n",
              "      <td>0</td>\n",
              "    </tr>\n",
              "    <tr>\n",
              "      <th>3</th>\n",
              "      <td>104384</td>\n",
              "      <td>69043.0</td>\n",
              "      <td>-1.310371</td>\n",
              "      <td>0.788845</td>\n",
              "      <td>1.736048</td>\n",
              "      <td>0.188448</td>\n",
              "      <td>0.555024</td>\n",
              "      <td>0.035010</td>\n",
              "      <td>0.954708</td>\n",
              "      <td>-0.177498</td>\n",
              "      <td>...</td>\n",
              "      <td>0.024439</td>\n",
              "      <td>0.265736</td>\n",
              "      <td>-0.202051</td>\n",
              "      <td>0.214887</td>\n",
              "      <td>0.183617</td>\n",
              "      <td>-0.569571</td>\n",
              "      <td>-0.618334</td>\n",
              "      <td>-0.027568</td>\n",
              "      <td>20.88</td>\n",
              "      <td>0</td>\n",
              "    </tr>\n",
              "    <tr>\n",
              "      <th>4</th>\n",
              "      <td>124357</td>\n",
              "      <td>77265.0</td>\n",
              "      <td>-1.492643</td>\n",
              "      <td>-0.038862</td>\n",
              "      <td>0.926037</td>\n",
              "      <td>0.348363</td>\n",
              "      <td>0.113204</td>\n",
              "      <td>1.114753</td>\n",
              "      <td>0.110178</td>\n",
              "      <td>1.004165</td>\n",
              "      <td>...</td>\n",
              "      <td>0.099756</td>\n",
              "      <td>0.123929</td>\n",
              "      <td>0.434743</td>\n",
              "      <td>-0.637630</td>\n",
              "      <td>-0.232896</td>\n",
              "      <td>0.345474</td>\n",
              "      <td>0.152255</td>\n",
              "      <td>-0.068014</td>\n",
              "      <td>144.70</td>\n",
              "      <td>0</td>\n",
              "    </tr>\n",
              "  </tbody>\n",
              "</table>\n",
              "<p>5 rows × 32 columns</p>\n",
              "</div>"
            ],
            "text/plain": [
              "    index      Time        V1        V2        V3        V4        V5  \\\n",
              "0   60896   49552.0 -0.865373  0.441461  0.673341 -0.132549  0.304138   \n",
              "1  222617  143053.0  2.109405 -0.111076 -2.013290 -0.295249  0.250028   \n",
              "2  145949   87300.0 -2.142050  1.215850 -1.772915 -2.789034  0.859624   \n",
              "3  104384   69043.0 -1.310371  0.788845  1.736048  0.188448  0.555024   \n",
              "4  124357   77265.0 -1.492643 -0.038862  0.926037  0.348363  0.113204   \n",
              "\n",
              "         V6        V7        V8  ...       V21       V22       V23       V24  \\\n",
              "0  1.785767 -0.466555  0.980213  ...  0.112409  0.782729 -0.043061 -1.353950   \n",
              "1 -1.723671  0.645764 -0.558517  ...  0.058647  0.213102  0.054710  0.010785   \n",
              "2 -1.380750  1.018035 -0.723167  ...  0.689527  0.464608  0.271523  0.766325   \n",
              "3  0.035010  0.954708 -0.177498  ...  0.024439  0.265736 -0.202051  0.214887   \n",
              "4  1.114753  0.110178  1.004165  ...  0.099756  0.123929  0.434743 -0.637630   \n",
              "\n",
              "        V25       V26       V27       V28  Amount  Class  \n",
              "0 -0.592301 -0.103126  0.027998  0.048356   23.74      0  \n",
              "1  0.052381  1.355462 -0.174779 -0.090293   24.99      0  \n",
              "2 -0.113342  0.448825  0.080630 -0.205221    8.00      0  \n",
              "3  0.183617 -0.569571 -0.618334 -0.027568   20.88      0  \n",
              "4 -0.232896  0.345474  0.152255 -0.068014  144.70      0  \n",
              "\n",
              "[5 rows x 32 columns]"
            ]
          },
          "execution_count": 12,
          "metadata": {},
          "output_type": "execute_result"
        }
      ],
      "source": [
        "not_fraud_data.head()"
      ]
    },
    {
      "cell_type": "code",
      "execution_count": null,
      "id": "05d5b9cd",
      "metadata": {
        "id": "05d5b9cd"
      },
      "outputs": [],
      "source": [
        "not_fraud_data.drop('index', axis = 1, inplace = True)"
      ]
    },
    {
      "cell_type": "code",
      "execution_count": null,
      "id": "c9c5b762",
      "metadata": {
        "id": "c9c5b762",
        "outputId": "a5643a85-fa69-465d-8d25-24a42f29ea3d"
      },
      "outputs": [
        {
          "data": {
            "text/html": [
              "<div>\n",
              "<style scoped>\n",
              "    .dataframe tbody tr th:only-of-type {\n",
              "        vertical-align: middle;\n",
              "    }\n",
              "\n",
              "    .dataframe tbody tr th {\n",
              "        vertical-align: top;\n",
              "    }\n",
              "\n",
              "    .dataframe thead th {\n",
              "        text-align: right;\n",
              "    }\n",
              "</style>\n",
              "<table border=\"1\" class=\"dataframe\">\n",
              "  <thead>\n",
              "    <tr style=\"text-align: right;\">\n",
              "      <th></th>\n",
              "      <th>Time</th>\n",
              "      <th>V1</th>\n",
              "      <th>V2</th>\n",
              "      <th>V3</th>\n",
              "      <th>V4</th>\n",
              "      <th>V5</th>\n",
              "      <th>V6</th>\n",
              "      <th>V7</th>\n",
              "      <th>V8</th>\n",
              "      <th>V9</th>\n",
              "      <th>...</th>\n",
              "      <th>V21</th>\n",
              "      <th>V22</th>\n",
              "      <th>V23</th>\n",
              "      <th>V24</th>\n",
              "      <th>V25</th>\n",
              "      <th>V26</th>\n",
              "      <th>V27</th>\n",
              "      <th>V28</th>\n",
              "      <th>Amount</th>\n",
              "      <th>Class</th>\n",
              "    </tr>\n",
              "  </thead>\n",
              "  <tbody>\n",
              "    <tr>\n",
              "      <th>0</th>\n",
              "      <td>49552.0</td>\n",
              "      <td>-0.865373</td>\n",
              "      <td>0.441461</td>\n",
              "      <td>0.673341</td>\n",
              "      <td>-0.132549</td>\n",
              "      <td>0.304138</td>\n",
              "      <td>1.785767</td>\n",
              "      <td>-0.466555</td>\n",
              "      <td>0.980213</td>\n",
              "      <td>-1.998480</td>\n",
              "      <td>...</td>\n",
              "      <td>0.112409</td>\n",
              "      <td>0.782729</td>\n",
              "      <td>-0.043061</td>\n",
              "      <td>-1.353950</td>\n",
              "      <td>-0.592301</td>\n",
              "      <td>-0.103126</td>\n",
              "      <td>0.027998</td>\n",
              "      <td>0.048356</td>\n",
              "      <td>23.74</td>\n",
              "      <td>0</td>\n",
              "    </tr>\n",
              "    <tr>\n",
              "      <th>1</th>\n",
              "      <td>143053.0</td>\n",
              "      <td>2.109405</td>\n",
              "      <td>-0.111076</td>\n",
              "      <td>-2.013290</td>\n",
              "      <td>-0.295249</td>\n",
              "      <td>0.250028</td>\n",
              "      <td>-1.723671</td>\n",
              "      <td>0.645764</td>\n",
              "      <td>-0.558517</td>\n",
              "      <td>0.160882</td>\n",
              "      <td>...</td>\n",
              "      <td>0.058647</td>\n",
              "      <td>0.213102</td>\n",
              "      <td>0.054710</td>\n",
              "      <td>0.010785</td>\n",
              "      <td>0.052381</td>\n",
              "      <td>1.355462</td>\n",
              "      <td>-0.174779</td>\n",
              "      <td>-0.090293</td>\n",
              "      <td>24.99</td>\n",
              "      <td>0</td>\n",
              "    </tr>\n",
              "    <tr>\n",
              "      <th>2</th>\n",
              "      <td>87300.0</td>\n",
              "      <td>-2.142050</td>\n",
              "      <td>1.215850</td>\n",
              "      <td>-1.772915</td>\n",
              "      <td>-2.789034</td>\n",
              "      <td>0.859624</td>\n",
              "      <td>-1.380750</td>\n",
              "      <td>1.018035</td>\n",
              "      <td>-0.723167</td>\n",
              "      <td>1.246763</td>\n",
              "      <td>...</td>\n",
              "      <td>0.689527</td>\n",
              "      <td>0.464608</td>\n",
              "      <td>0.271523</td>\n",
              "      <td>0.766325</td>\n",
              "      <td>-0.113342</td>\n",
              "      <td>0.448825</td>\n",
              "      <td>0.080630</td>\n",
              "      <td>-0.205221</td>\n",
              "      <td>8.00</td>\n",
              "      <td>0</td>\n",
              "    </tr>\n",
              "    <tr>\n",
              "      <th>3</th>\n",
              "      <td>69043.0</td>\n",
              "      <td>-1.310371</td>\n",
              "      <td>0.788845</td>\n",
              "      <td>1.736048</td>\n",
              "      <td>0.188448</td>\n",
              "      <td>0.555024</td>\n",
              "      <td>0.035010</td>\n",
              "      <td>0.954708</td>\n",
              "      <td>-0.177498</td>\n",
              "      <td>-0.086274</td>\n",
              "      <td>...</td>\n",
              "      <td>0.024439</td>\n",
              "      <td>0.265736</td>\n",
              "      <td>-0.202051</td>\n",
              "      <td>0.214887</td>\n",
              "      <td>0.183617</td>\n",
              "      <td>-0.569571</td>\n",
              "      <td>-0.618334</td>\n",
              "      <td>-0.027568</td>\n",
              "      <td>20.88</td>\n",
              "      <td>0</td>\n",
              "    </tr>\n",
              "    <tr>\n",
              "      <th>4</th>\n",
              "      <td>77265.0</td>\n",
              "      <td>-1.492643</td>\n",
              "      <td>-0.038862</td>\n",
              "      <td>0.926037</td>\n",
              "      <td>0.348363</td>\n",
              "      <td>0.113204</td>\n",
              "      <td>1.114753</td>\n",
              "      <td>0.110178</td>\n",
              "      <td>1.004165</td>\n",
              "      <td>-0.139676</td>\n",
              "      <td>...</td>\n",
              "      <td>0.099756</td>\n",
              "      <td>0.123929</td>\n",
              "      <td>0.434743</td>\n",
              "      <td>-0.637630</td>\n",
              "      <td>-0.232896</td>\n",
              "      <td>0.345474</td>\n",
              "      <td>0.152255</td>\n",
              "      <td>-0.068014</td>\n",
              "      <td>144.70</td>\n",
              "      <td>0</td>\n",
              "    </tr>\n",
              "  </tbody>\n",
              "</table>\n",
              "<p>5 rows × 31 columns</p>\n",
              "</div>"
            ],
            "text/plain": [
              "       Time        V1        V2        V3        V4        V5        V6  \\\n",
              "0   49552.0 -0.865373  0.441461  0.673341 -0.132549  0.304138  1.785767   \n",
              "1  143053.0  2.109405 -0.111076 -2.013290 -0.295249  0.250028 -1.723671   \n",
              "2   87300.0 -2.142050  1.215850 -1.772915 -2.789034  0.859624 -1.380750   \n",
              "3   69043.0 -1.310371  0.788845  1.736048  0.188448  0.555024  0.035010   \n",
              "4   77265.0 -1.492643 -0.038862  0.926037  0.348363  0.113204  1.114753   \n",
              "\n",
              "         V7        V8        V9  ...       V21       V22       V23       V24  \\\n",
              "0 -0.466555  0.980213 -1.998480  ...  0.112409  0.782729 -0.043061 -1.353950   \n",
              "1  0.645764 -0.558517  0.160882  ...  0.058647  0.213102  0.054710  0.010785   \n",
              "2  1.018035 -0.723167  1.246763  ...  0.689527  0.464608  0.271523  0.766325   \n",
              "3  0.954708 -0.177498 -0.086274  ...  0.024439  0.265736 -0.202051  0.214887   \n",
              "4  0.110178  1.004165 -0.139676  ...  0.099756  0.123929  0.434743 -0.637630   \n",
              "\n",
              "        V25       V26       V27       V28  Amount  Class  \n",
              "0 -0.592301 -0.103126  0.027998  0.048356   23.74      0  \n",
              "1  0.052381  1.355462 -0.174779 -0.090293   24.99      0  \n",
              "2 -0.113342  0.448825  0.080630 -0.205221    8.00      0  \n",
              "3  0.183617 -0.569571 -0.618334 -0.027568   20.88      0  \n",
              "4 -0.232896  0.345474  0.152255 -0.068014  144.70      0  \n",
              "\n",
              "[5 rows x 31 columns]"
            ]
          },
          "execution_count": 14,
          "metadata": {},
          "output_type": "execute_result"
        }
      ],
      "source": [
        "not_fraud_data.head()"
      ]
    },
    {
      "cell_type": "code",
      "execution_count": null,
      "id": "cd013953",
      "metadata": {
        "id": "cd013953"
      },
      "outputs": [],
      "source": [
        "not_fraud_data = not_fraud_data[:808]"
      ]
    },
    {
      "cell_type": "code",
      "execution_count": null,
      "id": "9409790d",
      "metadata": {
        "id": "9409790d",
        "outputId": "733c2235-2256-4820-f9f9-fd31b44ab1b5"
      },
      "outputs": [
        {
          "data": {
            "text/html": [
              "<div>\n",
              "<style scoped>\n",
              "    .dataframe tbody tr th:only-of-type {\n",
              "        vertical-align: middle;\n",
              "    }\n",
              "\n",
              "    .dataframe tbody tr th {\n",
              "        vertical-align: top;\n",
              "    }\n",
              "\n",
              "    .dataframe thead th {\n",
              "        text-align: right;\n",
              "    }\n",
              "</style>\n",
              "<table border=\"1\" class=\"dataframe\">\n",
              "  <thead>\n",
              "    <tr style=\"text-align: right;\">\n",
              "      <th></th>\n",
              "      <th>Time</th>\n",
              "      <th>V1</th>\n",
              "      <th>V2</th>\n",
              "      <th>V3</th>\n",
              "      <th>V4</th>\n",
              "      <th>V5</th>\n",
              "      <th>V6</th>\n",
              "      <th>V7</th>\n",
              "      <th>V8</th>\n",
              "      <th>V9</th>\n",
              "      <th>...</th>\n",
              "      <th>V21</th>\n",
              "      <th>V22</th>\n",
              "      <th>V23</th>\n",
              "      <th>V24</th>\n",
              "      <th>V25</th>\n",
              "      <th>V26</th>\n",
              "      <th>V27</th>\n",
              "      <th>V28</th>\n",
              "      <th>Amount</th>\n",
              "      <th>Class</th>\n",
              "    </tr>\n",
              "  </thead>\n",
              "  <tbody>\n",
              "    <tr>\n",
              "      <th>0</th>\n",
              "      <td>49552.0</td>\n",
              "      <td>-0.865373</td>\n",
              "      <td>0.441461</td>\n",
              "      <td>0.673341</td>\n",
              "      <td>-0.132549</td>\n",
              "      <td>0.304138</td>\n",
              "      <td>1.785767</td>\n",
              "      <td>-0.466555</td>\n",
              "      <td>0.980213</td>\n",
              "      <td>-1.998480</td>\n",
              "      <td>...</td>\n",
              "      <td>0.112409</td>\n",
              "      <td>0.782729</td>\n",
              "      <td>-0.043061</td>\n",
              "      <td>-1.353950</td>\n",
              "      <td>-0.592301</td>\n",
              "      <td>-0.103126</td>\n",
              "      <td>0.027998</td>\n",
              "      <td>0.048356</td>\n",
              "      <td>23.74</td>\n",
              "      <td>0</td>\n",
              "    </tr>\n",
              "    <tr>\n",
              "      <th>1</th>\n",
              "      <td>143053.0</td>\n",
              "      <td>2.109405</td>\n",
              "      <td>-0.111076</td>\n",
              "      <td>-2.013290</td>\n",
              "      <td>-0.295249</td>\n",
              "      <td>0.250028</td>\n",
              "      <td>-1.723671</td>\n",
              "      <td>0.645764</td>\n",
              "      <td>-0.558517</td>\n",
              "      <td>0.160882</td>\n",
              "      <td>...</td>\n",
              "      <td>0.058647</td>\n",
              "      <td>0.213102</td>\n",
              "      <td>0.054710</td>\n",
              "      <td>0.010785</td>\n",
              "      <td>0.052381</td>\n",
              "      <td>1.355462</td>\n",
              "      <td>-0.174779</td>\n",
              "      <td>-0.090293</td>\n",
              "      <td>24.99</td>\n",
              "      <td>0</td>\n",
              "    </tr>\n",
              "    <tr>\n",
              "      <th>2</th>\n",
              "      <td>87300.0</td>\n",
              "      <td>-2.142050</td>\n",
              "      <td>1.215850</td>\n",
              "      <td>-1.772915</td>\n",
              "      <td>-2.789034</td>\n",
              "      <td>0.859624</td>\n",
              "      <td>-1.380750</td>\n",
              "      <td>1.018035</td>\n",
              "      <td>-0.723167</td>\n",
              "      <td>1.246763</td>\n",
              "      <td>...</td>\n",
              "      <td>0.689527</td>\n",
              "      <td>0.464608</td>\n",
              "      <td>0.271523</td>\n",
              "      <td>0.766325</td>\n",
              "      <td>-0.113342</td>\n",
              "      <td>0.448825</td>\n",
              "      <td>0.080630</td>\n",
              "      <td>-0.205221</td>\n",
              "      <td>8.00</td>\n",
              "      <td>0</td>\n",
              "    </tr>\n",
              "    <tr>\n",
              "      <th>3</th>\n",
              "      <td>69043.0</td>\n",
              "      <td>-1.310371</td>\n",
              "      <td>0.788845</td>\n",
              "      <td>1.736048</td>\n",
              "      <td>0.188448</td>\n",
              "      <td>0.555024</td>\n",
              "      <td>0.035010</td>\n",
              "      <td>0.954708</td>\n",
              "      <td>-0.177498</td>\n",
              "      <td>-0.086274</td>\n",
              "      <td>...</td>\n",
              "      <td>0.024439</td>\n",
              "      <td>0.265736</td>\n",
              "      <td>-0.202051</td>\n",
              "      <td>0.214887</td>\n",
              "      <td>0.183617</td>\n",
              "      <td>-0.569571</td>\n",
              "      <td>-0.618334</td>\n",
              "      <td>-0.027568</td>\n",
              "      <td>20.88</td>\n",
              "      <td>0</td>\n",
              "    </tr>\n",
              "    <tr>\n",
              "      <th>4</th>\n",
              "      <td>77265.0</td>\n",
              "      <td>-1.492643</td>\n",
              "      <td>-0.038862</td>\n",
              "      <td>0.926037</td>\n",
              "      <td>0.348363</td>\n",
              "      <td>0.113204</td>\n",
              "      <td>1.114753</td>\n",
              "      <td>0.110178</td>\n",
              "      <td>1.004165</td>\n",
              "      <td>-0.139676</td>\n",
              "      <td>...</td>\n",
              "      <td>0.099756</td>\n",
              "      <td>0.123929</td>\n",
              "      <td>0.434743</td>\n",
              "      <td>-0.637630</td>\n",
              "      <td>-0.232896</td>\n",
              "      <td>0.345474</td>\n",
              "      <td>0.152255</td>\n",
              "      <td>-0.068014</td>\n",
              "      <td>144.70</td>\n",
              "      <td>0</td>\n",
              "    </tr>\n",
              "  </tbody>\n",
              "</table>\n",
              "<p>5 rows × 31 columns</p>\n",
              "</div>"
            ],
            "text/plain": [
              "       Time        V1        V2        V3        V4        V5        V6  \\\n",
              "0   49552.0 -0.865373  0.441461  0.673341 -0.132549  0.304138  1.785767   \n",
              "1  143053.0  2.109405 -0.111076 -2.013290 -0.295249  0.250028 -1.723671   \n",
              "2   87300.0 -2.142050  1.215850 -1.772915 -2.789034  0.859624 -1.380750   \n",
              "3   69043.0 -1.310371  0.788845  1.736048  0.188448  0.555024  0.035010   \n",
              "4   77265.0 -1.492643 -0.038862  0.926037  0.348363  0.113204  1.114753   \n",
              "\n",
              "         V7        V8        V9  ...       V21       V22       V23       V24  \\\n",
              "0 -0.466555  0.980213 -1.998480  ...  0.112409  0.782729 -0.043061 -1.353950   \n",
              "1  0.645764 -0.558517  0.160882  ...  0.058647  0.213102  0.054710  0.010785   \n",
              "2  1.018035 -0.723167  1.246763  ...  0.689527  0.464608  0.271523  0.766325   \n",
              "3  0.954708 -0.177498 -0.086274  ...  0.024439  0.265736 -0.202051  0.214887   \n",
              "4  0.110178  1.004165 -0.139676  ...  0.099756  0.123929  0.434743 -0.637630   \n",
              "\n",
              "        V25       V26       V27       V28  Amount  Class  \n",
              "0 -0.592301 -0.103126  0.027998  0.048356   23.74      0  \n",
              "1  0.052381  1.355462 -0.174779 -0.090293   24.99      0  \n",
              "2 -0.113342  0.448825  0.080630 -0.205221    8.00      0  \n",
              "3  0.183617 -0.569571 -0.618334 -0.027568   20.88      0  \n",
              "4 -0.232896  0.345474  0.152255 -0.068014  144.70      0  \n",
              "\n",
              "[5 rows x 31 columns]"
            ]
          },
          "execution_count": 16,
          "metadata": {},
          "output_type": "execute_result"
        }
      ],
      "source": [
        "not_fraud_data.head()"
      ]
    },
    {
      "cell_type": "code",
      "execution_count": null,
      "id": "c0a302ff",
      "metadata": {
        "id": "c0a302ff",
        "outputId": "7f9c68a1-5875-4e86-93e0-1b0e6e1fd873"
      },
      "outputs": [
        {
          "data": {
            "text/plain": [
              "808"
            ]
          },
          "execution_count": 17,
          "metadata": {},
          "output_type": "execute_result"
        }
      ],
      "source": [
        "len(not_fraud_data)"
      ]
    },
    {
      "cell_type": "code",
      "execution_count": null,
      "id": "84d1d399",
      "metadata": {
        "id": "84d1d399"
      },
      "outputs": [],
      "source": [
        "training_data_not_fraud = not_fraud_data.sample(frac=1)"
      ]
    },
    {
      "cell_type": "code",
      "execution_count": null,
      "id": "f5efe532",
      "metadata": {
        "id": "f5efe532"
      },
      "outputs": [],
      "source": [
        "training_data_not_fraud.reset_index(inplace = True)"
      ]
    },
    {
      "cell_type": "code",
      "execution_count": null,
      "id": "493763ea",
      "metadata": {
        "id": "493763ea"
      },
      "outputs": [],
      "source": [
        "training_data_not_fraud.drop('index', axis = 1, inplace = True)"
      ]
    },
    {
      "cell_type": "code",
      "execution_count": null,
      "id": "e2420538",
      "metadata": {
        "id": "e2420538",
        "outputId": "47ac4de1-672f-4619-b35f-80fbcc245295"
      },
      "outputs": [
        {
          "data": {
            "text/html": [
              "<div>\n",
              "<style scoped>\n",
              "    .dataframe tbody tr th:only-of-type {\n",
              "        vertical-align: middle;\n",
              "    }\n",
              "\n",
              "    .dataframe tbody tr th {\n",
              "        vertical-align: top;\n",
              "    }\n",
              "\n",
              "    .dataframe thead th {\n",
              "        text-align: right;\n",
              "    }\n",
              "</style>\n",
              "<table border=\"1\" class=\"dataframe\">\n",
              "  <thead>\n",
              "    <tr style=\"text-align: right;\">\n",
              "      <th></th>\n",
              "      <th>Time</th>\n",
              "      <th>V1</th>\n",
              "      <th>V2</th>\n",
              "      <th>V3</th>\n",
              "      <th>V4</th>\n",
              "      <th>V5</th>\n",
              "      <th>V6</th>\n",
              "      <th>V7</th>\n",
              "      <th>V8</th>\n",
              "      <th>V9</th>\n",
              "      <th>...</th>\n",
              "      <th>V21</th>\n",
              "      <th>V22</th>\n",
              "      <th>V23</th>\n",
              "      <th>V24</th>\n",
              "      <th>V25</th>\n",
              "      <th>V26</th>\n",
              "      <th>V27</th>\n",
              "      <th>V28</th>\n",
              "      <th>Amount</th>\n",
              "      <th>Class</th>\n",
              "    </tr>\n",
              "  </thead>\n",
              "  <tbody>\n",
              "    <tr>\n",
              "      <th>0</th>\n",
              "      <td>128433.0</td>\n",
              "      <td>1.987411</td>\n",
              "      <td>0.157662</td>\n",
              "      <td>-1.934784</td>\n",
              "      <td>1.255268</td>\n",
              "      <td>0.530538</td>\n",
              "      <td>-1.338695</td>\n",
              "      <td>0.798212</td>\n",
              "      <td>-0.456288</td>\n",
              "      <td>0.007357</td>\n",
              "      <td>...</td>\n",
              "      <td>0.131661</td>\n",
              "      <td>0.355737</td>\n",
              "      <td>-0.052472</td>\n",
              "      <td>-0.195753</td>\n",
              "      <td>0.428691</td>\n",
              "      <td>-0.472794</td>\n",
              "      <td>-0.044011</td>\n",
              "      <td>-0.060082</td>\n",
              "      <td>48.38</td>\n",
              "      <td>0</td>\n",
              "    </tr>\n",
              "    <tr>\n",
              "      <th>1</th>\n",
              "      <td>168049.0</td>\n",
              "      <td>2.093848</td>\n",
              "      <td>0.149644</td>\n",
              "      <td>-2.029330</td>\n",
              "      <td>0.087886</td>\n",
              "      <td>0.979876</td>\n",
              "      <td>-0.034876</td>\n",
              "      <td>0.125940</td>\n",
              "      <td>-0.085251</td>\n",
              "      <td>0.156443</td>\n",
              "      <td>...</td>\n",
              "      <td>-0.359746</td>\n",
              "      <td>-0.918636</td>\n",
              "      <td>0.208318</td>\n",
              "      <td>-0.367442</td>\n",
              "      <td>-0.141000</td>\n",
              "      <td>0.205271</td>\n",
              "      <td>-0.061756</td>\n",
              "      <td>-0.047494</td>\n",
              "      <td>1.98</td>\n",
              "      <td>0</td>\n",
              "    </tr>\n",
              "    <tr>\n",
              "      <th>2</th>\n",
              "      <td>5452.0</td>\n",
              "      <td>-0.702122</td>\n",
              "      <td>-0.578616</td>\n",
              "      <td>2.450987</td>\n",
              "      <td>-2.449754</td>\n",
              "      <td>-1.048672</td>\n",
              "      <td>-0.586581</td>\n",
              "      <td>-0.850591</td>\n",
              "      <td>0.159075</td>\n",
              "      <td>-0.890801</td>\n",
              "      <td>...</td>\n",
              "      <td>-0.120935</td>\n",
              "      <td>0.008315</td>\n",
              "      <td>-0.248272</td>\n",
              "      <td>0.200339</td>\n",
              "      <td>0.270612</td>\n",
              "      <td>-0.275452</td>\n",
              "      <td>0.009694</td>\n",
              "      <td>0.048076</td>\n",
              "      <td>6.00</td>\n",
              "      <td>0</td>\n",
              "    </tr>\n",
              "    <tr>\n",
              "      <th>3</th>\n",
              "      <td>7610.0</td>\n",
              "      <td>-0.420729</td>\n",
              "      <td>0.876246</td>\n",
              "      <td>1.846851</td>\n",
              "      <td>1.240651</td>\n",
              "      <td>0.328010</td>\n",
              "      <td>-0.167012</td>\n",
              "      <td>0.534237</td>\n",
              "      <td>-0.227104</td>\n",
              "      <td>1.055830</td>\n",
              "      <td>...</td>\n",
              "      <td>-0.226312</td>\n",
              "      <td>-0.202165</td>\n",
              "      <td>-0.070257</td>\n",
              "      <td>-0.240071</td>\n",
              "      <td>-0.256847</td>\n",
              "      <td>-0.413367</td>\n",
              "      <td>0.207013</td>\n",
              "      <td>-0.016190</td>\n",
              "      <td>36.00</td>\n",
              "      <td>0</td>\n",
              "    </tr>\n",
              "    <tr>\n",
              "      <th>4</th>\n",
              "      <td>145244.0</td>\n",
              "      <td>2.028950</td>\n",
              "      <td>-0.374089</td>\n",
              "      <td>-1.268051</td>\n",
              "      <td>0.349127</td>\n",
              "      <td>-0.057977</td>\n",
              "      <td>-0.515489</td>\n",
              "      <td>-0.087045</td>\n",
              "      <td>-0.146316</td>\n",
              "      <td>1.001341</td>\n",
              "      <td>...</td>\n",
              "      <td>0.047287</td>\n",
              "      <td>0.323331</td>\n",
              "      <td>0.080683</td>\n",
              "      <td>0.727965</td>\n",
              "      <td>0.070118</td>\n",
              "      <td>0.723291</td>\n",
              "      <td>-0.083032</td>\n",
              "      <td>-0.061277</td>\n",
              "      <td>24.95</td>\n",
              "      <td>0</td>\n",
              "    </tr>\n",
              "    <tr>\n",
              "      <th>...</th>\n",
              "      <td>...</td>\n",
              "      <td>...</td>\n",
              "      <td>...</td>\n",
              "      <td>...</td>\n",
              "      <td>...</td>\n",
              "      <td>...</td>\n",
              "      <td>...</td>\n",
              "      <td>...</td>\n",
              "      <td>...</td>\n",
              "      <td>...</td>\n",
              "      <td>...</td>\n",
              "      <td>...</td>\n",
              "      <td>...</td>\n",
              "      <td>...</td>\n",
              "      <td>...</td>\n",
              "      <td>...</td>\n",
              "      <td>...</td>\n",
              "      <td>...</td>\n",
              "      <td>...</td>\n",
              "      <td>...</td>\n",
              "      <td>...</td>\n",
              "    </tr>\n",
              "    <tr>\n",
              "      <th>803</th>\n",
              "      <td>62665.0</td>\n",
              "      <td>0.726799</td>\n",
              "      <td>0.157562</td>\n",
              "      <td>-0.606022</td>\n",
              "      <td>-1.068221</td>\n",
              "      <td>0.053273</td>\n",
              "      <td>0.026695</td>\n",
              "      <td>0.449427</td>\n",
              "      <td>-0.542618</td>\n",
              "      <td>-1.130938</td>\n",
              "      <td>...</td>\n",
              "      <td>-0.720689</td>\n",
              "      <td>-1.531407</td>\n",
              "      <td>0.347054</td>\n",
              "      <td>-1.039591</td>\n",
              "      <td>-1.261328</td>\n",
              "      <td>0.483453</td>\n",
              "      <td>-0.773701</td>\n",
              "      <td>-0.380575</td>\n",
              "      <td>54.99</td>\n",
              "      <td>0</td>\n",
              "    </tr>\n",
              "    <tr>\n",
              "      <th>804</th>\n",
              "      <td>29911.0</td>\n",
              "      <td>-0.501072</td>\n",
              "      <td>1.147217</td>\n",
              "      <td>0.892871</td>\n",
              "      <td>0.734273</td>\n",
              "      <td>0.225775</td>\n",
              "      <td>-0.331062</td>\n",
              "      <td>1.096693</td>\n",
              "      <td>-0.223359</td>\n",
              "      <td>-0.593294</td>\n",
              "      <td>...</td>\n",
              "      <td>0.099401</td>\n",
              "      <td>0.467094</td>\n",
              "      <td>-0.171793</td>\n",
              "      <td>-0.110985</td>\n",
              "      <td>-0.086588</td>\n",
              "      <td>-0.298825</td>\n",
              "      <td>0.308446</td>\n",
              "      <td>0.220274</td>\n",
              "      <td>74.46</td>\n",
              "      <td>0</td>\n",
              "    </tr>\n",
              "    <tr>\n",
              "      <th>805</th>\n",
              "      <td>128407.0</td>\n",
              "      <td>0.244865</td>\n",
              "      <td>-2.935385</td>\n",
              "      <td>-2.641925</td>\n",
              "      <td>1.212391</td>\n",
              "      <td>-0.927223</td>\n",
              "      <td>-0.887115</td>\n",
              "      <td>1.258957</td>\n",
              "      <td>-0.441144</td>\n",
              "      <td>1.075118</td>\n",
              "      <td>...</td>\n",
              "      <td>0.298892</td>\n",
              "      <td>-0.996756</td>\n",
              "      <td>-0.611389</td>\n",
              "      <td>-0.179716</td>\n",
              "      <td>-0.440728</td>\n",
              "      <td>-0.175587</td>\n",
              "      <td>-0.183370</td>\n",
              "      <td>0.135004</td>\n",
              "      <td>926.67</td>\n",
              "      <td>0</td>\n",
              "    </tr>\n",
              "    <tr>\n",
              "      <th>806</th>\n",
              "      <td>155361.0</td>\n",
              "      <td>2.048732</td>\n",
              "      <td>-0.969539</td>\n",
              "      <td>-0.973211</td>\n",
              "      <td>-0.624524</td>\n",
              "      <td>-0.508967</td>\n",
              "      <td>0.161839</td>\n",
              "      <td>-0.743755</td>\n",
              "      <td>0.125856</td>\n",
              "      <td>-0.314268</td>\n",
              "      <td>...</td>\n",
              "      <td>-0.832198</td>\n",
              "      <td>-2.020010</td>\n",
              "      <td>0.561334</td>\n",
              "      <td>0.117198</td>\n",
              "      <td>-0.785318</td>\n",
              "      <td>0.033320</td>\n",
              "      <td>-0.049227</td>\n",
              "      <td>-0.046845</td>\n",
              "      <td>45.90</td>\n",
              "      <td>0</td>\n",
              "    </tr>\n",
              "    <tr>\n",
              "      <th>807</th>\n",
              "      <td>125332.0</td>\n",
              "      <td>-1.629460</td>\n",
              "      <td>-1.211971</td>\n",
              "      <td>0.752660</td>\n",
              "      <td>-0.159850</td>\n",
              "      <td>1.008684</td>\n",
              "      <td>-1.122115</td>\n",
              "      <td>0.257242</td>\n",
              "      <td>0.127265</td>\n",
              "      <td>0.252932</td>\n",
              "      <td>...</td>\n",
              "      <td>-0.366909</td>\n",
              "      <td>-0.925786</td>\n",
              "      <td>1.388588</td>\n",
              "      <td>-0.107591</td>\n",
              "      <td>-1.107564</td>\n",
              "      <td>-0.384013</td>\n",
              "      <td>0.158298</td>\n",
              "      <td>0.180886</td>\n",
              "      <td>58.50</td>\n",
              "      <td>0</td>\n",
              "    </tr>\n",
              "  </tbody>\n",
              "</table>\n",
              "<p>808 rows × 31 columns</p>\n",
              "</div>"
            ],
            "text/plain": [
              "         Time        V1        V2        V3        V4        V5        V6  \\\n",
              "0    128433.0  1.987411  0.157662 -1.934784  1.255268  0.530538 -1.338695   \n",
              "1    168049.0  2.093848  0.149644 -2.029330  0.087886  0.979876 -0.034876   \n",
              "2      5452.0 -0.702122 -0.578616  2.450987 -2.449754 -1.048672 -0.586581   \n",
              "3      7610.0 -0.420729  0.876246  1.846851  1.240651  0.328010 -0.167012   \n",
              "4    145244.0  2.028950 -0.374089 -1.268051  0.349127 -0.057977 -0.515489   \n",
              "..        ...       ...       ...       ...       ...       ...       ...   \n",
              "803   62665.0  0.726799  0.157562 -0.606022 -1.068221  0.053273  0.026695   \n",
              "804   29911.0 -0.501072  1.147217  0.892871  0.734273  0.225775 -0.331062   \n",
              "805  128407.0  0.244865 -2.935385 -2.641925  1.212391 -0.927223 -0.887115   \n",
              "806  155361.0  2.048732 -0.969539 -0.973211 -0.624524 -0.508967  0.161839   \n",
              "807  125332.0 -1.629460 -1.211971  0.752660 -0.159850  1.008684 -1.122115   \n",
              "\n",
              "           V7        V8        V9  ...       V21       V22       V23  \\\n",
              "0    0.798212 -0.456288  0.007357  ...  0.131661  0.355737 -0.052472   \n",
              "1    0.125940 -0.085251  0.156443  ... -0.359746 -0.918636  0.208318   \n",
              "2   -0.850591  0.159075 -0.890801  ... -0.120935  0.008315 -0.248272   \n",
              "3    0.534237 -0.227104  1.055830  ... -0.226312 -0.202165 -0.070257   \n",
              "4   -0.087045 -0.146316  1.001341  ...  0.047287  0.323331  0.080683   \n",
              "..        ...       ...       ...  ...       ...       ...       ...   \n",
              "803  0.449427 -0.542618 -1.130938  ... -0.720689 -1.531407  0.347054   \n",
              "804  1.096693 -0.223359 -0.593294  ...  0.099401  0.467094 -0.171793   \n",
              "805  1.258957 -0.441144  1.075118  ...  0.298892 -0.996756 -0.611389   \n",
              "806 -0.743755  0.125856 -0.314268  ... -0.832198 -2.020010  0.561334   \n",
              "807  0.257242  0.127265  0.252932  ... -0.366909 -0.925786  1.388588   \n",
              "\n",
              "          V24       V25       V26       V27       V28  Amount  Class  \n",
              "0   -0.195753  0.428691 -0.472794 -0.044011 -0.060082   48.38      0  \n",
              "1   -0.367442 -0.141000  0.205271 -0.061756 -0.047494    1.98      0  \n",
              "2    0.200339  0.270612 -0.275452  0.009694  0.048076    6.00      0  \n",
              "3   -0.240071 -0.256847 -0.413367  0.207013 -0.016190   36.00      0  \n",
              "4    0.727965  0.070118  0.723291 -0.083032 -0.061277   24.95      0  \n",
              "..        ...       ...       ...       ...       ...     ...    ...  \n",
              "803 -1.039591 -1.261328  0.483453 -0.773701 -0.380575   54.99      0  \n",
              "804 -0.110985 -0.086588 -0.298825  0.308446  0.220274   74.46      0  \n",
              "805 -0.179716 -0.440728 -0.175587 -0.183370  0.135004  926.67      0  \n",
              "806  0.117198 -0.785318  0.033320 -0.049227 -0.046845   45.90      0  \n",
              "807 -0.107591 -1.107564 -0.384013  0.158298  0.180886   58.50      0  \n",
              "\n",
              "[808 rows x 31 columns]"
            ]
          },
          "execution_count": 21,
          "metadata": {},
          "output_type": "execute_result"
        }
      ],
      "source": [
        "training_data_not_fraud"
      ]
    },
    {
      "cell_type": "code",
      "execution_count": null,
      "id": "079b9345",
      "metadata": {
        "id": "079b9345"
      },
      "outputs": [],
      "source": [
        "training_data_0 = training_data_not_fraud[:500]"
      ]
    },
    {
      "cell_type": "code",
      "execution_count": null,
      "id": "1a00d0dd",
      "metadata": {
        "id": "1a00d0dd",
        "outputId": "ceb32c16-57ac-4563-b09f-87d94da37e7f"
      },
      "outputs": [
        {
          "data": {
            "text/plain": [
              "500"
            ]
          },
          "execution_count": 23,
          "metadata": {},
          "output_type": "execute_result"
        }
      ],
      "source": [
        "len(training_data_0)"
      ]
    },
    {
      "cell_type": "code",
      "execution_count": null,
      "id": "0a234fe0",
      "metadata": {
        "id": "0a234fe0"
      },
      "outputs": [],
      "source": [
        "test_data_0 = training_data_not_fraud[500:]"
      ]
    },
    {
      "cell_type": "code",
      "execution_count": null,
      "id": "4db68f73",
      "metadata": {
        "id": "4db68f73",
        "outputId": "0ade0eaa-92d1-4373-9312-4ae4e0a6d297"
      },
      "outputs": [
        {
          "data": {
            "text/plain": [
              "308"
            ]
          },
          "execution_count": 25,
          "metadata": {},
          "output_type": "execute_result"
        }
      ],
      "source": [
        "len(test_data_0)"
      ]
    },
    {
      "cell_type": "code",
      "execution_count": null,
      "id": "d6fb32d3",
      "metadata": {
        "id": "d6fb32d3",
        "outputId": "9af35ed3-75d0-4637-d3e7-c4f93516ac41"
      },
      "outputs": [
        {
          "data": {
            "text/plain": [
              "492"
            ]
          },
          "execution_count": 26,
          "metadata": {},
          "output_type": "execute_result"
        }
      ],
      "source": [
        "len(fraud_activity_data)"
      ]
    },
    {
      "cell_type": "code",
      "execution_count": null,
      "id": "771b15da",
      "metadata": {
        "id": "771b15da"
      },
      "outputs": [],
      "source": [
        "training_data_fraud = fraud_activity_data.sample(frac=1)"
      ]
    },
    {
      "cell_type": "code",
      "execution_count": null,
      "id": "41e0b558",
      "metadata": {
        "id": "41e0b558"
      },
      "outputs": [],
      "source": [
        "training_data_fraud.reset_index(inplace = True)"
      ]
    },
    {
      "cell_type": "code",
      "execution_count": null,
      "id": "d04aa3f9",
      "metadata": {
        "id": "d04aa3f9"
      },
      "outputs": [],
      "source": [
        "training_data_fraud.drop('index', axis = 1, inplace = True)"
      ]
    },
    {
      "cell_type": "code",
      "execution_count": null,
      "id": "d7b0e7fb",
      "metadata": {
        "id": "d7b0e7fb",
        "outputId": "b5a32253-2f85-4e20-d649-02f6e8b15b97"
      },
      "outputs": [
        {
          "data": {
            "text/html": [
              "<div>\n",
              "<style scoped>\n",
              "    .dataframe tbody tr th:only-of-type {\n",
              "        vertical-align: middle;\n",
              "    }\n",
              "\n",
              "    .dataframe tbody tr th {\n",
              "        vertical-align: top;\n",
              "    }\n",
              "\n",
              "    .dataframe thead th {\n",
              "        text-align: right;\n",
              "    }\n",
              "</style>\n",
              "<table border=\"1\" class=\"dataframe\">\n",
              "  <thead>\n",
              "    <tr style=\"text-align: right;\">\n",
              "      <th></th>\n",
              "      <th>Time</th>\n",
              "      <th>V1</th>\n",
              "      <th>V2</th>\n",
              "      <th>V3</th>\n",
              "      <th>V4</th>\n",
              "      <th>V5</th>\n",
              "      <th>V6</th>\n",
              "      <th>V7</th>\n",
              "      <th>V8</th>\n",
              "      <th>V9</th>\n",
              "      <th>...</th>\n",
              "      <th>V21</th>\n",
              "      <th>V22</th>\n",
              "      <th>V23</th>\n",
              "      <th>V24</th>\n",
              "      <th>V25</th>\n",
              "      <th>V26</th>\n",
              "      <th>V27</th>\n",
              "      <th>V28</th>\n",
              "      <th>Amount</th>\n",
              "      <th>Class</th>\n",
              "    </tr>\n",
              "  </thead>\n",
              "  <tbody>\n",
              "    <tr>\n",
              "      <th>0</th>\n",
              "      <td>45541.0</td>\n",
              "      <td>-1.519244</td>\n",
              "      <td>2.308492</td>\n",
              "      <td>-1.503599</td>\n",
              "      <td>2.064101</td>\n",
              "      <td>-1.000845</td>\n",
              "      <td>-1.016897</td>\n",
              "      <td>-2.059731</td>\n",
              "      <td>-0.275166</td>\n",
              "      <td>-1.562206</td>\n",
              "      <td>...</td>\n",
              "      <td>1.307871</td>\n",
              "      <td>0.102826</td>\n",
              "      <td>-0.017746</td>\n",
              "      <td>0.149696</td>\n",
              "      <td>-0.096602</td>\n",
              "      <td>-0.369115</td>\n",
              "      <td>-0.019244</td>\n",
              "      <td>-0.208319</td>\n",
              "      <td>1.00</td>\n",
              "      <td>1</td>\n",
              "    </tr>\n",
              "    <tr>\n",
              "      <th>1</th>\n",
              "      <td>167338.0</td>\n",
              "      <td>-1.374424</td>\n",
              "      <td>2.793185</td>\n",
              "      <td>-4.346572</td>\n",
              "      <td>2.400731</td>\n",
              "      <td>-1.688433</td>\n",
              "      <td>0.111136</td>\n",
              "      <td>-0.922038</td>\n",
              "      <td>-2.149930</td>\n",
              "      <td>-2.027474</td>\n",
              "      <td>...</td>\n",
              "      <td>-0.870779</td>\n",
              "      <td>0.504849</td>\n",
              "      <td>0.137994</td>\n",
              "      <td>0.368275</td>\n",
              "      <td>0.103137</td>\n",
              "      <td>-0.414209</td>\n",
              "      <td>0.454982</td>\n",
              "      <td>0.096711</td>\n",
              "      <td>349.08</td>\n",
              "      <td>1</td>\n",
              "    </tr>\n",
              "    <tr>\n",
              "      <th>2</th>\n",
              "      <td>43369.0</td>\n",
              "      <td>-3.365319</td>\n",
              "      <td>2.426503</td>\n",
              "      <td>-3.752227</td>\n",
              "      <td>0.276017</td>\n",
              "      <td>-2.305870</td>\n",
              "      <td>-1.961578</td>\n",
              "      <td>-3.029283</td>\n",
              "      <td>-1.674462</td>\n",
              "      <td>0.183961</td>\n",
              "      <td>...</td>\n",
              "      <td>2.070008</td>\n",
              "      <td>-0.512626</td>\n",
              "      <td>-0.248502</td>\n",
              "      <td>0.126550</td>\n",
              "      <td>0.104166</td>\n",
              "      <td>-1.055997</td>\n",
              "      <td>-1.200165</td>\n",
              "      <td>-1.012066</td>\n",
              "      <td>88.00</td>\n",
              "      <td>1</td>\n",
              "    </tr>\n",
              "    <tr>\n",
              "      <th>3</th>\n",
              "      <td>55279.0</td>\n",
              "      <td>-5.753852</td>\n",
              "      <td>0.577610</td>\n",
              "      <td>-6.312782</td>\n",
              "      <td>5.159401</td>\n",
              "      <td>-1.698320</td>\n",
              "      <td>-2.683286</td>\n",
              "      <td>-7.934389</td>\n",
              "      <td>2.373550</td>\n",
              "      <td>-3.073079</td>\n",
              "      <td>...</td>\n",
              "      <td>1.177852</td>\n",
              "      <td>0.175331</td>\n",
              "      <td>-1.211123</td>\n",
              "      <td>-0.446891</td>\n",
              "      <td>-0.405520</td>\n",
              "      <td>-0.165797</td>\n",
              "      <td>1.505516</td>\n",
              "      <td>0.359492</td>\n",
              "      <td>1.00</td>\n",
              "      <td>1</td>\n",
              "    </tr>\n",
              "    <tr>\n",
              "      <th>4</th>\n",
              "      <td>72327.0</td>\n",
              "      <td>-4.198735</td>\n",
              "      <td>0.194121</td>\n",
              "      <td>-3.917586</td>\n",
              "      <td>3.920748</td>\n",
              "      <td>-1.875486</td>\n",
              "      <td>-2.118933</td>\n",
              "      <td>-3.614445</td>\n",
              "      <td>1.687884</td>\n",
              "      <td>-2.189871</td>\n",
              "      <td>...</td>\n",
              "      <td>0.801312</td>\n",
              "      <td>-0.183001</td>\n",
              "      <td>-0.440387</td>\n",
              "      <td>0.292539</td>\n",
              "      <td>-0.144967</td>\n",
              "      <td>-0.251744</td>\n",
              "      <td>1.249414</td>\n",
              "      <td>-0.131525</td>\n",
              "      <td>238.90</td>\n",
              "      <td>1</td>\n",
              "    </tr>\n",
              "    <tr>\n",
              "      <th>...</th>\n",
              "      <td>...</td>\n",
              "      <td>...</td>\n",
              "      <td>...</td>\n",
              "      <td>...</td>\n",
              "      <td>...</td>\n",
              "      <td>...</td>\n",
              "      <td>...</td>\n",
              "      <td>...</td>\n",
              "      <td>...</td>\n",
              "      <td>...</td>\n",
              "      <td>...</td>\n",
              "      <td>...</td>\n",
              "      <td>...</td>\n",
              "      <td>...</td>\n",
              "      <td>...</td>\n",
              "      <td>...</td>\n",
              "      <td>...</td>\n",
              "      <td>...</td>\n",
              "      <td>...</td>\n",
              "      <td>...</td>\n",
              "      <td>...</td>\n",
              "    </tr>\n",
              "    <tr>\n",
              "      <th>487</th>\n",
              "      <td>25231.0</td>\n",
              "      <td>-16.598665</td>\n",
              "      <td>10.541751</td>\n",
              "      <td>-19.818982</td>\n",
              "      <td>6.017295</td>\n",
              "      <td>-13.025901</td>\n",
              "      <td>-4.128779</td>\n",
              "      <td>-14.118865</td>\n",
              "      <td>11.161144</td>\n",
              "      <td>-4.099551</td>\n",
              "      <td>...</td>\n",
              "      <td>1.725853</td>\n",
              "      <td>-1.151606</td>\n",
              "      <td>-0.680052</td>\n",
              "      <td>0.108176</td>\n",
              "      <td>1.066878</td>\n",
              "      <td>-0.233720</td>\n",
              "      <td>1.707521</td>\n",
              "      <td>0.511423</td>\n",
              "      <td>99.99</td>\n",
              "      <td>1</td>\n",
              "    </tr>\n",
              "    <tr>\n",
              "      <th>488</th>\n",
              "      <td>57163.0</td>\n",
              "      <td>-10.363049</td>\n",
              "      <td>4.543672</td>\n",
              "      <td>-9.795898</td>\n",
              "      <td>5.508003</td>\n",
              "      <td>-6.037156</td>\n",
              "      <td>-0.133493</td>\n",
              "      <td>-11.724346</td>\n",
              "      <td>-3.198346</td>\n",
              "      <td>-4.767842</td>\n",
              "      <td>...</td>\n",
              "      <td>-2.457145</td>\n",
              "      <td>1.687257</td>\n",
              "      <td>0.977178</td>\n",
              "      <td>-0.543369</td>\n",
              "      <td>-0.289125</td>\n",
              "      <td>-0.107586</td>\n",
              "      <td>0.330642</td>\n",
              "      <td>0.163577</td>\n",
              "      <td>1.00</td>\n",
              "      <td>1</td>\n",
              "    </tr>\n",
              "    <tr>\n",
              "      <th>489</th>\n",
              "      <td>51112.0</td>\n",
              "      <td>-9.848776</td>\n",
              "      <td>7.365546</td>\n",
              "      <td>-12.898538</td>\n",
              "      <td>4.273323</td>\n",
              "      <td>-7.611991</td>\n",
              "      <td>-3.427045</td>\n",
              "      <td>-8.350808</td>\n",
              "      <td>6.863604</td>\n",
              "      <td>-2.387567</td>\n",
              "      <td>...</td>\n",
              "      <td>0.931958</td>\n",
              "      <td>-0.874467</td>\n",
              "      <td>-0.192639</td>\n",
              "      <td>-0.035426</td>\n",
              "      <td>0.538665</td>\n",
              "      <td>-0.263934</td>\n",
              "      <td>1.134095</td>\n",
              "      <td>0.225973</td>\n",
              "      <td>99.99</td>\n",
              "      <td>1</td>\n",
              "    </tr>\n",
              "    <tr>\n",
              "      <th>490</th>\n",
              "      <td>102625.0</td>\n",
              "      <td>-4.221221</td>\n",
              "      <td>2.871121</td>\n",
              "      <td>-5.888716</td>\n",
              "      <td>6.890952</td>\n",
              "      <td>-3.404894</td>\n",
              "      <td>-1.154394</td>\n",
              "      <td>-7.739928</td>\n",
              "      <td>2.851363</td>\n",
              "      <td>-2.507569</td>\n",
              "      <td>...</td>\n",
              "      <td>1.620591</td>\n",
              "      <td>1.567947</td>\n",
              "      <td>-0.578007</td>\n",
              "      <td>-0.059045</td>\n",
              "      <td>-1.829169</td>\n",
              "      <td>-0.072429</td>\n",
              "      <td>0.136734</td>\n",
              "      <td>-0.599848</td>\n",
              "      <td>7.59</td>\n",
              "      <td>1</td>\n",
              "    </tr>\n",
              "    <tr>\n",
              "      <th>491</th>\n",
              "      <td>41607.0</td>\n",
              "      <td>-18.247513</td>\n",
              "      <td>8.713250</td>\n",
              "      <td>-17.880127</td>\n",
              "      <td>9.249459</td>\n",
              "      <td>-14.541213</td>\n",
              "      <td>-1.911564</td>\n",
              "      <td>-18.014660</td>\n",
              "      <td>5.522162</td>\n",
              "      <td>-9.283925</td>\n",
              "      <td>...</td>\n",
              "      <td>0.598843</td>\n",
              "      <td>0.615319</td>\n",
              "      <td>-0.486499</td>\n",
              "      <td>0.739268</td>\n",
              "      <td>-0.236845</td>\n",
              "      <td>-0.046082</td>\n",
              "      <td>-3.011473</td>\n",
              "      <td>-1.022147</td>\n",
              "      <td>53.95</td>\n",
              "      <td>1</td>\n",
              "    </tr>\n",
              "  </tbody>\n",
              "</table>\n",
              "<p>492 rows × 31 columns</p>\n",
              "</div>"
            ],
            "text/plain": [
              "         Time         V1         V2         V3        V4         V5        V6  \\\n",
              "0     45541.0  -1.519244   2.308492  -1.503599  2.064101  -1.000845 -1.016897   \n",
              "1    167338.0  -1.374424   2.793185  -4.346572  2.400731  -1.688433  0.111136   \n",
              "2     43369.0  -3.365319   2.426503  -3.752227  0.276017  -2.305870 -1.961578   \n",
              "3     55279.0  -5.753852   0.577610  -6.312782  5.159401  -1.698320 -2.683286   \n",
              "4     72327.0  -4.198735   0.194121  -3.917586  3.920748  -1.875486 -2.118933   \n",
              "..        ...        ...        ...        ...       ...        ...       ...   \n",
              "487   25231.0 -16.598665  10.541751 -19.818982  6.017295 -13.025901 -4.128779   \n",
              "488   57163.0 -10.363049   4.543672  -9.795898  5.508003  -6.037156 -0.133493   \n",
              "489   51112.0  -9.848776   7.365546 -12.898538  4.273323  -7.611991 -3.427045   \n",
              "490  102625.0  -4.221221   2.871121  -5.888716  6.890952  -3.404894 -1.154394   \n",
              "491   41607.0 -18.247513   8.713250 -17.880127  9.249459 -14.541213 -1.911564   \n",
              "\n",
              "            V7         V8        V9  ...       V21       V22       V23  \\\n",
              "0    -2.059731  -0.275166 -1.562206  ...  1.307871  0.102826 -0.017746   \n",
              "1    -0.922038  -2.149930 -2.027474  ... -0.870779  0.504849  0.137994   \n",
              "2    -3.029283  -1.674462  0.183961  ...  2.070008 -0.512626 -0.248502   \n",
              "3    -7.934389   2.373550 -3.073079  ...  1.177852  0.175331 -1.211123   \n",
              "4    -3.614445   1.687884 -2.189871  ...  0.801312 -0.183001 -0.440387   \n",
              "..         ...        ...       ...  ...       ...       ...       ...   \n",
              "487 -14.118865  11.161144 -4.099551  ...  1.725853 -1.151606 -0.680052   \n",
              "488 -11.724346  -3.198346 -4.767842  ... -2.457145  1.687257  0.977178   \n",
              "489  -8.350808   6.863604 -2.387567  ...  0.931958 -0.874467 -0.192639   \n",
              "490  -7.739928   2.851363 -2.507569  ...  1.620591  1.567947 -0.578007   \n",
              "491 -18.014660   5.522162 -9.283925  ...  0.598843  0.615319 -0.486499   \n",
              "\n",
              "          V24       V25       V26       V27       V28  Amount  Class  \n",
              "0    0.149696 -0.096602 -0.369115 -0.019244 -0.208319    1.00      1  \n",
              "1    0.368275  0.103137 -0.414209  0.454982  0.096711  349.08      1  \n",
              "2    0.126550  0.104166 -1.055997 -1.200165 -1.012066   88.00      1  \n",
              "3   -0.446891 -0.405520 -0.165797  1.505516  0.359492    1.00      1  \n",
              "4    0.292539 -0.144967 -0.251744  1.249414 -0.131525  238.90      1  \n",
              "..        ...       ...       ...       ...       ...     ...    ...  \n",
              "487  0.108176  1.066878 -0.233720  1.707521  0.511423   99.99      1  \n",
              "488 -0.543369 -0.289125 -0.107586  0.330642  0.163577    1.00      1  \n",
              "489 -0.035426  0.538665 -0.263934  1.134095  0.225973   99.99      1  \n",
              "490 -0.059045 -1.829169 -0.072429  0.136734 -0.599848    7.59      1  \n",
              "491  0.739268 -0.236845 -0.046082 -3.011473 -1.022147   53.95      1  \n",
              "\n",
              "[492 rows x 31 columns]"
            ]
          },
          "execution_count": 30,
          "metadata": {},
          "output_type": "execute_result"
        }
      ],
      "source": [
        "training_data_fraud"
      ]
    },
    {
      "cell_type": "code",
      "execution_count": null,
      "id": "ad111eb4",
      "metadata": {
        "id": "ad111eb4"
      },
      "outputs": [],
      "source": [
        "training_data_1 = training_data_fraud[:300]"
      ]
    },
    {
      "cell_type": "code",
      "execution_count": null,
      "id": "267564c9",
      "metadata": {
        "id": "267564c9",
        "outputId": "da7b9917-e061-483d-839b-5f4ccf58a729"
      },
      "outputs": [
        {
          "data": {
            "text/plain": [
              "300"
            ]
          },
          "execution_count": 32,
          "metadata": {},
          "output_type": "execute_result"
        }
      ],
      "source": [
        "len(training_data_1)"
      ]
    },
    {
      "cell_type": "code",
      "execution_count": null,
      "id": "d6f2b522",
      "metadata": {
        "id": "d6f2b522"
      },
      "outputs": [],
      "source": [
        "test_data_1 = training_data_fraud[300:]"
      ]
    },
    {
      "cell_type": "code",
      "execution_count": null,
      "id": "705bff46",
      "metadata": {
        "id": "705bff46",
        "outputId": "ec76ef82-d45a-4093-91bd-cf97c6cbc39c"
      },
      "outputs": [
        {
          "data": {
            "text/plain": [
              "192"
            ]
          },
          "execution_count": 34,
          "metadata": {},
          "output_type": "execute_result"
        }
      ],
      "source": [
        "len(test_data_1)"
      ]
    },
    {
      "cell_type": "code",
      "execution_count": null,
      "id": "03387f60",
      "metadata": {
        "id": "03387f60"
      },
      "outputs": [],
      "source": [
        "training_data = pd.concat([training_data_0, training_data_1])"
      ]
    },
    {
      "cell_type": "code",
      "execution_count": null,
      "id": "f904fc0d",
      "metadata": {
        "id": "f904fc0d"
      },
      "outputs": [],
      "source": [
        "training_data = training_data.sample(frac=1)"
      ]
    },
    {
      "cell_type": "code",
      "execution_count": null,
      "id": "44dbbc70",
      "metadata": {
        "id": "44dbbc70",
        "outputId": "673d3c59-da8a-4123-beca-4335a7a0e8e5"
      },
      "outputs": [
        {
          "data": {
            "text/plain": [
              "420    0\n",
              "62     0\n",
              "362    0\n",
              "134    1\n",
              "78     0\n",
              "      ..\n",
              "230    1\n",
              "122    0\n",
              "25     0\n",
              "20     1\n",
              "409    0\n",
              "Name: Class, Length: 800, dtype: int64"
            ]
          },
          "execution_count": 37,
          "metadata": {},
          "output_type": "execute_result"
        }
      ],
      "source": [
        "training_data['Class']"
      ]
    },
    {
      "cell_type": "code",
      "execution_count": null,
      "id": "5365c4ac",
      "metadata": {
        "id": "5365c4ac",
        "outputId": "669f068c-20d4-43b3-b3a0-9763fc7d381f"
      },
      "outputs": [
        {
          "data": {
            "text/plain": [
              "800"
            ]
          },
          "execution_count": 38,
          "metadata": {},
          "output_type": "execute_result"
        }
      ],
      "source": [
        "len(training_data)"
      ]
    },
    {
      "cell_type": "code",
      "execution_count": null,
      "id": "f8df86fb",
      "metadata": {
        "id": "f8df86fb"
      },
      "outputs": [],
      "source": [
        "test_data = pd.concat([test_data_0, test_data_1])"
      ]
    },
    {
      "cell_type": "code",
      "execution_count": null,
      "id": "f8ba284d",
      "metadata": {
        "id": "f8ba284d"
      },
      "outputs": [],
      "source": [
        "test_data = pd.concat([test_data_0, test_data_1])"
      ]
    },
    {
      "cell_type": "code",
      "execution_count": null,
      "id": "e004c056",
      "metadata": {
        "id": "e004c056"
      },
      "outputs": [],
      "source": [
        "test_data = test_data.sample(frac=1)"
      ]
    },
    {
      "cell_type": "code",
      "execution_count": null,
      "id": "261e0127",
      "metadata": {
        "id": "261e0127",
        "outputId": "f1c4c7b8-204e-4e23-d5bc-d9615520f959"
      },
      "outputs": [
        {
          "data": {
            "text/plain": [
              "656    0\n",
              "320    1\n",
              "716    0\n",
              "593    0\n",
              "434    1\n",
              "      ..\n",
              "346    1\n",
              "534    0\n",
              "340    1\n",
              "799    0\n",
              "663    0\n",
              "Name: Class, Length: 500, dtype: int64"
            ]
          },
          "execution_count": 42,
          "metadata": {},
          "output_type": "execute_result"
        }
      ],
      "source": [
        "test_data['Class']"
      ]
    },
    {
      "cell_type": "code",
      "execution_count": null,
      "id": "273ad5bd",
      "metadata": {
        "id": "273ad5bd",
        "outputId": "6bee3844-4b03-4ba8-d1cc-eba0b6faf9a4"
      },
      "outputs": [
        {
          "data": {
            "text/plain": [
              "500"
            ]
          },
          "execution_count": 43,
          "metadata": {},
          "output_type": "execute_result"
        }
      ],
      "source": [
        "len(test_data)"
      ]
    },
    {
      "cell_type": "code",
      "execution_count": null,
      "id": "30f6bf72",
      "metadata": {
        "id": "30f6bf72"
      },
      "outputs": [],
      "source": [
        "training_data.to_csv('ccfd train.csv')"
      ]
    },
    {
      "cell_type": "code",
      "execution_count": null,
      "id": "a3b7a692",
      "metadata": {
        "id": "a3b7a692"
      },
      "outputs": [],
      "source": [
        "test_data.to_csv('ccfd test.csv')"
      ]
    },
    {
      "cell_type": "code",
      "execution_count": null,
      "id": "a232befb",
      "metadata": {
        "id": "a232befb"
      },
      "outputs": [],
      "source": [
        "credit_card_data = pd.read_csv('ccfd train.csv')"
      ]
    },
    {
      "cell_type": "code",
      "execution_count": null,
      "id": "2cd373b2",
      "metadata": {
        "id": "2cd373b2",
        "outputId": "3e21c247-3af0-4a5a-a765-2e9d39ebd81e"
      },
      "outputs": [
        {
          "name": "stdout",
          "output_type": "stream",
          "text": [
            "Now the Dataset is ready to use\n"
          ]
        }
      ],
      "source": [
        "print('Now the Dataset is ready to use')"
      ]
    },
    {
      "cell_type": "code",
      "execution_count": null,
      "id": "12fa2b8d",
      "metadata": {
        "id": "12fa2b8d"
      },
      "outputs": [],
      "source": [
        "credit_card_data_sample = credit_card_data.sample(frac=1).reset_index(drop=True)"
      ]
    },
    {
      "cell_type": "code",
      "execution_count": null,
      "id": "61d1d39f",
      "metadata": {
        "id": "61d1d39f",
        "outputId": "219310a5-b51f-49e7-bcc3-60e26eacc643"
      },
      "outputs": [
        {
          "data": {
            "text/html": [
              "<div>\n",
              "<style scoped>\n",
              "    .dataframe tbody tr th:only-of-type {\n",
              "        vertical-align: middle;\n",
              "    }\n",
              "\n",
              "    .dataframe tbody tr th {\n",
              "        vertical-align: top;\n",
              "    }\n",
              "\n",
              "    .dataframe thead th {\n",
              "        text-align: right;\n",
              "    }\n",
              "</style>\n",
              "<table border=\"1\" class=\"dataframe\">\n",
              "  <thead>\n",
              "    <tr style=\"text-align: right;\">\n",
              "      <th></th>\n",
              "      <th>Unnamed: 0</th>\n",
              "      <th>Time</th>\n",
              "      <th>V1</th>\n",
              "      <th>V2</th>\n",
              "      <th>V3</th>\n",
              "      <th>V4</th>\n",
              "      <th>V5</th>\n",
              "      <th>V6</th>\n",
              "      <th>V7</th>\n",
              "      <th>V8</th>\n",
              "      <th>...</th>\n",
              "      <th>V21</th>\n",
              "      <th>V22</th>\n",
              "      <th>V23</th>\n",
              "      <th>V24</th>\n",
              "      <th>V25</th>\n",
              "      <th>V26</th>\n",
              "      <th>V27</th>\n",
              "      <th>V28</th>\n",
              "      <th>Amount</th>\n",
              "      <th>Class</th>\n",
              "    </tr>\n",
              "  </thead>\n",
              "  <tbody>\n",
              "    <tr>\n",
              "      <th>0</th>\n",
              "      <td>253</td>\n",
              "      <td>125658.0</td>\n",
              "      <td>0.224414</td>\n",
              "      <td>2.994499</td>\n",
              "      <td>-3.432458</td>\n",
              "      <td>3.986519</td>\n",
              "      <td>3.760233</td>\n",
              "      <td>0.165640</td>\n",
              "      <td>1.099378</td>\n",
              "      <td>-0.654557</td>\n",
              "      <td>...</td>\n",
              "      <td>0.491337</td>\n",
              "      <td>-0.984223</td>\n",
              "      <td>-0.421979</td>\n",
              "      <td>-1.048058</td>\n",
              "      <td>0.726412</td>\n",
              "      <td>0.268625</td>\n",
              "      <td>0.283689</td>\n",
              "      <td>0.419102</td>\n",
              "      <td>0.00</td>\n",
              "      <td>1</td>\n",
              "    </tr>\n",
              "    <tr>\n",
              "      <th>1</th>\n",
              "      <td>433</td>\n",
              "      <td>77969.0</td>\n",
              "      <td>1.042044</td>\n",
              "      <td>-0.981160</td>\n",
              "      <td>-0.138839</td>\n",
              "      <td>-0.546631</td>\n",
              "      <td>-1.006788</td>\n",
              "      <td>-0.876558</td>\n",
              "      <td>-0.060198</td>\n",
              "      <td>-0.213906</td>\n",
              "      <td>...</td>\n",
              "      <td>-0.294016</td>\n",
              "      <td>-0.811205</td>\n",
              "      <td>-0.108404</td>\n",
              "      <td>0.351276</td>\n",
              "      <td>0.207090</td>\n",
              "      <td>0.976671</td>\n",
              "      <td>-0.115275</td>\n",
              "      <td>0.019796</td>\n",
              "      <td>179.67</td>\n",
              "      <td>0</td>\n",
              "    </tr>\n",
              "    <tr>\n",
              "      <th>2</th>\n",
              "      <td>16</td>\n",
              "      <td>102676.0</td>\n",
              "      <td>-5.552122</td>\n",
              "      <td>5.678134</td>\n",
              "      <td>-9.775528</td>\n",
              "      <td>8.416295</td>\n",
              "      <td>-4.409844</td>\n",
              "      <td>-1.506235</td>\n",
              "      <td>-6.899839</td>\n",
              "      <td>3.750443</td>\n",
              "      <td>...</td>\n",
              "      <td>1.128472</td>\n",
              "      <td>0.228484</td>\n",
              "      <td>0.286258</td>\n",
              "      <td>-0.536294</td>\n",
              "      <td>-0.104925</td>\n",
              "      <td>0.420919</td>\n",
              "      <td>-0.297557</td>\n",
              "      <td>-0.946184</td>\n",
              "      <td>119.74</td>\n",
              "      <td>1</td>\n",
              "    </tr>\n",
              "    <tr>\n",
              "      <th>3</th>\n",
              "      <td>56</td>\n",
              "      <td>155554.0</td>\n",
              "      <td>-1.040067</td>\n",
              "      <td>3.106703</td>\n",
              "      <td>-5.409027</td>\n",
              "      <td>3.109903</td>\n",
              "      <td>-0.887237</td>\n",
              "      <td>-2.497522</td>\n",
              "      <td>-2.073347</td>\n",
              "      <td>0.639818</td>\n",
              "      <td>...</td>\n",
              "      <td>0.773961</td>\n",
              "      <td>0.214868</td>\n",
              "      <td>-0.184233</td>\n",
              "      <td>-0.284091</td>\n",
              "      <td>0.493467</td>\n",
              "      <td>0.732329</td>\n",
              "      <td>0.675067</td>\n",
              "      <td>0.337076</td>\n",
              "      <td>94.82</td>\n",
              "      <td>1</td>\n",
              "    </tr>\n",
              "    <tr>\n",
              "      <th>4</th>\n",
              "      <td>286</td>\n",
              "      <td>127859.0</td>\n",
              "      <td>1.937854</td>\n",
              "      <td>0.166812</td>\n",
              "      <td>-1.618439</td>\n",
              "      <td>1.418302</td>\n",
              "      <td>0.486345</td>\n",
              "      <td>-1.104260</td>\n",
              "      <td>0.788635</td>\n",
              "      <td>-0.500060</td>\n",
              "      <td>...</td>\n",
              "      <td>0.092476</td>\n",
              "      <td>0.447343</td>\n",
              "      <td>-0.058037</td>\n",
              "      <td>0.027565</td>\n",
              "      <td>0.481166</td>\n",
              "      <td>-0.498548</td>\n",
              "      <td>-0.015793</td>\n",
              "      <td>-0.051185</td>\n",
              "      <td>56.06</td>\n",
              "      <td>0</td>\n",
              "    </tr>\n",
              "  </tbody>\n",
              "</table>\n",
              "<p>5 rows × 32 columns</p>\n",
              "</div>"
            ],
            "text/plain": [
              "   Unnamed: 0      Time        V1        V2        V3        V4        V5  \\\n",
              "0         253  125658.0  0.224414  2.994499 -3.432458  3.986519  3.760233   \n",
              "1         433   77969.0  1.042044 -0.981160 -0.138839 -0.546631 -1.006788   \n",
              "2          16  102676.0 -5.552122  5.678134 -9.775528  8.416295 -4.409844   \n",
              "3          56  155554.0 -1.040067  3.106703 -5.409027  3.109903 -0.887237   \n",
              "4         286  127859.0  1.937854  0.166812 -1.618439  1.418302  0.486345   \n",
              "\n",
              "         V6        V7        V8  ...       V21       V22       V23       V24  \\\n",
              "0  0.165640  1.099378 -0.654557  ...  0.491337 -0.984223 -0.421979 -1.048058   \n",
              "1 -0.876558 -0.060198 -0.213906  ... -0.294016 -0.811205 -0.108404  0.351276   \n",
              "2 -1.506235 -6.899839  3.750443  ...  1.128472  0.228484  0.286258 -0.536294   \n",
              "3 -2.497522 -2.073347  0.639818  ...  0.773961  0.214868 -0.184233 -0.284091   \n",
              "4 -1.104260  0.788635 -0.500060  ...  0.092476  0.447343 -0.058037  0.027565   \n",
              "\n",
              "        V25       V26       V27       V28  Amount  Class  \n",
              "0  0.726412  0.268625  0.283689  0.419102    0.00      1  \n",
              "1  0.207090  0.976671 -0.115275  0.019796  179.67      0  \n",
              "2 -0.104925  0.420919 -0.297557 -0.946184  119.74      1  \n",
              "3  0.493467  0.732329  0.675067  0.337076   94.82      1  \n",
              "4  0.481166 -0.498548 -0.015793 -0.051185   56.06      0  \n",
              "\n",
              "[5 rows x 32 columns]"
            ]
          },
          "execution_count": 49,
          "metadata": {},
          "output_type": "execute_result"
        }
      ],
      "source": [
        "credit_card_data_sample.head()"
      ]
    },
    {
      "cell_type": "code",
      "execution_count": null,
      "id": "bc6b5e6f",
      "metadata": {
        "id": "bc6b5e6f"
      },
      "outputs": [],
      "source": [
        "credit_card_data_sample.drop('Unnamed: 0', axis = 1, inplace = True)"
      ]
    },
    {
      "cell_type": "code",
      "execution_count": null,
      "id": "056b1134",
      "metadata": {
        "id": "056b1134",
        "outputId": "2675b3b9-0269-4232-9af9-6c4830bcae6e"
      },
      "outputs": [
        {
          "data": {
            "text/html": [
              "<div>\n",
              "<style scoped>\n",
              "    .dataframe tbody tr th:only-of-type {\n",
              "        vertical-align: middle;\n",
              "    }\n",
              "\n",
              "    .dataframe tbody tr th {\n",
              "        vertical-align: top;\n",
              "    }\n",
              "\n",
              "    .dataframe thead th {\n",
              "        text-align: right;\n",
              "    }\n",
              "</style>\n",
              "<table border=\"1\" class=\"dataframe\">\n",
              "  <thead>\n",
              "    <tr style=\"text-align: right;\">\n",
              "      <th></th>\n",
              "      <th>Time</th>\n",
              "      <th>V1</th>\n",
              "      <th>V2</th>\n",
              "      <th>V3</th>\n",
              "      <th>V4</th>\n",
              "      <th>V5</th>\n",
              "      <th>V6</th>\n",
              "      <th>V7</th>\n",
              "      <th>V8</th>\n",
              "      <th>V9</th>\n",
              "      <th>...</th>\n",
              "      <th>V21</th>\n",
              "      <th>V22</th>\n",
              "      <th>V23</th>\n",
              "      <th>V24</th>\n",
              "      <th>V25</th>\n",
              "      <th>V26</th>\n",
              "      <th>V27</th>\n",
              "      <th>V28</th>\n",
              "      <th>Amount</th>\n",
              "      <th>Class</th>\n",
              "    </tr>\n",
              "  </thead>\n",
              "  <tbody>\n",
              "    <tr>\n",
              "      <th>795</th>\n",
              "      <td>35886.0</td>\n",
              "      <td>-0.690399</td>\n",
              "      <td>0.155621</td>\n",
              "      <td>1.539356</td>\n",
              "      <td>-2.064752</td>\n",
              "      <td>-1.155663</td>\n",
              "      <td>-0.487872</td>\n",
              "      <td>-0.793529</td>\n",
              "      <td>0.725040</td>\n",
              "      <td>1.099993</td>\n",
              "      <td>...</td>\n",
              "      <td>0.431315</td>\n",
              "      <td>1.102730</td>\n",
              "      <td>-0.141239</td>\n",
              "      <td>0.020607</td>\n",
              "      <td>-0.600723</td>\n",
              "      <td>0.067397</td>\n",
              "      <td>0.060957</td>\n",
              "      <td>0.076019</td>\n",
              "      <td>3.15</td>\n",
              "      <td>0</td>\n",
              "    </tr>\n",
              "    <tr>\n",
              "      <th>796</th>\n",
              "      <td>87626.0</td>\n",
              "      <td>1.951799</td>\n",
              "      <td>0.123952</td>\n",
              "      <td>-1.765009</td>\n",
              "      <td>0.542867</td>\n",
              "      <td>0.278240</td>\n",
              "      <td>-1.352708</td>\n",
              "      <td>0.412265</td>\n",
              "      <td>-0.449615</td>\n",
              "      <td>0.402068</td>\n",
              "      <td>...</td>\n",
              "      <td>0.243105</td>\n",
              "      <td>0.824804</td>\n",
              "      <td>-0.083920</td>\n",
              "      <td>-0.111128</td>\n",
              "      <td>0.269733</td>\n",
              "      <td>-0.103740</td>\n",
              "      <td>-0.001263</td>\n",
              "      <td>-0.020513</td>\n",
              "      <td>56.50</td>\n",
              "      <td>0</td>\n",
              "    </tr>\n",
              "    <tr>\n",
              "      <th>797</th>\n",
              "      <td>168178.0</td>\n",
              "      <td>-1.089585</td>\n",
              "      <td>1.378658</td>\n",
              "      <td>0.041711</td>\n",
              "      <td>-0.494156</td>\n",
              "      <td>0.538403</td>\n",
              "      <td>-0.894312</td>\n",
              "      <td>1.041151</td>\n",
              "      <td>-0.659219</td>\n",
              "      <td>0.185191</td>\n",
              "      <td>...</td>\n",
              "      <td>-0.011023</td>\n",
              "      <td>-0.274659</td>\n",
              "      <td>0.168128</td>\n",
              "      <td>-0.080204</td>\n",
              "      <td>-1.068322</td>\n",
              "      <td>0.027123</td>\n",
              "      <td>-1.085495</td>\n",
              "      <td>0.298496</td>\n",
              "      <td>1.98</td>\n",
              "      <td>0</td>\n",
              "    </tr>\n",
              "    <tr>\n",
              "      <th>798</th>\n",
              "      <td>161349.0</td>\n",
              "      <td>-0.136330</td>\n",
              "      <td>0.930666</td>\n",
              "      <td>0.296910</td>\n",
              "      <td>-0.694516</td>\n",
              "      <td>0.701951</td>\n",
              "      <td>-1.036413</td>\n",
              "      <td>1.240355</td>\n",
              "      <td>-0.458417</td>\n",
              "      <td>0.169727</td>\n",
              "      <td>...</td>\n",
              "      <td>-0.340004</td>\n",
              "      <td>-0.521729</td>\n",
              "      <td>0.032862</td>\n",
              "      <td>-0.095731</td>\n",
              "      <td>-0.407400</td>\n",
              "      <td>0.120951</td>\n",
              "      <td>0.192352</td>\n",
              "      <td>-0.052387</td>\n",
              "      <td>8.99</td>\n",
              "      <td>0</td>\n",
              "    </tr>\n",
              "    <tr>\n",
              "      <th>799</th>\n",
              "      <td>84143.0</td>\n",
              "      <td>-1.374523</td>\n",
              "      <td>1.198551</td>\n",
              "      <td>1.457036</td>\n",
              "      <td>-1.550879</td>\n",
              "      <td>-0.246425</td>\n",
              "      <td>-0.448623</td>\n",
              "      <td>0.400011</td>\n",
              "      <td>0.278800</td>\n",
              "      <td>0.343748</td>\n",
              "      <td>...</td>\n",
              "      <td>-0.085554</td>\n",
              "      <td>-0.024720</td>\n",
              "      <td>0.006959</td>\n",
              "      <td>0.233788</td>\n",
              "      <td>-0.333704</td>\n",
              "      <td>0.733753</td>\n",
              "      <td>0.581538</td>\n",
              "      <td>0.352866</td>\n",
              "      <td>4.99</td>\n",
              "      <td>0</td>\n",
              "    </tr>\n",
              "  </tbody>\n",
              "</table>\n",
              "<p>5 rows × 31 columns</p>\n",
              "</div>"
            ],
            "text/plain": [
              "         Time        V1        V2        V3        V4        V5        V6  \\\n",
              "795   35886.0 -0.690399  0.155621  1.539356 -2.064752 -1.155663 -0.487872   \n",
              "796   87626.0  1.951799  0.123952 -1.765009  0.542867  0.278240 -1.352708   \n",
              "797  168178.0 -1.089585  1.378658  0.041711 -0.494156  0.538403 -0.894312   \n",
              "798  161349.0 -0.136330  0.930666  0.296910 -0.694516  0.701951 -1.036413   \n",
              "799   84143.0 -1.374523  1.198551  1.457036 -1.550879 -0.246425 -0.448623   \n",
              "\n",
              "           V7        V8        V9  ...       V21       V22       V23  \\\n",
              "795 -0.793529  0.725040  1.099993  ...  0.431315  1.102730 -0.141239   \n",
              "796  0.412265 -0.449615  0.402068  ...  0.243105  0.824804 -0.083920   \n",
              "797  1.041151 -0.659219  0.185191  ... -0.011023 -0.274659  0.168128   \n",
              "798  1.240355 -0.458417  0.169727  ... -0.340004 -0.521729  0.032862   \n",
              "799  0.400011  0.278800  0.343748  ... -0.085554 -0.024720  0.006959   \n",
              "\n",
              "          V24       V25       V26       V27       V28  Amount  Class  \n",
              "795  0.020607 -0.600723  0.067397  0.060957  0.076019    3.15      0  \n",
              "796 -0.111128  0.269733 -0.103740 -0.001263 -0.020513   56.50      0  \n",
              "797 -0.080204 -1.068322  0.027123 -1.085495  0.298496    1.98      0  \n",
              "798 -0.095731 -0.407400  0.120951  0.192352 -0.052387    8.99      0  \n",
              "799  0.233788 -0.333704  0.733753  0.581538  0.352866    4.99      0  \n",
              "\n",
              "[5 rows x 31 columns]"
            ]
          },
          "execution_count": 51,
          "metadata": {},
          "output_type": "execute_result"
        }
      ],
      "source": [
        "credit_card_data_sample.tail()"
      ]
    },
    {
      "cell_type": "code",
      "execution_count": null,
      "id": "1e83f569",
      "metadata": {
        "id": "1e83f569",
        "outputId": "5c3b57b9-317f-4e15-dc83-265e6b70ea9c"
      },
      "outputs": [
        {
          "data": {
            "text/plain": [
              "Index(['Time', 'V1', 'V2', 'V3', 'V4', 'V5', 'V6', 'V7', 'V8', 'V9', 'V10',\n",
              "       'V11', 'V12', 'V13', 'V14', 'V15', 'V16', 'V17', 'V18', 'V19', 'V20',\n",
              "       'V21', 'V22', 'V23', 'V24', 'V25', 'V26', 'V27', 'V28', 'Amount',\n",
              "       'Class'],\n",
              "      dtype='object')"
            ]
          },
          "execution_count": 52,
          "metadata": {},
          "output_type": "execute_result"
        }
      ],
      "source": [
        "credit_card_data_sample.columns"
      ]
    },
    {
      "cell_type": "code",
      "execution_count": null,
      "id": "ec09f535",
      "metadata": {
        "id": "ec09f535",
        "outputId": "13dfb302-d2a8-433e-f0c3-8a46cea53678"
      },
      "outputs": [
        {
          "data": {
            "text/html": [
              "<div>\n",
              "<style scoped>\n",
              "    .dataframe tbody tr th:only-of-type {\n",
              "        vertical-align: middle;\n",
              "    }\n",
              "\n",
              "    .dataframe tbody tr th {\n",
              "        vertical-align: top;\n",
              "    }\n",
              "\n",
              "    .dataframe thead th {\n",
              "        text-align: right;\n",
              "    }\n",
              "</style>\n",
              "<table border=\"1\" class=\"dataframe\">\n",
              "  <thead>\n",
              "    <tr style=\"text-align: right;\">\n",
              "      <th></th>\n",
              "      <th>Time</th>\n",
              "      <th>V1</th>\n",
              "      <th>V2</th>\n",
              "      <th>V3</th>\n",
              "      <th>V4</th>\n",
              "      <th>V5</th>\n",
              "      <th>V6</th>\n",
              "      <th>V7</th>\n",
              "      <th>V8</th>\n",
              "      <th>V9</th>\n",
              "      <th>...</th>\n",
              "      <th>V21</th>\n",
              "      <th>V22</th>\n",
              "      <th>V23</th>\n",
              "      <th>V24</th>\n",
              "      <th>V25</th>\n",
              "      <th>V26</th>\n",
              "      <th>V27</th>\n",
              "      <th>V28</th>\n",
              "      <th>Amount</th>\n",
              "      <th>Class</th>\n",
              "    </tr>\n",
              "  </thead>\n",
              "  <tbody>\n",
              "    <tr>\n",
              "      <th>count</th>\n",
              "      <td>800.000000</td>\n",
              "      <td>800.000000</td>\n",
              "      <td>800.000000</td>\n",
              "      <td>800.000000</td>\n",
              "      <td>800.000000</td>\n",
              "      <td>800.000000</td>\n",
              "      <td>800.000000</td>\n",
              "      <td>800.000000</td>\n",
              "      <td>800.000000</td>\n",
              "      <td>800.000000</td>\n",
              "      <td>...</td>\n",
              "      <td>800.000000</td>\n",
              "      <td>800.000000</td>\n",
              "      <td>800.000000</td>\n",
              "      <td>800.000000</td>\n",
              "      <td>800.000000</td>\n",
              "      <td>800.000000</td>\n",
              "      <td>800.000000</td>\n",
              "      <td>800.000000</td>\n",
              "      <td>800.000000</td>\n",
              "      <td>800.000000</td>\n",
              "    </tr>\n",
              "    <tr>\n",
              "      <th>mean</th>\n",
              "      <td>88737.555000</td>\n",
              "      <td>-1.780805</td>\n",
              "      <td>1.321853</td>\n",
              "      <td>-2.461327</td>\n",
              "      <td>1.609300</td>\n",
              "      <td>-1.155779</td>\n",
              "      <td>-0.459905</td>\n",
              "      <td>-2.105694</td>\n",
              "      <td>0.156974</td>\n",
              "      <td>-0.987740</td>\n",
              "      <td>...</td>\n",
              "      <td>0.247411</td>\n",
              "      <td>0.000975</td>\n",
              "      <td>0.006169</td>\n",
              "      <td>0.001561</td>\n",
              "      <td>0.014722</td>\n",
              "      <td>0.023496</td>\n",
              "      <td>0.065177</td>\n",
              "      <td>0.022835</td>\n",
              "      <td>93.628300</td>\n",
              "      <td>0.375000</td>\n",
              "    </tr>\n",
              "    <tr>\n",
              "      <th>std</th>\n",
              "      <td>48687.200465</td>\n",
              "      <td>4.867947</td>\n",
              "      <td>3.318472</td>\n",
              "      <td>5.413093</td>\n",
              "      <td>3.017046</td>\n",
              "      <td>3.765274</td>\n",
              "      <td>1.711058</td>\n",
              "      <td>5.219341</td>\n",
              "      <td>4.563688</td>\n",
              "      <td>2.165103</td>\n",
              "      <td>...</td>\n",
              "      <td>2.609984</td>\n",
              "      <td>1.122752</td>\n",
              "      <td>0.974279</td>\n",
              "      <td>0.563161</td>\n",
              "      <td>0.610344</td>\n",
              "      <td>0.481272</td>\n",
              "      <td>0.835113</td>\n",
              "      <td>0.467650</td>\n",
              "      <td>213.156082</td>\n",
              "      <td>0.484426</td>\n",
              "    </tr>\n",
              "    <tr>\n",
              "      <th>min</th>\n",
              "      <td>370.000000</td>\n",
              "      <td>-29.200329</td>\n",
              "      <td>-12.295319</td>\n",
              "      <td>-30.013712</td>\n",
              "      <td>-4.997176</td>\n",
              "      <td>-21.225810</td>\n",
              "      <td>-7.074627</td>\n",
              "      <td>-43.557242</td>\n",
              "      <td>-41.044261</td>\n",
              "      <td>-13.434066</td>\n",
              "      <td>...</td>\n",
              "      <td>-22.797604</td>\n",
              "      <td>-8.887017</td>\n",
              "      <td>-15.981649</td>\n",
              "      <td>-2.203341</td>\n",
              "      <td>-3.536716</td>\n",
              "      <td>-1.211617</td>\n",
              "      <td>-5.682338</td>\n",
              "      <td>-8.424041</td>\n",
              "      <td>0.000000</td>\n",
              "      <td>0.000000</td>\n",
              "    </tr>\n",
              "    <tr>\n",
              "      <th>25%</th>\n",
              "      <td>47571.750000</td>\n",
              "      <td>-2.142640</td>\n",
              "      <td>-0.318105</td>\n",
              "      <td>-3.383418</td>\n",
              "      <td>-0.472150</td>\n",
              "      <td>-1.341269</td>\n",
              "      <td>-1.244788</td>\n",
              "      <td>-2.013343</td>\n",
              "      <td>-0.219554</td>\n",
              "      <td>-1.674782</td>\n",
              "      <td>...</td>\n",
              "      <td>-0.204293</td>\n",
              "      <td>-0.544438</td>\n",
              "      <td>-0.201487</td>\n",
              "      <td>-0.337218</td>\n",
              "      <td>-0.323995</td>\n",
              "      <td>-0.290395</td>\n",
              "      <td>-0.066871</td>\n",
              "      <td>-0.055286</td>\n",
              "      <td>1.980000</td>\n",
              "      <td>0.000000</td>\n",
              "    </tr>\n",
              "    <tr>\n",
              "      <th>50%</th>\n",
              "      <td>80172.500000</td>\n",
              "      <td>-0.617863</td>\n",
              "      <td>0.623945</td>\n",
              "      <td>-0.582938</td>\n",
              "      <td>0.647310</td>\n",
              "      <td>-0.291252</td>\n",
              "      <td>-0.518676</td>\n",
              "      <td>-0.400311</td>\n",
              "      <td>0.094043</td>\n",
              "      <td>-0.422838</td>\n",
              "      <td>...</td>\n",
              "      <td>0.090983</td>\n",
              "      <td>-0.035535</td>\n",
              "      <td>-0.023428</td>\n",
              "      <td>0.029365</td>\n",
              "      <td>0.021171</td>\n",
              "      <td>-0.022611</td>\n",
              "      <td>0.031295</td>\n",
              "      <td>0.026738</td>\n",
              "      <td>20.000000</td>\n",
              "      <td>0.000000</td>\n",
              "    </tr>\n",
              "    <tr>\n",
              "      <th>75%</th>\n",
              "      <td>136702.250000</td>\n",
              "      <td>1.139565</td>\n",
              "      <td>1.830027</td>\n",
              "      <td>0.562963</td>\n",
              "      <td>3.297053</td>\n",
              "      <td>0.529652</td>\n",
              "      <td>0.189252</td>\n",
              "      <td>0.387991</td>\n",
              "      <td>0.723437</td>\n",
              "      <td>0.274034</td>\n",
              "      <td>...</td>\n",
              "      <td>0.505658</td>\n",
              "      <td>0.562557</td>\n",
              "      <td>0.199231</td>\n",
              "      <td>0.404945</td>\n",
              "      <td>0.375674</td>\n",
              "      <td>0.299759</td>\n",
              "      <td>0.281135</td>\n",
              "      <td>0.152012</td>\n",
              "      <td>98.232500</td>\n",
              "      <td>1.000000</td>\n",
              "    </tr>\n",
              "    <tr>\n",
              "      <th>max</th>\n",
              "      <td>171530.000000</td>\n",
              "      <td>2.359186</td>\n",
              "      <td>22.057729</td>\n",
              "      <td>2.774366</td>\n",
              "      <td>12.114672</td>\n",
              "      <td>11.513596</td>\n",
              "      <td>6.474115</td>\n",
              "      <td>5.431271</td>\n",
              "      <td>19.168327</td>\n",
              "      <td>4.351838</td>\n",
              "      <td>...</td>\n",
              "      <td>27.202839</td>\n",
              "      <td>8.361985</td>\n",
              "      <td>5.466230</td>\n",
              "      <td>1.200883</td>\n",
              "      <td>2.103868</td>\n",
              "      <td>2.745261</td>\n",
              "      <td>5.297129</td>\n",
              "      <td>1.779364</td>\n",
              "      <td>3078.840000</td>\n",
              "      <td>1.000000</td>\n",
              "    </tr>\n",
              "  </tbody>\n",
              "</table>\n",
              "<p>8 rows × 31 columns</p>\n",
              "</div>"
            ],
            "text/plain": [
              "                Time          V1          V2          V3          V4  \\\n",
              "count     800.000000  800.000000  800.000000  800.000000  800.000000   \n",
              "mean    88737.555000   -1.780805    1.321853   -2.461327    1.609300   \n",
              "std     48687.200465    4.867947    3.318472    5.413093    3.017046   \n",
              "min       370.000000  -29.200329  -12.295319  -30.013712   -4.997176   \n",
              "25%     47571.750000   -2.142640   -0.318105   -3.383418   -0.472150   \n",
              "50%     80172.500000   -0.617863    0.623945   -0.582938    0.647310   \n",
              "75%    136702.250000    1.139565    1.830027    0.562963    3.297053   \n",
              "max    171530.000000    2.359186   22.057729    2.774366   12.114672   \n",
              "\n",
              "               V5          V6          V7          V8          V9  ...  \\\n",
              "count  800.000000  800.000000  800.000000  800.000000  800.000000  ...   \n",
              "mean    -1.155779   -0.459905   -2.105694    0.156974   -0.987740  ...   \n",
              "std      3.765274    1.711058    5.219341    4.563688    2.165103  ...   \n",
              "min    -21.225810   -7.074627  -43.557242  -41.044261  -13.434066  ...   \n",
              "25%     -1.341269   -1.244788   -2.013343   -0.219554   -1.674782  ...   \n",
              "50%     -0.291252   -0.518676   -0.400311    0.094043   -0.422838  ...   \n",
              "75%      0.529652    0.189252    0.387991    0.723437    0.274034  ...   \n",
              "max     11.513596    6.474115    5.431271   19.168327    4.351838  ...   \n",
              "\n",
              "              V21         V22         V23         V24         V25         V26  \\\n",
              "count  800.000000  800.000000  800.000000  800.000000  800.000000  800.000000   \n",
              "mean     0.247411    0.000975    0.006169    0.001561    0.014722    0.023496   \n",
              "std      2.609984    1.122752    0.974279    0.563161    0.610344    0.481272   \n",
              "min    -22.797604   -8.887017  -15.981649   -2.203341   -3.536716   -1.211617   \n",
              "25%     -0.204293   -0.544438   -0.201487   -0.337218   -0.323995   -0.290395   \n",
              "50%      0.090983   -0.035535   -0.023428    0.029365    0.021171   -0.022611   \n",
              "75%      0.505658    0.562557    0.199231    0.404945    0.375674    0.299759   \n",
              "max     27.202839    8.361985    5.466230    1.200883    2.103868    2.745261   \n",
              "\n",
              "              V27         V28       Amount       Class  \n",
              "count  800.000000  800.000000   800.000000  800.000000  \n",
              "mean     0.065177    0.022835    93.628300    0.375000  \n",
              "std      0.835113    0.467650   213.156082    0.484426  \n",
              "min     -5.682338   -8.424041     0.000000    0.000000  \n",
              "25%     -0.066871   -0.055286     1.980000    0.000000  \n",
              "50%      0.031295    0.026738    20.000000    0.000000  \n",
              "75%      0.281135    0.152012    98.232500    1.000000  \n",
              "max      5.297129    1.779364  3078.840000    1.000000  \n",
              "\n",
              "[8 rows x 31 columns]"
            ]
          },
          "execution_count": 53,
          "metadata": {},
          "output_type": "execute_result"
        }
      ],
      "source": [
        "credit_card_data_sample.describe()"
      ]
    },
    {
      "cell_type": "code",
      "execution_count": null,
      "id": "bcc77c83",
      "metadata": {
        "id": "bcc77c83",
        "outputId": "0eaea440-f30f-493c-b08a-504cda97d558"
      },
      "outputs": [
        {
          "name": "stdout",
          "output_type": "stream",
          "text": [
            "<class 'pandas.core.frame.DataFrame'>\n",
            "RangeIndex: 800 entries, 0 to 799\n",
            "Data columns (total 31 columns):\n",
            " #   Column  Non-Null Count  Dtype  \n",
            "---  ------  --------------  -----  \n",
            " 0   Time    800 non-null    float64\n",
            " 1   V1      800 non-null    float64\n",
            " 2   V2      800 non-null    float64\n",
            " 3   V3      800 non-null    float64\n",
            " 4   V4      800 non-null    float64\n",
            " 5   V5      800 non-null    float64\n",
            " 6   V6      800 non-null    float64\n",
            " 7   V7      800 non-null    float64\n",
            " 8   V8      800 non-null    float64\n",
            " 9   V9      800 non-null    float64\n",
            " 10  V10     800 non-null    float64\n",
            " 11  V11     800 non-null    float64\n",
            " 12  V12     800 non-null    float64\n",
            " 13  V13     800 non-null    float64\n",
            " 14  V14     800 non-null    float64\n",
            " 15  V15     800 non-null    float64\n",
            " 16  V16     800 non-null    float64\n",
            " 17  V17     800 non-null    float64\n",
            " 18  V18     800 non-null    float64\n",
            " 19  V19     800 non-null    float64\n",
            " 20  V20     800 non-null    float64\n",
            " 21  V21     800 non-null    float64\n",
            " 22  V22     800 non-null    float64\n",
            " 23  V23     800 non-null    float64\n",
            " 24  V24     800 non-null    float64\n",
            " 25  V25     800 non-null    float64\n",
            " 26  V26     800 non-null    float64\n",
            " 27  V27     800 non-null    float64\n",
            " 28  V28     800 non-null    float64\n",
            " 29  Amount  800 non-null    float64\n",
            " 30  Class   800 non-null    int64  \n",
            "dtypes: float64(30), int64(1)\n",
            "memory usage: 193.9 KB\n"
          ]
        }
      ],
      "source": [
        "credit_card_data_sample.info()"
      ]
    },
    {
      "cell_type": "code",
      "execution_count": null,
      "id": "38b8f447",
      "metadata": {
        "id": "38b8f447",
        "outputId": "f344f243-6674-4228-a65e-08cfabec16c7"
      },
      "outputs": [
        {
          "data": {
            "text/plain": [
              "Time      float64\n",
              "V1        float64\n",
              "V2        float64\n",
              "V3        float64\n",
              "V4        float64\n",
              "V5        float64\n",
              "V6        float64\n",
              "V7        float64\n",
              "V8        float64\n",
              "V9        float64\n",
              "V10       float64\n",
              "V11       float64\n",
              "V12       float64\n",
              "V13       float64\n",
              "V14       float64\n",
              "V15       float64\n",
              "V16       float64\n",
              "V17       float64\n",
              "V18       float64\n",
              "V19       float64\n",
              "V20       float64\n",
              "V21       float64\n",
              "V22       float64\n",
              "V23       float64\n",
              "V24       float64\n",
              "V25       float64\n",
              "V26       float64\n",
              "V27       float64\n",
              "V28       float64\n",
              "Amount    float64\n",
              "Class       int64\n",
              "dtype: object"
            ]
          },
          "execution_count": 55,
          "metadata": {},
          "output_type": "execute_result"
        }
      ],
      "source": [
        "credit_card_data_sample.dtypes"
      ]
    },
    {
      "cell_type": "code",
      "execution_count": null,
      "id": "f19ba46c",
      "metadata": {
        "id": "f19ba46c"
      },
      "outputs": [],
      "source": [
        "fraud_activity_count = len(credit_card_data_sample[credit_card_data_sample['Class'] == 1])"
      ]
    },
    {
      "cell_type": "code",
      "execution_count": null,
      "id": "02ba7c49",
      "metadata": {
        "id": "02ba7c49"
      },
      "outputs": [],
      "source": [
        "non_fraud_activity_count = len(credit_card_data_sample[credit_card_data_sample['Class'] == 0])"
      ]
    },
    {
      "cell_type": "code",
      "execution_count": null,
      "id": "ce9a91cb",
      "metadata": {
        "id": "ce9a91cb"
      },
      "outputs": [],
      "source": [
        "activity = ['Not Fraud', 'Fraud']"
      ]
    },
    {
      "cell_type": "code",
      "execution_count": null,
      "id": "aad99e9a",
      "metadata": {
        "id": "aad99e9a"
      },
      "outputs": [],
      "source": [
        "count = [non_fraud_activity_count, fraud_activity_count]"
      ]
    },
    {
      "cell_type": "code",
      "execution_count": null,
      "id": "9419a310",
      "metadata": {
        "id": "9419a310"
      },
      "outputs": [],
      "source": [
        "activity_distribution = pd.DataFrame({'Activity': activity,'Count': count})"
      ]
    },
    {
      "cell_type": "code",
      "execution_count": null,
      "id": "999213e0",
      "metadata": {
        "id": "999213e0",
        "outputId": "140f940d-8753-4f33-fbf4-c2de0ff394f7"
      },
      "outputs": [
        {
          "data": {
            "text/html": [
              "<div>\n",
              "<style scoped>\n",
              "    .dataframe tbody tr th:only-of-type {\n",
              "        vertical-align: middle;\n",
              "    }\n",
              "\n",
              "    .dataframe tbody tr th {\n",
              "        vertical-align: top;\n",
              "    }\n",
              "\n",
              "    .dataframe thead th {\n",
              "        text-align: right;\n",
              "    }\n",
              "</style>\n",
              "<table border=\"1\" class=\"dataframe\">\n",
              "  <thead>\n",
              "    <tr style=\"text-align: right;\">\n",
              "      <th></th>\n",
              "      <th>Activity</th>\n",
              "      <th>Count</th>\n",
              "    </tr>\n",
              "  </thead>\n",
              "  <tbody>\n",
              "    <tr>\n",
              "      <th>0</th>\n",
              "      <td>Not Fraud</td>\n",
              "      <td>500</td>\n",
              "    </tr>\n",
              "    <tr>\n",
              "      <th>1</th>\n",
              "      <td>Fraud</td>\n",
              "      <td>300</td>\n",
              "    </tr>\n",
              "  </tbody>\n",
              "</table>\n",
              "</div>"
            ],
            "text/plain": [
              "    Activity  Count\n",
              "0  Not Fraud    500\n",
              "1      Fraud    300"
            ]
          },
          "execution_count": 61,
          "metadata": {},
          "output_type": "execute_result"
        }
      ],
      "source": [
        "activity_distribution"
      ]
    },
    {
      "cell_type": "code",
      "execution_count": null,
      "id": "5c7c35e7",
      "metadata": {
        "id": "5c7c35e7"
      },
      "outputs": [],
      "source": [
        "import matplotlib.pyplot as plt"
      ]
    },
    {
      "cell_type": "code",
      "execution_count": null,
      "id": "b3c352d7",
      "metadata": {
        "id": "b3c352d7"
      },
      "outputs": [],
      "source": [
        "activity = activity_distribution['Activity']"
      ]
    },
    {
      "cell_type": "code",
      "execution_count": null,
      "id": "43fdacce",
      "metadata": {
        "id": "43fdacce"
      },
      "outputs": [],
      "source": [
        "count = activity_distribution['Count']"
      ]
    },
    {
      "cell_type": "code",
      "execution_count": null,
      "id": "1c18c9c3",
      "metadata": {
        "id": "1c18c9c3",
        "outputId": "3f81c6e1-de7f-4a80-8e57-7d53d92eef1f"
      },
      "outputs": [
        {
          "data": {
            "text/plain": [
              "<Figure size 864x432 with 0 Axes>"
            ]
          },
          "execution_count": 65,
          "metadata": {},
          "output_type": "execute_result"
        },
        {
          "data": {
            "text/plain": [
              "<Figure size 864x432 with 0 Axes>"
            ]
          },
          "metadata": {},
          "output_type": "display_data"
        }
      ],
      "source": [
        "plt.figure(figsize=(12,6))"
      ]
    },
    {
      "cell_type": "code",
      "execution_count": null,
      "id": "470f42be",
      "metadata": {
        "id": "470f42be",
        "outputId": "97f1e438-49d9-43b4-effa-d3206e0cdb2b"
      },
      "outputs": [
        {
          "data": {
            "text/plain": [
              "<BarContainer object of 2 artists>"
            ]
          },
          "execution_count": 66,
          "metadata": {},
          "output_type": "execute_result"
        },
        {
          "data": {
            "image/png": "[encoded data removed]",
            "text/plain": [
              "<Figure size 432x288 with 1 Axes>"
            ]
          },
          "metadata": {
            "needs_background": "light"
          },
          "output_type": "display_data"
        }
      ],
      "source": [
        "plt.bar(activity, count, color = ('lightgreen','lightblue'))"
      ]
    },
    {
      "cell_type": "code",
      "execution_count": null,
      "id": "8a30fc93",
      "metadata": {
        "id": "8a30fc93",
        "outputId": "90aae26b-934e-491c-a9a4-d6937b3fff18"
      },
      "outputs": [
        {
          "data": {
            "text/plain": [
              "Text(0.5, 1.0, 'Visualize Data Distribution: Fraud V/s Non-Fraud Activity in Credit Cards')"
            ]
          },
          "execution_count": 67,
          "metadata": {},
          "output_type": "execute_result"
        },
        {
          "data": {
            "image/png": "[encoded data removed]",
            "text/plain": [
              "<Figure size 432x288 with 1 Axes>"
            ]
          },
          "metadata": {
            "needs_background": "light"
          },
          "output_type": "display_data"
        }
      ],
      "source": [
        "plt.title('Visualize Data Distribution: Fraud V/s Non-Fraud Activity in Credit Cards')"
      ]
    },
    {
      "cell_type": "code",
      "execution_count": null,
      "id": "daeeb24a",
      "metadata": {
        "id": "daeeb24a",
        "outputId": "58a150a5-0da9-442c-832d-eac00b34618e"
      },
      "outputs": [
        {
          "data": {
            "text/plain": [
              "Text(0.5, 0, 'Activity Type')"
            ]
          },
          "execution_count": 68,
          "metadata": {},
          "output_type": "execute_result"
        },
        {
          "data": {
            "image/png": "[encoded data removed]",
            "text/plain": [
              "<Figure size 432x288 with 1 Axes>"
            ]
          },
          "metadata": {
            "needs_background": "light"
          },
          "output_type": "display_data"
        }
      ],
      "source": [
        "plt.xlabel(\"Activity Type\", fontsize=10)"
      ]
    },
    {
      "cell_type": "code",
      "execution_count": null,
      "id": "3da23d7c",
      "metadata": {
        "id": "3da23d7c",
        "outputId": "0ffdaac7-e61b-4fca-e0bd-6df062e688e7"
      },
      "outputs": [
        {
          "data": {
            "text/plain": [
              "Text(0, 0.5, 'Count')"
            ]
          },
          "execution_count": 69,
          "metadata": {},
          "output_type": "execute_result"
        },
        {
          "data": {
            "image/png": "[encoded data removed]",
            "text/plain": [
              "<Figure size 432x288 with 1 Axes>"
            ]
          },
          "metadata": {
            "needs_background": "light"
          },
          "output_type": "display_data"
        }
      ],
      "source": [
        "plt.ylabel(\"Count\", fontsize=10)"
      ]
    },
    {
      "cell_type": "code",
      "execution_count": null,
      "id": "8e55292b",
      "metadata": {
        "id": "8e55292b"
      },
      "outputs": [],
      "source": [
        "plt.show()"
      ]
    },
    {
      "cell_type": "code",
      "execution_count": null,
      "id": "87135679",
      "metadata": {
        "id": "87135679"
      },
      "outputs": [],
      "source": [
        "import numpy as np"
      ]
    },
    {
      "cell_type": "code",
      "execution_count": null,
      "id": "68c3b3d0",
      "metadata": {
        "id": "68c3b3d0"
      },
      "outputs": [],
      "source": [
        "count = activity_distribution['Count']"
      ]
    },
    {
      "cell_type": "code",
      "execution_count": null,
      "id": "25a0e2e6",
      "metadata": {
        "id": "25a0e2e6"
      },
      "outputs": [],
      "source": [
        "labels = activity_distribution['Activity']"
      ]
    },
    {
      "cell_type": "code",
      "execution_count": null,
      "id": "ab307fb7",
      "metadata": {
        "id": "ab307fb7"
      },
      "outputs": [],
      "source": [
        "colors = ['lightblue', 'blue']"
      ]
    },
    {
      "cell_type": "code",
      "execution_count": null,
      "id": "2853c968",
      "metadata": {
        "id": "2853c968"
      },
      "outputs": [],
      "source": [
        "explode = [0.01, 0.05]"
      ]
    },
    {
      "cell_type": "code",
      "execution_count": null,
      "id": "fd0001de",
      "metadata": {
        "id": "fd0001de",
        "outputId": "18dba3e9-6415-4bad-8395-1ca2aaa140e2"
      },
      "outputs": [
        {
          "data": {
            "text/plain": [
              "<Figure size 864x720 with 0 Axes>"
            ]
          },
          "execution_count": 76,
          "metadata": {},
          "output_type": "execute_result"
        },
        {
          "data": {
            "text/plain": [
              "<Figure size 864x720 with 0 Axes>"
            ]
          },
          "metadata": {},
          "output_type": "display_data"
        }
      ],
      "source": [
        "plt.figure(figsize=(12,10))"
      ]
    },
    {
      "cell_type": "code",
      "execution_count": null,
      "id": "07b7eac2",
      "metadata": {
        "id": "07b7eac2",
        "outputId": "00df2e17-0a18-427e-928c-51b1c42de8f2"
      },
      "outputs": [
        {
          "data": {
            "text/plain": [
              "([<matplotlib.patches.Wedge at 0x273e2a2daf0>,\n",
              "  <matplotlib.patches.Wedge at 0x273e2a3d460>],\n",
              " [Text(-0.42477860992524963, 1.0255062810875284, 'Not Fraud'),\n",
              "  Text(0.4400859472198535, -1.0624614623879798, 'Fraud')],\n",
              " [Text(-0.2334368937427047, 0.5635665148318849, '62.5%'),\n",
              "  Text(0.2487442310373085, -0.6005216961323363, '37.5%')])"
            ]
          },
          "execution_count": 77,
          "metadata": {},
          "output_type": "execute_result"
        },
        {
          "data": {
            "image/png": "[encoded data removed]",
            "text/plain": [
              "<Figure size 432x288 with 1 Axes>"
            ]
          },
          "metadata": {},
          "output_type": "display_data"
        }
      ],
      "source": [
        "plt.pie(count, explode=explode, labels=labels, shadow = 'black', autopct = '%1.1f%%', colors = colors)"
      ]
    },
    {
      "cell_type": "code",
      "execution_count": null,
      "id": "c16c44f4",
      "metadata": {
        "id": "c16c44f4"
      },
      "outputs": [],
      "source": [
        "plt.show()"
      ]
    },
    {
      "cell_type": "code",
      "execution_count": null,
      "id": "7dced026",
      "metadata": {
        "id": "7dced026"
      },
      "outputs": [],
      "source": [
        "count = activity_distribution['Count']"
      ]
    },
    {
      "cell_type": "code",
      "execution_count": null,
      "id": "dc36dbfc",
      "metadata": {
        "id": "dc36dbfc"
      },
      "outputs": [],
      "source": [
        "labels = activity_distribution['Activity']"
      ]
    },
    {
      "cell_type": "code",
      "execution_count": null,
      "id": "43ca9428",
      "metadata": {
        "id": "43ca9428"
      },
      "outputs": [],
      "source": [
        "colors = ['lightgreen', 'green']"
      ]
    },
    {
      "cell_type": "code",
      "execution_count": null,
      "id": "16f50c7c",
      "metadata": {
        "id": "16f50c7c"
      },
      "outputs": [],
      "source": [
        "explode = [0.01, 0.05]"
      ]
    },
    {
      "cell_type": "code",
      "execution_count": null,
      "id": "1960ea8b",
      "metadata": {
        "id": "1960ea8b",
        "outputId": "01cac9c2-9f44-4707-ff27-9dbb9caf8a62"
      },
      "outputs": [
        {
          "data": {
            "text/plain": [
              "<Figure size 864x720 with 0 Axes>"
            ]
          },
          "execution_count": 83,
          "metadata": {},
          "output_type": "execute_result"
        },
        {
          "data": {
            "text/plain": [
              "<Figure size 864x720 with 0 Axes>"
            ]
          },
          "metadata": {},
          "output_type": "display_data"
        }
      ],
      "source": [
        "plt.figure(figsize=(12,10))"
      ]
    },
    {
      "cell_type": "code",
      "execution_count": null,
      "id": "cd736387",
      "metadata": {
        "id": "cd736387",
        "outputId": "99ad9da4-c436-4df0-8543-4c8134003c8c"
      },
      "outputs": [
        {
          "data": {
            "text/plain": [
              "([<matplotlib.patches.Wedge at 0x273e2a8e340>,\n",
              "  <matplotlib.patches.Wedge at 0x273e2a8ea60>],\n",
              " [Text(-1.0255062810875286, -0.4247786099252496, 'Not Fraud'),\n",
              "  Text(1.0624614623879798, 0.44008594721985345, 'Fraud')],\n",
              " [Text(-0.7945363979597067, -0.3291077518339771, '62.5%'),\n",
              "  Text(0.831491579260158, 0.34441508912858093, '37.5%')])"
            ]
          },
          "execution_count": 84,
          "metadata": {},
          "output_type": "execute_result"
        },
        {
          "data": {
            "image/png": "[encoded data removed]",
            "text/plain": [
              "<Figure size 432x288 with 1 Axes>"
            ]
          },
          "metadata": {},
          "output_type": "display_data"
        }
      ],
      "source": [
        "plt.pie(count, autopct='%1.1f%%', startangle=90, pctdistance=0.85, explode = explode, labels = labels, colors = colors)"
      ]
    },
    {
      "cell_type": "code",
      "execution_count": null,
      "id": "b8f0efea",
      "metadata": {
        "id": "b8f0efea"
      },
      "outputs": [],
      "source": [
        "centre_circle = plt.Circle((0,0),0.70,fc='white')"
      ]
    },
    {
      "cell_type": "code",
      "execution_count": null,
      "id": "1bf1a71c",
      "metadata": {
        "id": "1bf1a71c",
        "outputId": "e2fe4283-ba8f-4ac4-d91f-16bab180ae31"
      },
      "outputs": [
        {
          "data": {
            "text/plain": [
              "<Figure size 432x288 with 0 Axes>"
            ]
          },
          "metadata": {},
          "output_type": "display_data"
        }
      ],
      "source": [
        "fig = plt.gcf()"
      ]
    },
    {
      "cell_type": "code",
      "execution_count": null,
      "id": "7607806d",
      "metadata": {
        "id": "7607806d",
        "outputId": "315ecfbf-6cfd-42fb-f4ea-4d55a919d4f7"
      },
      "outputs": [
        {
          "data": {
            "text/plain": [
              "<matplotlib.patches.Circle at 0x273e2a605b0>"
            ]
          },
          "execution_count": 87,
          "metadata": {},
          "output_type": "execute_result"
        }
      ],
      "source": [
        "fig.gca().add_artist(centre_circle)"
      ]
    },
    {
      "cell_type": "code",
      "execution_count": null,
      "id": "f277eb56",
      "metadata": {
        "id": "f277eb56",
        "outputId": "15f5c5df-f0cf-42bb-e290-54db7462190e"
      },
      "outputs": [
        {
          "data": {
            "text/plain": [
              "<Figure size 432x288 with 0 Axes>"
            ]
          },
          "metadata": {},
          "output_type": "display_data"
        }
      ],
      "source": [
        "plt.tight_layout()"
      ]
    },
    {
      "cell_type": "code",
      "execution_count": null,
      "id": "76b3f755",
      "metadata": {
        "id": "76b3f755"
      },
      "outputs": [],
      "source": [
        "plt.show()"
      ]
    },
    {
      "cell_type": "code",
      "execution_count": null,
      "id": "958440d9",
      "metadata": {
        "id": "958440d9",
        "outputId": "23d35576-684a-4b86-abe7-a27aae452351"
      },
      "outputs": [
        {
          "data": {
            "text/plain": [
              "Class     1.000000\n",
              "V4        0.740777\n",
              "V11       0.710285\n",
              "V2        0.522774\n",
              "V19       0.329968\n",
              "V20       0.162404\n",
              "V21       0.134654\n",
              "V28       0.097918\n",
              "Amount    0.086343\n",
              "V27       0.085623\n",
              "V26       0.059640\n",
              "V8        0.054847\n",
              "V22       0.021192\n",
              "V23      -0.002592\n",
              "V13      -0.015390\n",
              "V15      -0.016941\n",
              "V25      -0.020632\n",
              "V24      -0.109481\n",
              "Time     -0.141482\n",
              "V6       -0.356252\n",
              "V5       -0.413610\n",
              "V1       -0.482957\n",
              "V18      -0.506327\n",
              "V7       -0.508687\n",
              "V9       -0.586294\n",
              "V17      -0.597316\n",
              "V3       -0.602052\n",
              "V16      -0.636165\n",
              "V10      -0.655012\n",
              "V12      -0.718553\n",
              "V14      -0.782192\n",
              "dtype: float64"
            ]
          },
          "execution_count": 90,
          "metadata": {},
          "output_type": "execute_result"
        }
      ],
      "source": [
        "credit_card_data_sample.corrwith(credit_card_data_sample.Class).sort_values(ascending=False)"
      ]
    },
    {
      "cell_type": "code",
      "execution_count": null,
      "id": "6af80361",
      "metadata": {
        "id": "6af80361",
        "outputId": "aefbef5c-cdb8-47ee-e723-ab7137e6daf0"
      },
      "outputs": [
        {
          "data": {
            "text/plain": [
              "<AxesSubplot:title={'center':'Correlation with class'}>"
            ]
          },
          "execution_count": 91,
          "metadata": {},
          "output_type": "execute_result"
        },
        {
          "data": {
            "image/png": "[encoded data removed]",
            "text/plain": [
              "<Figure size 1440x720 with 1 Axes>"
            ]
          },
          "metadata": {
            "needs_background": "light"
          },
          "output_type": "display_data"
        }
      ],
      "source": [
        "credit_card_data_sample.corrwith(credit_card_data_sample.Class).sort_values(ascending=False).plot.bar(\n",
        "        figsize = (20, 10), title = \"Correlation with class\", fontsize = 15,\n",
        "        rot = 45, grid = True)"
      ]
    },
    {
      "cell_type": "code",
      "execution_count": null,
      "id": "bef152e7",
      "metadata": {
        "id": "bef152e7"
      },
      "outputs": [],
      "source": [
        "import seaborn as sns"
      ]
    },
    {
      "cell_type": "code",
      "execution_count": null,
      "id": "72516907",
      "metadata": {
        "id": "72516907"
      },
      "outputs": [],
      "source": [
        "sns.set(style=\"white\")"
      ]
    },
    {
      "cell_type": "code",
      "execution_count": null,
      "id": "358aad92",
      "metadata": {
        "id": "358aad92"
      },
      "outputs": [],
      "source": [
        "corr = credit_card_data_sample.corr()"
      ]
    },
    {
      "cell_type": "code",
      "execution_count": null,
      "id": "8da4d602",
      "metadata": {
        "id": "8da4d602",
        "outputId": "44fdac46-a5f8-4840-c951-91ef0b140ba2"
      },
      "outputs": [
        {
          "name": "stderr",
          "output_type": "stream",
          "text": [
            "<ipython-input-95-06bc12eb8bc2>:1: DeprecationWarning: `np.bool` is a deprecated alias for the builtin `bool`. To silence this warning, use `bool` by itself. Doing this will not modify any behavior and is safe. If you specifically wanted the numpy scalar type, use `np.bool_` here.\n",
            "Deprecated in NumPy 1.20; for more details and guidance: https://numpy.org/devdocs/release/1.20.0-notes.html#deprecations\n",
            "  mask = np.zeros_like(corr, dtype=np.bool)\n"
          ]
        }
      ],
      "source": [
        "mask = np.zeros_like(corr, dtype=np.bool)"
      ]
    },
    {
      "cell_type": "code",
      "execution_count": null,
      "id": "d4aa1a68",
      "metadata": {
        "id": "d4aa1a68"
      },
      "outputs": [],
      "source": [
        "mask[np.triu_indices_from(mask)] = True"
      ]
    },
    {
      "cell_type": "code",
      "execution_count": null,
      "id": "5c3142ce",
      "metadata": {
        "id": "5c3142ce",
        "outputId": "c6515ab6-01fc-418c-d9f2-02526be8ee1f"
      },
      "outputs": [
        {
          "data": {
            "image/png": "[encoded data removed]",
            "text/plain": [
              "<Figure size 1152x864 with 1 Axes>"
            ]
          },
          "metadata": {},
          "output_type": "display_data"
        }
      ],
      "source": [
        "f, ax = plt.subplots(figsize=(16, 12))"
      ]
    },
    {
      "cell_type": "code",
      "execution_count": null,
      "id": "fff3db67",
      "metadata": {
        "id": "fff3db67"
      },
      "outputs": [],
      "source": [
        "cmap = sns.diverging_palette(220, 10, as_cmap=True)"
      ]
    },
    {
      "cell_type": "code",
      "execution_count": null,
      "id": "f835d859",
      "metadata": {
        "id": "f835d859",
        "outputId": "f5285711-3220-463f-f4c3-50dbdc040f6c"
      },
      "outputs": [
        {
          "data": {
            "text/plain": [
              "<AxesSubplot:>"
            ]
          },
          "execution_count": 99,
          "metadata": {},
          "output_type": "execute_result"
        },
        {
          "data": {
            "image/png": "[encoded data removed]",
            "text/plain": [
              "<Figure size 432x288 with 2 Axes>"
            ]
          },
          "metadata": {},
          "output_type": "display_data"
        }
      ],
      "source": [
        "sns.heatmap(corr, mask=mask, cmap=cmap, vmax=.3, center=0,\n",
        "            square=True, linewidths=.5, cbar_kws={\"shrink\": .5})"
      ]
    },
    {
      "cell_type": "code",
      "execution_count": null,
      "id": "6070ec8f",
      "metadata": {
        "id": "6070ec8f",
        "outputId": "77b1799a-10a7-4d4d-8e53-f03cf1b3e527"
      },
      "outputs": [
        {
          "data": {
            "text/html": [
              "<div>\n",
              "<style scoped>\n",
              "    .dataframe tbody tr th:only-of-type {\n",
              "        vertical-align: middle;\n",
              "    }\n",
              "\n",
              "    .dataframe tbody tr th {\n",
              "        vertical-align: top;\n",
              "    }\n",
              "\n",
              "    .dataframe thead th {\n",
              "        text-align: right;\n",
              "    }\n",
              "</style>\n",
              "<table border=\"1\" class=\"dataframe\">\n",
              "  <thead>\n",
              "    <tr style=\"text-align: right;\">\n",
              "      <th></th>\n",
              "      <th>Time</th>\n",
              "      <th>V1</th>\n",
              "      <th>V2</th>\n",
              "      <th>V3</th>\n",
              "      <th>V4</th>\n",
              "      <th>V5</th>\n",
              "      <th>V6</th>\n",
              "      <th>V7</th>\n",
              "      <th>V8</th>\n",
              "      <th>V9</th>\n",
              "      <th>...</th>\n",
              "      <th>V21</th>\n",
              "      <th>V22</th>\n",
              "      <th>V23</th>\n",
              "      <th>V24</th>\n",
              "      <th>V25</th>\n",
              "      <th>V26</th>\n",
              "      <th>V27</th>\n",
              "      <th>V28</th>\n",
              "      <th>Amount</th>\n",
              "      <th>Class</th>\n",
              "    </tr>\n",
              "  </thead>\n",
              "  <tbody>\n",
              "    <tr>\n",
              "      <th>0</th>\n",
              "      <td>125658.0</td>\n",
              "      <td>0.224414</td>\n",
              "      <td>2.994499</td>\n",
              "      <td>-3.432458</td>\n",
              "      <td>3.986519</td>\n",
              "      <td>3.760233</td>\n",
              "      <td>0.165640</td>\n",
              "      <td>1.099378</td>\n",
              "      <td>-0.654557</td>\n",
              "      <td>-2.435416</td>\n",
              "      <td>...</td>\n",
              "      <td>0.491337</td>\n",
              "      <td>-0.984223</td>\n",
              "      <td>-0.421979</td>\n",
              "      <td>-1.048058</td>\n",
              "      <td>0.726412</td>\n",
              "      <td>0.268625</td>\n",
              "      <td>0.283689</td>\n",
              "      <td>0.419102</td>\n",
              "      <td>0.00</td>\n",
              "      <td>1</td>\n",
              "    </tr>\n",
              "    <tr>\n",
              "      <th>1</th>\n",
              "      <td>77969.0</td>\n",
              "      <td>1.042044</td>\n",
              "      <td>-0.981160</td>\n",
              "      <td>-0.138839</td>\n",
              "      <td>-0.546631</td>\n",
              "      <td>-1.006788</td>\n",
              "      <td>-0.876558</td>\n",
              "      <td>-0.060198</td>\n",
              "      <td>-0.213906</td>\n",
              "      <td>-1.260190</td>\n",
              "      <td>...</td>\n",
              "      <td>-0.294016</td>\n",
              "      <td>-0.811205</td>\n",
              "      <td>-0.108404</td>\n",
              "      <td>0.351276</td>\n",
              "      <td>0.207090</td>\n",
              "      <td>0.976671</td>\n",
              "      <td>-0.115275</td>\n",
              "      <td>0.019796</td>\n",
              "      <td>179.67</td>\n",
              "      <td>0</td>\n",
              "    </tr>\n",
              "    <tr>\n",
              "      <th>2</th>\n",
              "      <td>102676.0</td>\n",
              "      <td>-5.552122</td>\n",
              "      <td>5.678134</td>\n",
              "      <td>-9.775528</td>\n",
              "      <td>8.416295</td>\n",
              "      <td>-4.409844</td>\n",
              "      <td>-1.506235</td>\n",
              "      <td>-6.899839</td>\n",
              "      <td>3.750443</td>\n",
              "      <td>-3.879793</td>\n",
              "      <td>...</td>\n",
              "      <td>1.128472</td>\n",
              "      <td>0.228484</td>\n",
              "      <td>0.286258</td>\n",
              "      <td>-0.536294</td>\n",
              "      <td>-0.104925</td>\n",
              "      <td>0.420919</td>\n",
              "      <td>-0.297557</td>\n",
              "      <td>-0.946184</td>\n",
              "      <td>119.74</td>\n",
              "      <td>1</td>\n",
              "    </tr>\n",
              "    <tr>\n",
              "      <th>3</th>\n",
              "      <td>155554.0</td>\n",
              "      <td>-1.040067</td>\n",
              "      <td>3.106703</td>\n",
              "      <td>-5.409027</td>\n",
              "      <td>3.109903</td>\n",
              "      <td>-0.887237</td>\n",
              "      <td>-2.497522</td>\n",
              "      <td>-2.073347</td>\n",
              "      <td>0.639818</td>\n",
              "      <td>-3.013331</td>\n",
              "      <td>...</td>\n",
              "      <td>0.773961</td>\n",
              "      <td>0.214868</td>\n",
              "      <td>-0.184233</td>\n",
              "      <td>-0.284091</td>\n",
              "      <td>0.493467</td>\n",
              "      <td>0.732329</td>\n",
              "      <td>0.675067</td>\n",
              "      <td>0.337076</td>\n",
              "      <td>94.82</td>\n",
              "      <td>1</td>\n",
              "    </tr>\n",
              "    <tr>\n",
              "      <th>4</th>\n",
              "      <td>127859.0</td>\n",
              "      <td>1.937854</td>\n",
              "      <td>0.166812</td>\n",
              "      <td>-1.618439</td>\n",
              "      <td>1.418302</td>\n",
              "      <td>0.486345</td>\n",
              "      <td>-1.104260</td>\n",
              "      <td>0.788635</td>\n",
              "      <td>-0.500060</td>\n",
              "      <td>0.014830</td>\n",
              "      <td>...</td>\n",
              "      <td>0.092476</td>\n",
              "      <td>0.447343</td>\n",
              "      <td>-0.058037</td>\n",
              "      <td>0.027565</td>\n",
              "      <td>0.481166</td>\n",
              "      <td>-0.498548</td>\n",
              "      <td>-0.015793</td>\n",
              "      <td>-0.051185</td>\n",
              "      <td>56.06</td>\n",
              "      <td>0</td>\n",
              "    </tr>\n",
              "  </tbody>\n",
              "</table>\n",
              "<p>5 rows × 31 columns</p>\n",
              "</div>"
            ],
            "text/plain": [
              "       Time        V1        V2        V3        V4        V5        V6  \\\n",
              "0  125658.0  0.224414  2.994499 -3.432458  3.986519  3.760233  0.165640   \n",
              "1   77969.0  1.042044 -0.981160 -0.138839 -0.546631 -1.006788 -0.876558   \n",
              "2  102676.0 -5.552122  5.678134 -9.775528  8.416295 -4.409844 -1.506235   \n",
              "3  155554.0 -1.040067  3.106703 -5.409027  3.109903 -0.887237 -2.497522   \n",
              "4  127859.0  1.937854  0.166812 -1.618439  1.418302  0.486345 -1.104260   \n",
              "\n",
              "         V7        V8        V9  ...       V21       V22       V23       V24  \\\n",
              "0  1.099378 -0.654557 -2.435416  ...  0.491337 -0.984223 -0.421979 -1.048058   \n",
              "1 -0.060198 -0.213906 -1.260190  ... -0.294016 -0.811205 -0.108404  0.351276   \n",
              "2 -6.899839  3.750443 -3.879793  ...  1.128472  0.228484  0.286258 -0.536294   \n",
              "3 -2.073347  0.639818 -3.013331  ...  0.773961  0.214868 -0.184233 -0.284091   \n",
              "4  0.788635 -0.500060  0.014830  ...  0.092476  0.447343 -0.058037  0.027565   \n",
              "\n",
              "        V25       V26       V27       V28  Amount  Class  \n",
              "0  0.726412  0.268625  0.283689  0.419102    0.00      1  \n",
              "1  0.207090  0.976671 -0.115275  0.019796  179.67      0  \n",
              "2 -0.104925  0.420919 -0.297557 -0.946184  119.74      1  \n",
              "3  0.493467  0.732329  0.675067  0.337076   94.82      1  \n",
              "4  0.481166 -0.498548 -0.015793 -0.051185   56.06      0  \n",
              "\n",
              "[5 rows x 31 columns]"
            ]
          },
          "execution_count": 100,
          "metadata": {},
          "output_type": "execute_result"
        }
      ],
      "source": [
        "credit_card_data_sample.head()"
      ]
    },
    {
      "cell_type": "code",
      "execution_count": null,
      "id": "143e1cda",
      "metadata": {
        "id": "143e1cda"
      },
      "outputs": [],
      "source": [
        "from sklearn.preprocessing import StandardScaler"
      ]
    },
    {
      "cell_type": "code",
      "execution_count": null,
      "id": "95e4799f",
      "metadata": {
        "id": "95e4799f"
      },
      "outputs": [],
      "source": [
        "credit_card_data_sample['normalizedAmount'] = StandardScaler().fit_transform(credit_card_data_sample['Amount'].values.reshape(-1,1))"
      ]
    },
    {
      "cell_type": "code",
      "execution_count": null,
      "id": "f5c711dc",
      "metadata": {
        "id": "f5c711dc"
      },
      "outputs": [],
      "source": [
        "credit_card_data_sample = credit_card_data_sample.drop(['Amount'],axis=1)"
      ]
    },
    {
      "cell_type": "code",
      "execution_count": null,
      "id": "17ef5381",
      "metadata": {
        "id": "17ef5381",
        "outputId": "4810b513-0d9f-4195-d9c3-974853095670"
      },
      "outputs": [
        {
          "data": {
            "text/html": [
              "<div>\n",
              "<style scoped>\n",
              "    .dataframe tbody tr th:only-of-type {\n",
              "        vertical-align: middle;\n",
              "    }\n",
              "\n",
              "    .dataframe tbody tr th {\n",
              "        vertical-align: top;\n",
              "    }\n",
              "\n",
              "    .dataframe thead th {\n",
              "        text-align: right;\n",
              "    }\n",
              "</style>\n",
              "<table border=\"1\" class=\"dataframe\">\n",
              "  <thead>\n",
              "    <tr style=\"text-align: right;\">\n",
              "      <th></th>\n",
              "      <th>Time</th>\n",
              "      <th>V1</th>\n",
              "      <th>V2</th>\n",
              "      <th>V3</th>\n",
              "      <th>V4</th>\n",
              "      <th>V5</th>\n",
              "      <th>V6</th>\n",
              "      <th>V7</th>\n",
              "      <th>V8</th>\n",
              "      <th>V9</th>\n",
              "      <th>...</th>\n",
              "      <th>V21</th>\n",
              "      <th>V22</th>\n",
              "      <th>V23</th>\n",
              "      <th>V24</th>\n",
              "      <th>V25</th>\n",
              "      <th>V26</th>\n",
              "      <th>V27</th>\n",
              "      <th>V28</th>\n",
              "      <th>Class</th>\n",
              "      <th>normalizedAmount</th>\n",
              "    </tr>\n",
              "  </thead>\n",
              "  <tbody>\n",
              "    <tr>\n",
              "      <th>0</th>\n",
              "      <td>125658.0</td>\n",
              "      <td>0.224414</td>\n",
              "      <td>2.994499</td>\n",
              "      <td>-3.432458</td>\n",
              "      <td>3.986519</td>\n",
              "      <td>3.760233</td>\n",
              "      <td>0.165640</td>\n",
              "      <td>1.099378</td>\n",
              "      <td>-0.654557</td>\n",
              "      <td>-2.435416</td>\n",
              "      <td>...</td>\n",
              "      <td>0.491337</td>\n",
              "      <td>-0.984223</td>\n",
              "      <td>-0.421979</td>\n",
              "      <td>-1.048058</td>\n",
              "      <td>0.726412</td>\n",
              "      <td>0.268625</td>\n",
              "      <td>0.283689</td>\n",
              "      <td>0.419102</td>\n",
              "      <td>1</td>\n",
              "      <td>-0.439522</td>\n",
              "    </tr>\n",
              "    <tr>\n",
              "      <th>1</th>\n",
              "      <td>77969.0</td>\n",
              "      <td>1.042044</td>\n",
              "      <td>-0.981160</td>\n",
              "      <td>-0.138839</td>\n",
              "      <td>-0.546631</td>\n",
              "      <td>-1.006788</td>\n",
              "      <td>-0.876558</td>\n",
              "      <td>-0.060198</td>\n",
              "      <td>-0.213906</td>\n",
              "      <td>-1.260190</td>\n",
              "      <td>...</td>\n",
              "      <td>-0.294016</td>\n",
              "      <td>-0.811205</td>\n",
              "      <td>-0.108404</td>\n",
              "      <td>0.351276</td>\n",
              "      <td>0.207090</td>\n",
              "      <td>0.976671</td>\n",
              "      <td>-0.115275</td>\n",
              "      <td>0.019796</td>\n",
              "      <td>0</td>\n",
              "      <td>0.403908</td>\n",
              "    </tr>\n",
              "    <tr>\n",
              "      <th>2</th>\n",
              "      <td>102676.0</td>\n",
              "      <td>-5.552122</td>\n",
              "      <td>5.678134</td>\n",
              "      <td>-9.775528</td>\n",
              "      <td>8.416295</td>\n",
              "      <td>-4.409844</td>\n",
              "      <td>-1.506235</td>\n",
              "      <td>-6.899839</td>\n",
              "      <td>3.750443</td>\n",
              "      <td>-3.879793</td>\n",
              "      <td>...</td>\n",
              "      <td>1.128472</td>\n",
              "      <td>0.228484</td>\n",
              "      <td>0.286258</td>\n",
              "      <td>-0.536294</td>\n",
              "      <td>-0.104925</td>\n",
              "      <td>0.420919</td>\n",
              "      <td>-0.297557</td>\n",
              "      <td>-0.946184</td>\n",
              "      <td>1</td>\n",
              "      <td>0.122577</td>\n",
              "    </tr>\n",
              "    <tr>\n",
              "      <th>3</th>\n",
              "      <td>155554.0</td>\n",
              "      <td>-1.040067</td>\n",
              "      <td>3.106703</td>\n",
              "      <td>-5.409027</td>\n",
              "      <td>3.109903</td>\n",
              "      <td>-0.887237</td>\n",
              "      <td>-2.497522</td>\n",
              "      <td>-2.073347</td>\n",
              "      <td>0.639818</td>\n",
              "      <td>-3.013331</td>\n",
              "      <td>...</td>\n",
              "      <td>0.773961</td>\n",
              "      <td>0.214868</td>\n",
              "      <td>-0.184233</td>\n",
              "      <td>-0.284091</td>\n",
              "      <td>0.493467</td>\n",
              "      <td>0.732329</td>\n",
              "      <td>0.675067</td>\n",
              "      <td>0.337076</td>\n",
              "      <td>1</td>\n",
              "      <td>0.005594</td>\n",
              "    </tr>\n",
              "    <tr>\n",
              "      <th>4</th>\n",
              "      <td>127859.0</td>\n",
              "      <td>1.937854</td>\n",
              "      <td>0.166812</td>\n",
              "      <td>-1.618439</td>\n",
              "      <td>1.418302</td>\n",
              "      <td>0.486345</td>\n",
              "      <td>-1.104260</td>\n",
              "      <td>0.788635</td>\n",
              "      <td>-0.500060</td>\n",
              "      <td>0.014830</td>\n",
              "      <td>...</td>\n",
              "      <td>0.092476</td>\n",
              "      <td>0.447343</td>\n",
              "      <td>-0.058037</td>\n",
              "      <td>0.027565</td>\n",
              "      <td>0.481166</td>\n",
              "      <td>-0.498548</td>\n",
              "      <td>-0.015793</td>\n",
              "      <td>-0.051185</td>\n",
              "      <td>0</td>\n",
              "      <td>-0.176358</td>\n",
              "    </tr>\n",
              "  </tbody>\n",
              "</table>\n",
              "<p>5 rows × 31 columns</p>\n",
              "</div>"
            ],
            "text/plain": [
              "       Time        V1        V2        V3        V4        V5        V6  \\\n",
              "0  125658.0  0.224414  2.994499 -3.432458  3.986519  3.760233  0.165640   \n",
              "1   77969.0  1.042044 -0.981160 -0.138839 -0.546631 -1.006788 -0.876558   \n",
              "2  102676.0 -5.552122  5.678134 -9.775528  8.416295 -4.409844 -1.506235   \n",
              "3  155554.0 -1.040067  3.106703 -5.409027  3.109903 -0.887237 -2.497522   \n",
              "4  127859.0  1.937854  0.166812 -1.618439  1.418302  0.486345 -1.104260   \n",
              "\n",
              "         V7        V8        V9  ...       V21       V22       V23       V24  \\\n",
              "0  1.099378 -0.654557 -2.435416  ...  0.491337 -0.984223 -0.421979 -1.048058   \n",
              "1 -0.060198 -0.213906 -1.260190  ... -0.294016 -0.811205 -0.108404  0.351276   \n",
              "2 -6.899839  3.750443 -3.879793  ...  1.128472  0.228484  0.286258 -0.536294   \n",
              "3 -2.073347  0.639818 -3.013331  ...  0.773961  0.214868 -0.184233 -0.284091   \n",
              "4  0.788635 -0.500060  0.014830  ...  0.092476  0.447343 -0.058037  0.027565   \n",
              "\n",
              "        V25       V26       V27       V28  Class  normalizedAmount  \n",
              "0  0.726412  0.268625  0.283689  0.419102      1         -0.439522  \n",
              "1  0.207090  0.976671 -0.115275  0.019796      0          0.403908  \n",
              "2 -0.104925  0.420919 -0.297557 -0.946184      1          0.122577  \n",
              "3  0.493467  0.732329  0.675067  0.337076      1          0.005594  \n",
              "4  0.481166 -0.498548 -0.015793 -0.051185      0         -0.176358  \n",
              "\n",
              "[5 rows x 31 columns]"
            ]
          },
          "execution_count": 104,
          "metadata": {},
          "output_type": "execute_result"
        }
      ],
      "source": [
        "credit_card_data_sample.head()"
      ]
    },
    {
      "cell_type": "code",
      "execution_count": null,
      "id": "941cdede",
      "metadata": {
        "id": "941cdede",
        "outputId": "2109bb36-5857-4743-9e1e-76ec5e07c8ea"
      },
      "outputs": [
        {
          "data": {
            "text/plain": [
              "array([1, 0, 1, 1, 0], dtype=int64)"
            ]
          },
          "execution_count": 105,
          "metadata": {},
          "output_type": "execute_result"
        }
      ],
      "source": [
        "y = credit_card_data_sample.iloc[:, credit_card_data_sample.columns == 'Class']\n",
        "y = y['Class'].ravel()\n",
        "y[:5]\n"
      ]
    },
    {
      "cell_type": "code",
      "execution_count": null,
      "id": "b4d98d09",
      "metadata": {
        "id": "b4d98d09"
      },
      "outputs": [],
      "source": [
        "X1 = credit_card_data_sample[['V4', 'V11', 'V2', 'V19','V6', 'V5', 'V1', 'V18', 'V7', 'V9', 'V17', 'V3',\n",
        "                              'V16', 'V10','V12', 'V14' ]]\n",
        "X2 = credit_card_data_sample[['V4', 'V11', 'V2','V6', 'V5', 'V1', 'V18', 'V7', 'V9', 'V17', 'V3',\n",
        "                              'V16', 'V10','V12', 'V14' ]]\n",
        "X3 = credit_card_data_sample[['V4', 'V11', 'V2','V1', 'V18', 'V7', 'V9', 'V17', 'V3',\n",
        "                              'V16', 'V10','V12', 'V14' ]]\n",
        "X4 = credit_card_data_sample[['V4', 'V11', 'V2', 'V18', 'V7', 'V9', 'V17', 'V3',\n",
        "                              'V16', 'V10','V12', 'V14' ]]\n",
        "X5 = credit_card_data_sample[['V4', 'V11', 'V18', 'V7', 'V9', 'V17', 'V3',\n",
        "                              'V16', 'V10','V12', 'V14' ]]\n",
        "X6 = credit_card_data_sample[['V4', 'V11', 'V2', 'V9', 'V17', 'V3',\n",
        "                              'V16', 'V10','V12', 'V14' ]]\n",
        "X7 = credit_card_data_sample[['V4', 'V11', 'V2', 'V17', 'V3',\n",
        "                              'V16', 'V10','V12', 'V14' ]]\n",
        "X8 = credit_card_data_sample[['V4', 'V11', 'V2', 'V19', 'V3',\n",
        "                              'V16', 'V10','V12', 'V14' ]]\n",
        "X9 = credit_card_data_sample[['V4', 'V11', 'V2','V16', 'V10','V12', 'V14' ]]\n",
        "X10 = credit_card_data_sample[['V4', 'V11', 'V2','V10','V12', 'V14' ]]\n"
      ]
    },
    {
      "cell_type": "code",
      "execution_count": null,
      "id": "ad87c722",
      "metadata": {
        "id": "ad87c722",
        "outputId": "d3f10bba-2b68-4324-ea73-ce33d298d701"
      },
      "outputs": [
        {
          "name": "stdout",
          "output_type": "stream",
          "text": [
            "16\n",
            "15\n",
            "13\n",
            "12\n",
            "11\n",
            "10\n",
            "9\n",
            "9\n",
            "7\n",
            "6\n"
          ]
        }
      ],
      "source": [
        "print(len(X1.columns))\n",
        "print(len(X2.columns))\n",
        "print(len(X3.columns))\n",
        "print(len(X4.columns))\n",
        "print(len(X5.columns))\n",
        "print(len(X6.columns))\n",
        "print(len(X7.columns))\n",
        "print(len(X8.columns))\n",
        "print(len(X9.columns))\n",
        "print(len(X10.columns))\n"
      ]
    },
    {
      "cell_type": "code",
      "execution_count": null,
      "id": "c2a8d206",
      "metadata": {
        "id": "c2a8d206"
      },
      "outputs": [],
      "source": [
        "X = [X1, X2, X3, X4, X5, X6 ,X7, X8, X9, X10]"
      ]
    },
    {
      "cell_type": "code",
      "execution_count": null,
      "id": "08d4025b",
      "metadata": {
        "id": "08d4025b"
      },
      "outputs": [],
      "source": [
        "from sklearn.ensemble import RandomForestClassifier"
      ]
    },
    {
      "cell_type": "code",
      "execution_count": null,
      "id": "b85ec360",
      "metadata": {
        "id": "b85ec360"
      },
      "outputs": [],
      "source": [
        "from sklearn.model_selection import GridSearchCV"
      ]
    },
    {
      "cell_type": "code",
      "execution_count": null,
      "id": "faa6c1fa",
      "metadata": {
        "id": "faa6c1fa"
      },
      "outputs": [],
      "source": [
        " def find_best_params_RF(feature_subset, estimator, param_grid, cv):\n",
        "    \n",
        "    gs_rf_accuracy = GridSearchCV(estimator=estimator, \n",
        "                      param_grid=param_grid, \n",
        "                      cv=cv,\n",
        "                      verbose=1,  # verbose: the higher, the more messages\n",
        "                      scoring='accuracy', \n",
        "                      return_train_score=True)\n",
        "    \n",
        "    \n",
        "    grid_result_accuracy= gs_rf_accuracy.fit(feature_subset, y)\n",
        "    \n",
        "\n",
        "\n",
        "\n",
        "    \n",
        "    return(dict({'accuracy_score':tuple([round(grid_result_accuracy.best_score_,2),\n",
        "                                         grid_result_accuracy.best_params_])}))        \n"
      ]
    },
    {
      "cell_type": "code",
      "execution_count": null,
      "id": "c9dd2897",
      "metadata": {
        "id": "c9dd2897"
      },
      "outputs": [],
      "source": [
        "params_rf = {'n_estimators':[100, 200, 300, 400, 500]\n",
        "            }"
      ]
    },
    {
      "cell_type": "code",
      "execution_count": null,
      "id": "cf793156",
      "metadata": {
        "id": "cf793156",
        "outputId": "f45b79d3-3fe4-4e40-fd38-621d9ca2c93a"
      },
      "outputs": [
        {
          "name": "stdout",
          "output_type": "stream",
          "text": [
            "Fitting 10 folds for each of 5 candidates, totalling 50 fits\n"
          ]
        }
      ],
      "source": [
        "features = ['X1', 'X2', 'X3', 'X4', 'X5', 'X6', 'X7', 'X8', 'X9', 'X10']\n",
        "feature = []\n",
        "accuracy_scores = []\n",
        "n_estimator = []\n",
        "columns = []\n",
        "\n",
        "for i in range(len(X)):\n",
        "    \n",
        "    result_dict =  find_best_params_RF(X[i], RandomForestClassifier(), params_rf, 10)\n",
        "    print(features[i])\n",
        "    print(result_dict)\n",
        "\n",
        "\n",
        "    feature.append(features[i])\n",
        "    columns.append(len(X[i].columns))\n",
        "    n_estimator.append(result_dict['accuracy_score'][1]['n_estimators'])\n",
        "    accuracy_scores.append(result_dict['accuracy_score'][0]) \n",
        "    \n",
        "    \n",
        "    \n",
        "\n",
        "resulting_df = pd.DataFrame({'Feature': feature,\n",
        "                             'Columns': columns,\n",
        "                             'n_estimator': n_estimator,\n",
        "                             'Accuracy Score': accuracy_scores\n",
        "                            })\n",
        "\n",
        "resulting_df\n"
      ]
    },
    {
      "cell_type": "code",
      "execution_count": null,
      "id": "42eee6aa",
      "metadata": {
        "id": "42eee6aa"
      },
      "outputs": [],
      "source": [
        "result = resulting_df[resulting_df['Accuracy Score'] == resulting_df['Accuracy Score'].max()]\n",
        "result\n"
      ]
    },
    {
      "cell_type": "code",
      "execution_count": null,
      "id": "d59c8f29",
      "metadata": {
        "id": "d59c8f29"
      },
      "outputs": [],
      "source": [
        "from sklearn.model_selection import cross_val_score"
      ]
    },
    {
      "cell_type": "code",
      "execution_count": null,
      "id": "240d4cb8",
      "metadata": {
        "id": "240d4cb8"
      },
      "outputs": [],
      "source": [
        "accuracy_scores = []\n",
        "f1_scores = []\n",
        "roc_auc_scores = []\n",
        "log_loss = []\n",
        "variance = []\n",
        "features = ['X1', 'X2', 'X3', 'X4', 'X5', 'X6', 'X7', 'X8', 'X9', 'X10']\n",
        "feature = []\n",
        "columns = []\n",
        "n_estimators = list(result['n_estimator'])\n",
        "n_estimator = []\n",
        "for i in range(len(X)):\n",
        "        rf = RandomForestClassifier(n_estimators=n_estimators[i], oob_score = True,n_jobs = 1,random_state =1)\n",
        "        accuracy_score = cross_val_score(rf, X[i], y, cv=10)\n",
        "    f1_score = cross_val_score(rf, X[i], y, cv=10, scoring='f1')\n",
        "    roc_auc_score = cross_val_score(rf, X[i], y, cv=10, scoring='roc_auc')\n",
        "    loss = cross_val_score(rf, X[i], y, cv=10, scoring='neg_log_loss')\n",
        "    accuracy_scores.append(round(accuracy_score.mean(),2))\n",
        "    f1_scores.append(round(f1_score.mean(),2))\n",
        "    roc_auc_scores.append(round(roc_auc_score.mean(),2))\n",
        "    log_loss.append(round(loss.mean(),2))\n",
        "    variance.append(round(accuracy_score.var(),2))\n",
        "    feature.append(features[i])\n",
        "    columns.append(len(X[i].columns))\n",
        "    n_estimator.append(n_estimators[i])\n",
        "         random_forest_result = pd.DataFrame({'Feature': feature,\n",
        "                                     'Columns': columns,\n",
        "                                     'n_estimator':n_estimator, \n",
        "                                     'Accuracy Score': accuracy_scores,\n",
        "                                     'F1-Score': f1_scores,\n",
        "                                     'roc-auc-score': roc_auc_scores,\n",
        "                                     'Log Loss': log_loss,\n",
        "                                     'Varaince': variance})\n",
        "random_forest_result   "
      ]
    },
    {
      "cell_type": "code",
      "execution_count": null,
      "id": "092b45a9",
      "metadata": {
        "id": "092b45a9"
      },
      "outputs": [],
      "source": [
        "x_train = credit_card_data_sample\n",
        "x_train.drop('Class', axis=1, inplace = True)\n",
        "rf = RandomForestClassifier(n_estimators=n_estimators[i], oob_score = True,\n",
        "                            n_jobs = 1,random_state =1).fit(x_train, y)"
      ]
    },
    {
      "cell_type": "code",
      "execution_count": null,
      "id": "1fd8bc94",
      "metadata": {
        "id": "1fd8bc94"
      },
      "outputs": [],
      "source": [
        "feature_imp = pd.Series(rf.feature_importances_,index=x_train.columns).sort_values(ascending=False)\n",
        "feature_imp"
      ]
    },
    {
      "cell_type": "code",
      "execution_count": null,
      "id": "6b1ba881",
      "metadata": {
        "id": "6b1ba881"
      },
      "outputs": [],
      "source": [
        "import matplotlib.pyplot as plt\n",
        "import seaborn as sns\n",
        "get_ipython().run_line_magic('matplotlib', 'inline')\n",
        "# Creating a bar plot\n",
        "plt.figure(figsize = (16,12))\n",
        "sns.barplot(x=feature_imp, y=feature_imp.index)\n",
        "# Add labels to your graph\n",
        "plt.xlabel('Feature Importance Score')\n",
        "plt.ylabel('Features')\n",
        "plt.title(\"Visualizing Important Features\")\n",
        "plt.legend()\n",
        "plt.show()"
      ]
    },
    {
      "cell_type": "code",
      "execution_count": null,
      "id": "96b85699",
      "metadata": {
        "id": "96b85699"
      },
      "outputs": [],
      "source": [
        "X11 = credit_card_data_sample[['V14', 'V10', 'V12', 'V11', 'V17', 'V4', 'V3', 'V16', 'V7']]\n",
        "X12 = credit_card_data_sample[['V14', 'V10', 'V12', 'V11', 'V17', 'V4', 'V3', 'V16']]\n",
        "X13 = credit_card_data_sample[['V14', 'V10', 'V12', 'V11', 'V17', 'V4', 'V3']]\n",
        "X14 = credit_card_data_sample[['V14', 'V10', 'V12', 'V11', 'V17', 'V4']]\n",
        "X15 = credit_card_data_sample[['V14', 'V10', 'V12', 'V11', 'V17']]\n",
        "XX = [X11, X12, X13, X14, X15]"
      ]
    },
    {
      "cell_type": "code",
      "execution_count": null,
      "id": "ea55313a",
      "metadata": {
        "id": "ea55313a"
      },
      "outputs": [],
      "source": [
        "features = ['X11', 'X12', 'X13', 'X14', 'X15']\n",
        "feature = []\n",
        "accuracy_scores = []\n",
        "n_estimator = []\n",
        "columns = []\n",
        "\n",
        "for i in range(len(XX)):\n",
        "    \n",
        "    result_dict =  find_best_params_RF(XX[i], RandomForestClassifier(), params_rf, 4)\n",
        "    print(features[i])\n",
        "    print(result_dict)\n",
        "\n",
        "\n",
        "    feature.append(features[i])\n",
        "    columns.append(len(XX[i].columns))\n",
        "    n_estimator.append(result_dict['accuracy_score'][1]['n_estimators'])\n",
        "    accuracy_scores.append(result_dict['accuracy_score'][0]) \n",
        "    \n",
        "    \n",
        "    \n",
        "\n",
        "resulting_df = pd.DataFrame({'Feature': feature,\n",
        "                             'Columns': columns,\n",
        "                             'n_estimator': n_estimator,\n",
        "                             'Accuracy Score': accuracy_scores\n",
        "                            })\n",
        "\n",
        "resulting_df\n"
      ]
    },
    {
      "cell_type": "code",
      "execution_count": null,
      "id": "d9c38d79",
      "metadata": {
        "id": "d9c38d79"
      },
      "outputs": [],
      "source": [
        "best_rf_model = random_forest_result\n",
        "best_rf_model"
      ]
    },
    {
      "cell_type": "code",
      "execution_count": null,
      "id": "4f526f3c",
      "metadata": {
        "id": "4f526f3c"
      },
      "outputs": [],
      "source": [
        "test_data = pd.read_csv('ccfd test.csv')\n",
        "test_data.head()"
      ]
    },
    {
      "cell_type": "code",
      "execution_count": null,
      "id": "4444c14c",
      "metadata": {
        "id": "4444c14c"
      },
      "outputs": [],
      "source": [
        "test_data.drop('Unnamed: 0', axis = 1, inplace = True)"
      ]
    },
    {
      "cell_type": "code",
      "execution_count": null,
      "id": "4e5c527e",
      "metadata": {
        "id": "4e5c527e"
      },
      "outputs": [],
      "source": [
        "test_data.head()"
      ]
    },
    {
      "cell_type": "code",
      "execution_count": null,
      "id": "30288422",
      "metadata": {
        "id": "30288422"
      },
      "outputs": [],
      "source": [
        "copied_df = test_data[:].copy()"
      ]
    },
    {
      "cell_type": "code",
      "execution_count": null,
      "id": "4f65c24f",
      "metadata": {
        "id": "4f65c24f"
      },
      "outputs": [],
      "source": [
        "x_test = copied_df[list(X1.columns)]   \n",
        "x_test.head()"
      ]
    },
    {
      "cell_type": "code",
      "execution_count": null,
      "id": "20a546eb",
      "metadata": {
        "id": "20a546eb"
      },
      "outputs": [],
      "source": [
        "y_test = test_data['Class']\n",
        "y_test[:5]"
      ]
    },
    {
      "cell_type": "code",
      "execution_count": null,
      "id": "749db2ea",
      "metadata": {
        "id": "749db2ea"
      },
      "outputs": [],
      "source": [
        "print(len(x_test))\n",
        "print(len(y_test))"
      ]
    },
    {
      "cell_type": "code",
      "execution_count": null,
      "id": "dcc763a6",
      "metadata": {
        "id": "dcc763a6"
      },
      "outputs": [],
      "source": [
        "x_train = X1\n",
        "y_train = y\n",
        "print(len(x_train))\n",
        "print(len(y_train))"
      ]
    },
    {
      "cell_type": "code",
      "execution_count": null,
      "id": "b0164022",
      "metadata": {
        "id": "b0164022"
      },
      "outputs": [],
      "source": [
        "clf=RandomForestClassifier(n_estimators=400, oob_score = True,n_jobs = 1,random_state =1)\n",
        "clf.fit(x_train,y_train)"
      ]
    },
    {
      "cell_type": "code",
      "execution_count": null,
      "id": "02ccffcf",
      "metadata": {
        "id": "02ccffcf"
      },
      "outputs": [],
      "source": [
        "y_pred=clf.predict(x_test)\n",
        "y_pred[:5]"
      ]
    },
    {
      "cell_type": "code",
      "execution_count": null,
      "id": "5ca33d2f",
      "metadata": {
        "id": "5ca33d2f"
      },
      "outputs": [],
      "source": [
        "from sklearn import metrics\n",
        "print(\"Accuracy:\",round(metrics.accuracy_score(y_test, y_pred),2))"
      ]
    },
    {
      "cell_type": "code",
      "execution_count": null,
      "id": "727486b2",
      "metadata": {
        "id": "727486b2"
      },
      "outputs": [],
      "source": [
        "from sklearn.metrics import confusion_matrix"
      ]
    },
    {
      "cell_type": "code",
      "execution_count": null,
      "id": "fd003a97",
      "metadata": {
        "id": "fd003a97"
      },
      "outputs": [],
      "source": [
        "features = ['X1', 'X2', 'X3', 'X4', 'X5', 'X6', 'X7', 'X8', 'X9', 'X10']\n",
        "n_estimators = list(best_rf_model['n_estimator'])\n",
        "accuracy_score = []\n",
        "f1_score = []\n",
        "roc_auc_score = []\n",
        "log_loss = []\n",
        "confusion_matrices = []\n",
        "for i in range(len(X)):\n",
        "    x_train = X[i]\n",
        "    x_test = copied_df[list(X[i].columns)] \n",
        "    clf=RandomForestClassifier(n_estimators=n_estimators[i], oob_score = True,n_jobs = 1,random_state =1)\n",
        "    clf.fit(x_train,y_train)\n",
        "    y_pred=clf.predict(x_test)\n",
        "    accuracy_score.append(round(metrics.accuracy_score(y_test, y_pred),2))\n",
        "    f1_score.append(round(metrics.f1_score(y_test, y_pred),2))\n",
        "    roc_auc_score.append(round(metrics.roc_auc_score(y_test, y_pred),2))\n",
        "    log_loss.append(round(metrics.log_loss(y_test, y_pred),2))\n",
        "    confusion_matrices.append(confusion_matrix(y_test, y_pred, labels=[1,0]))\n",
        "     test_data_result = pd.DataFrame({'Features': features,\n",
        "                                'n_estimators': n_estimators,\n",
        "                                'Accuracy Score': accuracy_score,\n",
        "                                'F1-Score': f1_score,\n",
        "                                'roc_auc_score': roc_auc_score,\n",
        "                                'Log Loss': log_loss,\n",
        "                                'Confusion Matrix': confusion_matrices})\n",
        "test_data_result\n"
      ]
    },
    {
      "cell_type": "code",
      "execution_count": null,
      "id": "c3918014",
      "metadata": {
        "id": "c3918014"
      },
      "outputs": [],
      "source": [
        "best_rf_model_result = test_data_result.loc[[7]]\n",
        "best_rf_model_result.reset_index(inplace = True)\n",
        "best_rf_model_result.drop('index', axis=1,inplace=True)\n",
        "best_rf_model_result"
      ]
    },
    {
      "cell_type": "code",
      "execution_count": null,
      "id": "c638f58c",
      "metadata": {
        "id": "c638f58c"
      },
      "outputs": [],
      "source": [
        "from sklearn.metrics import classification_report, confusion_matrix\n",
        "import itertools\n",
        "def plot_confusion_matrix(cm, classes,\n",
        "                          normalize=False,\n",
        "                          title='Confusion matrix',\n",
        "                          cmap=plt.cm.Blues):\n",
        "    \"\"\"\n",
        "    This function prints and plots the confusion matrix.\n",
        "    Normalization can be applied by setting `normalize=True`.\n",
        "    \"\"\"\n",
        "    if normalize:\n",
        "        cm = cm.astype('float') / cm.sum(axis=1)[:, np.newaxis]\n",
        "        print(\"Normalized confusion matrix\")\n",
        "    else:\n",
        "        print('Confusion matrix, without normalization')\n",
        "    print(cm)\n",
        "\n",
        "    plt.imshow(cm, interpolation='nearest', cmap=cmap)\n",
        "    plt.title(title)\n",
        "    plt.colorbar()\n",
        "    tick_marks = np.arange(len(classes))\n",
        "    plt.xticks(tick_marks, classes, rotation=45)\n",
        "    plt.yticks(tick_marks, classes)\n",
        "    print(len(classes))\n",
        "\n",
        "    fmt = '.2f' if normalize else 'd'\n",
        "    thresh = cm.max() / 2.\n",
        "    for i, j in itertools.product(range(cm.shape[0]), range(cm.shape[1])):\n",
        "        plt.text(j, i, format(cm[i, j], fmt),\n",
        "                 horizontalalignment=\"center\",\n",
        "                 color=\"black\" if cm[i, j] > thresh else \"red\")\n",
        "\n",
        "    plt.tight_layout()\n",
        "    plt.ylabel('True label')\n",
        "    plt.xlabel('Predicted label')\n"
      ]
    },
    {
      "cell_type": "code",
      "execution_count": null,
      "id": "a35e08b5",
      "metadata": {
        "id": "a35e08b5"
      },
      "outputs": [],
      "source": [
        "np.set_printoptions(precision=2)\n",
        "\n",
        "# Plot non-normalized confusion matrix\n",
        "plt.figure()\n",
        "plot_confusion_matrix(best_rf_model_result['Confusion Matrix'][0], classes=['Fraud=1','Not Fraud=0'],normalize= False,  title='Confusion matrix')\n"
      ]
    },
    {
      "cell_type": "code",
      "execution_count": null,
      "id": "95162b11",
      "metadata": {
        "id": "95162b11"
      },
      "outputs": [],
      "source": [
        "import xgboost as xgb\n",
        "import pandas as pd\n",
        "import numpy as np\n",
        "from xgboost.sklearn import XGBClassifier "
      ]
    },
    {
      "cell_type": "code",
      "execution_count": null,
      "id": "ab3d590d",
      "metadata": {
        "id": "ab3d590d"
      },
      "outputs": [],
      "source": [
        "def find_best_params_xgb(feature_subset, estimator, param_grid, cv):\n",
        "        gs_xgb_accuracy = GridSearchCV(estimator=estimator, \n",
        "                      param_grid=param_grid, \n",
        "                      cv=cv,\n",
        "                      verbose=1,  # verbose: the higher, the more messages\n",
        "                      scoring='accuracy', \n",
        "                      return_train_score=True)\n",
        "      grid_result_accuracy= gs_xgb_accuracy.fit(feature_subset, y)\n",
        "      return(dict({'accuracy_score':tuple([round(grid_result_accuracy.best_score_,2),\n",
        "                                         grid_result_accuracy.best_params_])}))\n"
      ]
    },
    {
      "cell_type": "code",
      "execution_count": null,
      "id": "b8a29a79",
      "metadata": {
        "id": "b8a29a79"
      },
      "outputs": [],
      "source": [
        "import numpy as np\n",
        "col_sample_tree_ranges = np.arange(0,1.1,0.1)\n",
        "params_xgb = {\n",
        "              'objective':['binary:logistic'],\n",
        "              'colsample_bytree':col_sample_tree_ranges,\n",
        "              'learning_rate': [0.0001, 0.001, 0.01, 0.1,0.2,0.3,0.4,0.5],\n",
        "              'max_depth': [3,4,5,6,7,8,9,10],\n",
        "              'alpha':[10]\n",
        "                }    \n"
      ]
    },
    {
      "cell_type": "code",
      "execution_count": null,
      "id": "30b4f207",
      "metadata": {
        "id": "30b4f207"
      },
      "outputs": [],
      "source": [
        "features = ['X1', 'X2', 'X3', 'X4', 'X5', 'X6', 'X7', 'X8', 'X9', 'X10']\n",
        "feature = []\n",
        "accuracy_scores = []\n",
        "columns = []\n",
        "other_matrices = []\n",
        "\n",
        "for i in range(len(X)):\n",
        "    \n",
        "    result_dict =  find_best_params_xgb(X[i], XGBClassifier(), params_xgb, 4)\n",
        "    print(features[i])\n",
        "    print(result_dict)\n",
        "\n",
        "    feature.append(features[i])\n",
        "    columns.append(len(X[i].columns))\n",
        "    accuracy_scores.append(result_dict['accuracy_score'][0]) \n",
        "    #other_matrices.append(result_dict[1])\n",
        "      \n",
        "    resulting_df = pd.DataFrame({'Feature': feature,\n",
        "                             'Columns': columns,\n",
        "                             'Accuracy Score': accuracy_scores\n",
        "                            })\n",
        "resulting_df\n"
      ]
    },
    {
      "cell_type": "code",
      "execution_count": null,
      "id": "270bcebd",
      "metadata": {
        "id": "270bcebd"
      },
      "outputs": [],
      "source": [
        "result_dict =  find_best_params_xgb(x_train, XGBClassifier(), params_xgb, 4)"
      ]
    },
    {
      "cell_type": "code",
      "execution_count": null,
      "id": "bf0323f6",
      "metadata": {
        "id": "bf0323f6"
      },
      "outputs": [],
      "source": [
        "result_dict"
      ]
    },
    {
      "cell_type": "code",
      "execution_count": null,
      "id": "601ad647",
      "metadata": {
        "id": "601ad647"
      },
      "outputs": [],
      "source": [
        "xgb = XGBClassifier(n_estimators=300, oob_score = True,\n",
        "                    n_jobs = 1,random_state =1,\n",
        "                    objective = 'binary:logistic',\n",
        "                    colsample_bytree = 0.1,\n",
        "                    learning_rate = 0.3,\n",
        "                    max_depth = 9,\n",
        "                    alpha = 10).fit(x_train, y)\n"
      ]
    },
    {
      "cell_type": "code",
      "execution_count": null,
      "id": "d54ed6d8",
      "metadata": {
        "id": "d54ed6d8"
      },
      "outputs": [],
      "source": [
        "x_train.columns"
      ]
    },
    {
      "cell_type": "code",
      "execution_count": null,
      "id": "58ad9eec",
      "metadata": {
        "id": "58ad9eec"
      },
      "outputs": [],
      "source": [
        "feature_imp = pd.Series(xgb.feature_importances_,index=x_train.columns).sort_values(ascending=False)\n",
        "feature_imp\n"
      ]
    },
    {
      "cell_type": "code",
      "execution_count": null,
      "id": "412fae78",
      "metadata": {
        "id": "412fae78"
      },
      "outputs": [],
      "source": [
        "import matplotlib.pyplot as plt\n",
        "import seaborn as sns\n",
        "get_ipython().run_line_magic('matplotlib', 'inline')\n",
        "# Creating a bar plot\n",
        "plt.figure(figsize = (16,12))\n",
        "sns.barplot(x=feature_imp, y=feature_imp.index)\n",
        "# Add labels to your graph\n",
        "plt.xlabel('Feature Importance Score')\n",
        "plt.ylabel('Features')\n",
        "plt.title(\"Visualizing Important Features\")\n",
        "plt.legend()\n",
        "plt.show()\n"
      ]
    },
    {
      "cell_type": "code",
      "execution_count": null,
      "id": "017c44f0",
      "metadata": {
        "id": "017c44f0"
      },
      "outputs": [],
      "source": [
        "feature_imp.index"
      ]
    },
    {
      "cell_type": "code",
      "execution_count": null,
      "id": "1637df25",
      "metadata": {
        "id": "1637df25"
      },
      "outputs": [],
      "source": [
        "X11 = x_train[['V11', 'V3', 'V9', 'V14', 'V4', 'V19', 'V17', 'V21', 'Time',\n",
        "       'normalizedAmount', 'V2', 'V22', 'V13', 'V20', 'V5', 'V1']]\n",
        "\n",
        "X12 = x_train[['V11', 'V3', 'V9', 'V14', 'V4', 'V19', 'V17', 'V21', 'Time',\n",
        "       'normalizedAmount', 'V2']]\n",
        "\n",
        "X13 = x_train[['V11', 'V3', 'V9', 'V14', 'V4', 'V19', 'V17', 'V21', 'Time']]\n",
        "\n",
        "X14 = x_train[['V11', 'V3', 'V9', 'V14', 'V4', 'V19', 'V17']]\n",
        "\n",
        "X15 = x_train[['V11', 'V3', 'V9', 'V14', 'V4']]\n",
        "\n",
        "X16 = x_train[['V11', 'V3', 'V9', 'V14']]\n",
        "\n",
        "XX = [X11, X12, X13, X14, X15, X16]\n"
      ]
    },
    {
      "cell_type": "code",
      "execution_count": null,
      "id": "f4141600",
      "metadata": {
        "id": "f4141600"
      },
      "outputs": [],
      "source": [
        "for i in range(len(XX)):\n",
        "    result_dict = find_best_params_xgb(XX[i], XGBClassifier(), params_xgb, 4)\n",
        "    print(result_dict)\n"
      ]
    },
    {
      "cell_type": "code",
      "execution_count": null,
      "id": "33713232",
      "metadata": {
        "id": "33713232"
      },
      "outputs": [],
      "source": [
        "alpha = 10\n",
        "colsample_bytree = [0.4,0.3, 0.6,0.5]\n",
        "colsample_bytrees = []\n",
        "learning_rate = [0.1,0.1,0.0001,0.0001]\n",
        "learning_rates = []\n",
        "max_depth = [3,8,6,5]\n",
        "max_depths = []\n",
        "n_estimator = [100,200,300,400,500]\n",
        "n_estimators = []\n",
        "features = ['X13', 'X14','X15', 'X16']\n",
        "XXX = [X13, X14, X15, X16]\n",
        "feature = []\n",
        "accuracy_scores = []\n",
        "variance = []\n",
        "f1_scores = []\n",
        "roc_auc_scores = []\n",
        "log_loss = []\n",
        "columns = []\n",
        "\n",
        "for i in range(len(XXX)):\n",
        "    \n",
        "    for j in range(len(n_estimator)):\n",
        "        \n",
        "        xgb = XGBClassifier(n_estimators=n_estimator[j], oob_score = True,\n",
        "                    n_jobs = 1,random_state =1,\n",
        "                    objective = 'binary:logistic',\n",
        "                    colsample_bytree = colsample_bytree[i],\n",
        "                    learning_rate = learning_rate[i],\n",
        "                    max_depth = max_depth[i],\n",
        "                    alpha = 10).fit(x_train, y)\n",
        "        \n",
        "        accuracy_score = cross_val_score(xgb, XXX[i], y, cv=4)\n",
        "                f1_score = cross_val_score(xgb, XXX[i], y, cv=10, scoring='f1')\n",
        "        roc_auc_score = cross_val_score(xgb, XXX[i], y, cv=10, scoring='roc_auc')\n",
        "        loss = cross_val_score(xgb, XXX[i], y, cv=10, scoring='neg_log_loss')\n",
        "\n",
        "        \n",
        "        \n",
        "        accuracy_scores.append(round(accuracy_score.mean(),2))\n",
        "        variance.append(round(accuracy_score.var(),2))\n",
        "        f1_scores.append(round(f1_score.mean(),2))\n",
        "        roc_auc_scores.append(round(roc_auc_score.mean(),2))\n",
        "        log_loss.append(round(loss.mean(),2))\n",
        "\n",
        "        \n",
        "        colsample_bytrees.append(colsample_bytree[i])\n",
        "        learning_rates.append(learning_rate[i])\n",
        "        max_depths.append(max_depth[i])\n",
        "        n_estimators.append(n_estimator[j])\n",
        "        feature.append(features[i])\n",
        "        columns.append(len(XXX[i].columns))\n",
        "        \n",
        "        \n",
        "xgb_classifier_result = pd.DataFrame({'Feature': feature,\n",
        "                                      'Columns': columns,\n",
        "                                      'colsample_bytree' : colsample_bytrees,\n",
        "                                      'learning_rate': learning_rates,\n",
        "                                      'max depth': max_depths,\n",
        "                                      'n_estimator': n_estimators,\n",
        "                                      'Accuracy Score': accuracy_scores,\n",
        "                                      'F1-Score': f1_scores,\n",
        "                                      'roc-auc-score': roc_auc_scores,\n",
        "                                      'Log Loss': log_loss,\n",
        "                                      'Varaince': variance})\n",
        "xgb_classifier_result\n"
      ]
    },
    {
      "cell_type": "code",
      "execution_count": null,
      "id": "2062d9c7",
      "metadata": {
        "id": "2062d9c7"
      },
      "outputs": [],
      "source": [
        "xgb_classifier_result.loc[[0,1,5,14]]"
      ]
    },
    {
      "cell_type": "code",
      "execution_count": null,
      "id": "0f91161c",
      "metadata": {
        "id": "0f91161c"
      },
      "outputs": [],
      "source": [
        "best_xgb_classifier = xgb_classifier_result.loc[[0,5,14]]\n",
        "best_xgb_classifier\n"
      ]
    },
    {
      "cell_type": "code",
      "execution_count": null,
      "id": "d901ffde",
      "metadata": {
        "id": "d901ffde"
      },
      "outputs": [],
      "source": [
        "features = list(best_xgb_classifier['Feature'])\n",
        "feature = []\n",
        "XXX = [X13, X14, X15]\n",
        "colsample_bytree = list(best_xgb_classifier['colsample_bytree'])\n",
        "colsample_bytrees = []\n",
        "learning_rate = list((best_xgb_classifier['learning_rate']))\n",
        "learning_rates = []\n",
        "max_depth = list(best_xgb_classifier['max depth'])\n",
        "max_depths = []\n",
        "n_estimator = list(best_xgb_classifier['n_estimator'])\n",
        "n_estimators = []\n",
        "\n",
        "\n",
        "columns = []\n",
        "accuracy_score = []\n",
        "f1_score = []\n",
        "roc_auc_score = []\n",
        "log_loss = []\n",
        "confusion_matrices = []\n",
        "\n",
        "for i in range(len(XXX)):\n",
        "    \n",
        "    x_train = XXX[i]\n",
        "    x_test = test_data[list(XXX[i].columns)] \n",
        "    xgb = XGBClassifier(n_estimators=n_estimator[i], oob_score = True,\n",
        "                    n_jobs = 1,random_state =1,\n",
        "                    objective = 'binary:logistic',\n",
        "                    colsample_bytree = colsample_bytree[i],\n",
        "                    learning_rate = learning_rate[i],\n",
        "                    max_depth = max_depth[i],\n",
        "                    alpha = 10)\n",
        "    \n",
        "    xgb.fit(x_train,y_train)\n",
        "    y_pred=xgb.predict(x_test)\n",
        "    \n",
        "    \n",
        "    \n",
        "    accuracy_score.append(round(metrics.accuracy_score(y_test, y_pred),2))\n",
        "    f1_score.append(round(metrics.f1_score(y_test, y_pred),2))\n",
        "    roc_auc_score.append(round(metrics.roc_auc_score(y_test, y_pred),2))\n",
        "    log_loss.append(round(metrics.log_loss(y_test, y_pred),2))\n",
        "    confusion_matrices.append(confusion_matrix(y_test, y_pred, labels=[1,0]))\n",
        "    \n",
        "    colsample_bytrees.append(colsample_bytree[i])\n",
        "    learning_rates.append(learning_rate[i])\n",
        "    max_depths.append(max_depth[i])\n",
        "    n_estimators.append(n_estimator[i])\n",
        "    feature.append(features[i])\n",
        "    \n",
        "    \n",
        "test_data_result = pd.DataFrame({'Features': feature,\n",
        "                                 \n",
        "                                  'colsample_bytree' : colsample_bytrees,\n",
        "                                  'learning_rate': learning_rates,\n",
        "                                  'max depth': max_depths,\n",
        "                                  'n_estimator': n_estimators,\n",
        "                                'Accuracy Score': accuracy_score,\n",
        "                                'F1-Score': f1_score,\n",
        "                                'roc_auc_score': roc_auc_score,\n",
        "                                'Log Loss': log_loss,\n",
        "                                'Confusion Matrix': confusion_matrices})\n",
        "test_data_result\n"
      ]
    },
    {
      "cell_type": "code",
      "execution_count": null,
      "id": "38108070",
      "metadata": {
        "id": "38108070"
      },
      "outputs": [],
      "source": [
        "best_xgb_model_result = test_data_result.loc[[0, 1]]\n",
        "best_xgb_model_result\n"
      ]
    },
    {
      "cell_type": "code",
      "execution_count": null,
      "id": "f3fd8407",
      "metadata": {
        "id": "f3fd8407"
      },
      "outputs": [],
      "source": [
        "# Compute confusion matrix\n",
        "np.set_printoptions(precision=2)\n",
        "\n",
        "\n",
        "# Plot non-normalized confusion matrix\n",
        "plt.figure()\n",
        "plot_confusion_matrix(best_xgb_model_result['Confusion Matrix'][0], classes=['Fraud=1','Not Fraud=0'],normalize= False,  title='Confusion matrix')\n",
        "\n"
      ]
    },
    {
      "cell_type": "code",
      "execution_count": null,
      "id": "907bf5a8",
      "metadata": {
        "id": "907bf5a8"
      },
      "outputs": [],
      "source": [
        "plot_confusion_matrix(best_xgb_model_result['Confusion Matrix'][1], classes=['Fraud=1','Not Fraud=0'],normalize= False,  title='Confusion matrix')\n",
        "\n"
      ]
    },
    {
      "cell_type": "code",
      "execution_count": null,
      "id": "1b5a2cbf",
      "metadata": {
        "id": "1b5a2cbf"
      },
      "outputs": [],
      "source": [
        "best_rf_model_result"
      ]
    },
    {
      "cell_type": "code",
      "execution_count": null,
      "id": "b6fc3459",
      "metadata": {
        "id": "b6fc3459"
      },
      "outputs": [],
      "source": [
        "plot_confusion_matrix(best_rf_model_result['Confusion Matrix'][0], classes=['Fraud=1','Not Fraud=0'],normalize= False,  title='Confusion matrix')"
      ]
    },
    {
      "cell_type": "code",
      "execution_count": null,
      "id": "a2f045a5",
      "metadata": {
        "id": "a2f045a5"
      },
      "outputs": [],
      "source": [
        "best_xgb_model_result"
      ]
    },
    {
      "cell_type": "code",
      "execution_count": null,
      "id": "a8c7d208",
      "metadata": {
        "id": "a8c7d208"
      },
      "outputs": [],
      "source": [
        "plot_confusion_matrix(best_xgb_model_result['Confusion Matrix'][0], classes=['Fraud=1','Not Fraud=0'],normalize= False,  title='Confusion matrix')"
      ]
    },
    {
      "cell_type": "code",
      "execution_count": null,
      "id": "270cd79d",
      "metadata": {
        "id": "270cd79d"
      },
      "outputs": [],
      "source": [
        "plot_confusion_matrix(best_xgb_model_result['Confusion Matrix'][1], classes=['Fraud=1','Not Fraud=0'],normalize= False,  title='Confusion matrix')"
      ]
    }
  ],
  "metadata": {
    "kernelspec": {
      "display_name": "Python 3",
      "language": "python",
      "name": "python3"
    },
    "language_info": {
      "codemirror_mode": {
        "name": "ipython",
        "version": 3
      },
      "file_extension": ".py",
      "mimetype": "text/x-python",
      "name": "python",
      "nbconvert_exporter": "python",
      "pygments_lexer": "ipython3",
      "version": "3.8.8"
    },
    "colab": {
      "provenance": [],
      "include_colab_link": true
    }
  },
  "nbformat": 4,
  "nbformat_minor": 5
}